{
 "cells": [
  {
   "cell_type": "markdown",
   "metadata": {},
   "source": [
    "## Description\n",
    "\n",
    "The aim of this notebook is to preprocess all data from csv files once and for all.\n",
    "The final_data.pkl will be formatted that way:\n",
    "* 'carpol':\n",
    "    * df object with following keys: `date, pressure, humidity, so2_ref, h2s_ref, h2s_0 -> h2s_14 (15pts des 15 dernières minutes), captor_id, t_grad`\n",
    "    \n",
    "\n",
    "    \n"
   ]
  },
  {
   "cell_type": "code",
   "execution_count": 1,
   "metadata": {},
   "outputs": [],
   "source": [
    "import numpy as np\n",
    "import pandas as pd\n",
    "import matplotlib.pyplot as plt\n",
    "import os"
   ]
  },
  {
   "cell_type": "code",
   "execution_count": null,
   "metadata": {},
   "outputs": [],
   "source": [
    "df_ref = pd.read_csv('data/RefInstrument_15minDataSet.csv', delimiter=';')\n",
    "df_ref = df_ref.set_index('date').T  \n",
    "df_pressure = pd.read_csv('data/Patm_15minDataSet.csv', delimiter=',')\n",
    "df_pressure = df_pressure.set_index('date').T  \n",
    "df_grad = pd.read_csv('data/GradientTemp_15minDataSet.csv', delimiter=';')\n",
    "df_grad = df_grad.set_index('date').T"
   ]
  },
  {
   "cell_type": "code",
   "execution_count": null,
   "metadata": {},
   "outputs": [],
   "source": [
    "captors_list_filename = (('data/carpol_1303/1303_15minDataSet.csv', '1303'), ('data/carpol_1304/1304_15minDataSet.csv', '1304'))\n",
    "out_df = pd.DataFrame(columns=['date','humidity', 'temperature', 'pressure', 't_grad', 'so2_ref', 'h2s_ref','h2s','captor_id'])\n",
    "\n",
    "i = 0\n",
    "\n",
    "for filename in captors_list_filename:\n",
    "    df = pd.read_csv(filename[0])\n",
    "    #print(df.head())\n",
    "    for row in df.iterrows():\n",
    "        entry = row[1]\n",
    "        #0: date, 1: h2s, 2: temp, 3: humidity, 4: npoints\n",
    "        try:\n",
    "            date = entry['date']\n",
    "            ref = df_ref[date]\n",
    "            h2s_ref = ref[0]\n",
    "            so2_ref = ref[1]\n",
    "            t_grad = df_grad[date][0]\n",
    "            pressure = df_pressure[date][0]\n",
    "            out_df.loc[i] = [date, entry[3], entry[2], pressure, t_grad, so2_ref, h2s_ref, entry[1], filename[1]]\n",
    "        except:\n",
    "            continue\n",
    "        i += 1\n",
    "        \n",
    "tmp_df = out_df[['h2s', 'pressure', 'temperature', 'humidity', 'so2_ref', 'h2s_ref', 't_grad']].apply(pd.to_numeric, errors=\"coerce\")\n",
    "out_df[['h2s', 'pressure', 'temperature', 'humidity', 'so2_ref', 'h2s_ref', 't_grad']] = tmp_df\n",
    "plt.plot(out_df['h2s'], 'ob')\n",
    "plt.plot(out_df['so2_ref'], 'ro')\n",
    "plt.show()\n",
    "out_df.to_pickle('data/pickles/carpols_15min.pkl')\n",
    "out_df.head()"
   ]
  },
  {
   "cell_type": "code",
   "execution_count": null,
   "metadata": {},
   "outputs": [],
   "source": [
    "tmp_df = out_df[['pressure', 'temperature', 'humidity', 't_grad']]\n",
    "\n",
    "normalized_df = (tmp_df - tmp_df.mean()) / tmp_df.std()\n",
    "out_df[['pressure', 'temperature', 'humidity', 't_grad']] = normalized_df\n",
    "out_df.to_pickle('data/pickles/carpols_15min_normalized.pkl')\n",
    "out_df.tail()"
   ]
  },
  {
   "cell_type": "code",
   "execution_count": null,
   "metadata": {},
   "outputs": [],
   "source": [
    "df_carpol_1303 = pd.read_csv('data/carpol_1303/1303_1minDataSet.csv')\n",
    "df_carpol_1304 = pd.read_csv('data/carpol_1304/1304_1minDataSet.csv')\n",
    "df_ref = pd.read_csv('data/RefInstrument_15minDataSet.csv', delimiter=',')\n",
    "\n",
    "def align_df(df1, df2):\n",
    "    if df1.iloc[0, 0] > df2.iloc[0, 0]:\n",
    "        return align_df(df2, df1)\n",
    "    while df1.iloc[0, 0] < df2.iloc[0, 0]:\n",
    "        df1 = df1.iloc[1:]\n",
    "    while df2.iloc[0, 0] < df1.iloc[0, 0]:\n",
    "        df2 = df2.iloc[1:]\n",
    "    return df1, df2\n",
    "\n",
    "df_ref_1303, df_carpol_1303 = align_df(df_carpol_1303, df_ref)\n",
    "df_ref_1304, df_carpol_1304 = align_df(df_carpol_1304, df_ref)\n",
    "\n",
    "def create_1min_data_set(df_carpol, df_ref, captor):\n",
    "    if df_carpol.iloc[0, 0] != df_ref.iloc[0, 0]:\n",
    "        df_carpol, df_ref = align_df(df_carpol, df_ref)\n",
    "    df = pd.read_csv(os.path.join('data', 'Patm_15minDataSet.csv'))\n",
    "    pressures = df.set_index('date').T\n",
    "    i = 0\n",
    "    out_df = pd.DataFrame(columns=['date','pressure', 'temperature', 'humidity', 't_grad', 'so2_ref', 'h2s', 'h2s_ref','captor_id'])\n",
    "    df_ref = df_ref.iloc[1:]\n",
    "    while len(df_carpol) > 0 and len(df_ref) > 0:\n",
    "        date, h2s_ref, so2_ref = df_ref.iloc[0, 0], df_ref.iloc[0, 1], df_ref.iloc[0, 2]\n",
    "\n",
    "        temperature, humidity = df_carpol.iloc[0, 2], df_carpol.iloc[0, 3]\n",
    "        h2s, temperature, humidity = [], [], []\n",
    "        df_ref = df_ref.iloc[1:]\n",
    "        while df_carpol.iloc[0, 0] < date:\n",
    "            h2s.append(df_carpol.iloc[0, 1])\n",
    "            if df_carpol.iloc[0, 2]:\n",
    "                temperature.append(df_carpol.iloc[0, 2])\n",
    "            if df_carpol.iloc[0, 3]:\n",
    "                humidity.append(df_carpol.iloc[0, 3])\n",
    "            df_carpol = df_carpol.iloc[1:]\n",
    "            if len(df_carpol) == 0:\n",
    "                break\n",
    "        if len(h2s) != 15:\n",
    "            continue\n",
    "        h2s = np.array(h2s)\n",
    "        if date not in pressures:\n",
    "            pressure = None\n",
    "\n",
    "        try:\n",
    "            out_df.loc[i] = [date, df_pressure[date][0], np.mean(temperature), np.mean(humidity), df_grad[date][0], \\\n",
    "                         so2_ref, h2s, h2s_ref, captor]\n",
    "            i += 1\n",
    "        except:\n",
    "            continue\n",
    "    print('OK: {}'.format(captor))\n",
    "    return out_df\n",
    "\n",
    "out_df_1303 = create_1min_data_set(df_carpol_1303, df_ref_1303, '1303')\n",
    "out_df_1304 = create_1min_data_set(df_carpol_1304, df_ref_1304, '1304')\n",
    "\n",
    "out_df = out_df_1303.append(out_df_1304)\n",
    "out_df.to_pickle('data/pickles/carpols_1min.pkl')\n",
    "out_df.head()"
   ]
  },
  {
   "cell_type": "code",
   "execution_count": null,
   "metadata": {},
   "outputs": [],
   "source": []
  }
 ],
 "metadata": {
  "kernelspec": {
   "display_name": "Python 3",
   "language": "python",
   "name": "python3"
  },
  "language_info": {
   "codemirror_mode": {
    "name": "ipython",
    "version": 3
   },
   "file_extension": ".py",
   "mimetype": "text/x-python",
   "name": "python",
   "nbconvert_exporter": "python",
   "pygments_lexer": "ipython3",
   "version": "3.6.1"
  }
 },
 "nbformat": 4,
 "nbformat_minor": 2
}
