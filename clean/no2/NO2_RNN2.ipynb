{
 "cells": [
  {
   "cell_type": "code",
   "execution_count": 1,
   "metadata": {},
   "outputs": [
    {
     "name": "stderr",
     "output_type": "stream",
     "text": [
      "Using TensorFlow backend.\n"
     ]
    }
   ],
   "source": [
    "import numpy as np\n",
    "import pandas as pd\n",
    "import os\n",
    "import matplotlib.pyplot as plt\n",
    "\n",
    "import tensorflow as tf\n",
    "from keras.backend.tensorflow_backend import set_session\n",
    "config = tf.ConfigProto()\n",
    "config.gpu_options.per_process_gpu_memory_fraction = 0.3\n",
    "set_session(tf.Session(config=config))"
   ]
  },
  {
   "cell_type": "code",
   "execution_count": 2,
   "metadata": {},
   "outputs": [
    {
     "data": {
      "text/plain": [
       "['AllNO2_QH.csv',\n",
       " 'AllPM_QH.csv',\n",
       " 'Env_QH.csv',\n",
       " 'GradientTemp_15minDataSet.csv',\n",
       " 'micro_sud3.pkl',\n",
       " 'micro_sud3_normalized.pkl',\n",
       " 'Patm_15minDataSet.csv',\n",
       " 'pickles']"
      ]
     },
     "execution_count": 2,
     "metadata": {},
     "output_type": "execute_result"
    }
   ],
   "source": [
    "os.listdir('data')"
   ]
  },
  {
   "cell_type": "code",
   "execution_count": 3,
   "metadata": {},
   "outputs": [],
   "source": [
    "df = pd.read_pickle('data/micro_sud3_normalized.pkl')\n",
    "df = df.reindex(np.random.permutation(df.index))\n",
    "df = df.reset_index()\n",
    "\n",
    "def split_dataframe(dataframe, percent):\n",
    "    nb_rows = int(np.floor(percent * len(dataframe)))\n",
    "    return dataframe[:nb_rows], dataframe[nb_rows:]\n",
    "\n",
    "def dataframe_to_xy(df, look_back):\n",
    "    i = look_back\n",
    "    while True:\n",
    "        sequence = df.iloc[i - look_back:i]\n",
    "        yield np.array(sequence[['NO2_61FD', 'NO2_61F0', 'NO2_61EF', 'temp', 'rh',\\\n",
    "                                 'tgrad', 'pressure', 'pluvio']]).reshape(look_back, 1, 8) , np.array(sequence['NO2_ref'])\n",
    "        i += 1\n",
    "        if i == len(df):\n",
    "            i = look_back\n",
    "            \n",
    "def dataframe_to_xy_test(df, look_back):\n",
    "    X_test, y_test = [], []\n",
    "    i = look_back\n",
    "    while i < len(df):\n",
    "        sequence = df.iloc[i - look_back:i]\n",
    "        X_test.append(np.array(sequence[['NO2_61FD', 'NO2_61F0', 'NO2_61EF', 'temp', 'rh',\\\n",
    "                                 'tgrad', 'pressure', 'pluvio']]).reshape(look_back, 1, 8))\n",
    "        y_test.append(np.array(df.iloc[i]['NO2_ref']))\n",
    "        i += 1\n",
    "        if i == len(df):\n",
    "            break\n",
    "            \n",
    "    return np.array(X_test), np.array(y_test)\n",
    "            \n",
    "        \n",
    "df_test, df_train = split_dataframe(df, 0.5) \n",
    "df_valid, df_test = split_dataframe(df_test, 0.5)\n",
    "\n",
    "X_train = dataframe_to_xy(df_train, 10)\n",
    "X_valid = dataframe_to_xy(df_valid, 10)\n",
    "X_test, y_test = dataframe_to_xy_test(df_test, 10)"
   ]
  },
  {
   "cell_type": "code",
   "execution_count": 4,
   "metadata": {},
   "outputs": [],
   "source": [
    "def dataframe_to_xy_no_generator(df, look_back):\n",
    "    X, y = [], []\n",
    "    i = look_back\n",
    "    while i < len(df):\n",
    "        sequence = df.iloc[i - look_back:i]\n",
    "        X.append(np.array(sequence[['NO2_61FD', 'NO2_61F0', 'NO2_61EF', 'temp', 'rh',\\\n",
    "                                 'tgrad', 'pressure', 'pluvio']]).reshape(look_back, 1, 8))\n",
    "        y.append(np.array(df.iloc[i]['NO2_ref']))\n",
    "        i += 1\n",
    "        if i == len(df):\n",
    "            break\n",
    "    X = np.array(X)\n",
    "    y = np.array(y)\n",
    "    X = X.reshape((X.shape[0], X.shape[1], X.shape[3]))\n",
    "    return X, y"
   ]
  },
  {
   "cell_type": "code",
   "execution_count": 5,
   "metadata": {},
   "outputs": [],
   "source": [
    "X_train, y_train = dataframe_to_xy_no_generator(df_train, 24)\n",
    "X_valid, y_valid = dataframe_to_xy_no_generator(df_valid, 24)\n",
    "X_test, y_test = dataframe_to_xy_no_generator(df_test, 24)"
   ]
  },
  {
   "cell_type": "code",
   "execution_count": 6,
   "metadata": {},
   "outputs": [],
   "source": [
    "from keras.layers import SimpleRNN, Dense, LSTM, GRU\n",
    "from keras.models import Sequential\n",
    "from keras.callbacks import EarlyStopping\n",
    "\n",
    "def simple_rnn_model(nb_units, input_dim, loss='mean_squared_error', optimizer='adam'):\n",
    "    model = Sequential()\n",
    "    model.add(SimpleRNN(nb_units, input_shape=input_dim))\n",
    "    model.add(Dense(nb_units, activation='relu'))\n",
    "    model.add(Dense(1, kernel_initializer='normal'))\n",
    "    model.compile(loss=loss, optimizer=optimizer)\n",
    "    model.summary()\n",
    "    return model\n",
    "\n",
    "def lstm_model(nb_units, input_dim, loss='mean_squared_error', optimizer='adam'):\n",
    "    model = Sequential()\n",
    "    model.add(LSTM(nb_units, input_shape=input_dim))\n",
    "    model.add(Dense(nb_units, activation='relu'))\n",
    "    model.add(Dense(1, kernel_initializer='normal'))\n",
    "    model.compile(loss=loss, optimizer=optimizer)\n",
    "    model.summary()\n",
    "    return model\n",
    "\n",
    "def gru_model(nb_units, input_dim, loss='mean_squared_error', optimizer='adam'):\n",
    "    model = Sequential()\n",
    "    model.add(GRU(nb_units, input_shape=input_dim))\n",
    "    model.add(Dense(nb_units, activation='relu'))\n",
    "    model.add(Dense(1, kernel_initializer='normal'))\n",
    "    model.compile(loss=loss, optimizer=optimizer)\n",
    "    model.summary()\n",
    "    return model"
   ]
  },
  {
   "cell_type": "code",
   "execution_count": 7,
   "metadata": {},
   "outputs": [
    {
     "name": "stdout",
     "output_type": "stream",
     "text": [
      "_________________________________________________________________\n",
      "Layer (type)                 Output Shape              Param #   \n",
      "=================================================================\n",
      "simple_rnn_1 (SimpleRNN)     (None, 32)                1312      \n",
      "_________________________________________________________________\n",
      "dense_1 (Dense)              (None, 32)                1056      \n",
      "_________________________________________________________________\n",
      "dense_2 (Dense)              (None, 1)                 33        \n",
      "=================================================================\n",
      "Total params: 2,401\n",
      "Trainable params: 2,401\n",
      "Non-trainable params: 0\n",
      "_________________________________________________________________\n"
     ]
    }
   ],
   "source": [
    "model = simple_rnn_model(32, X_train.shape[1:])"
   ]
  },
  {
   "cell_type": "code",
   "execution_count": 8,
   "metadata": {},
   "outputs": [
    {
     "name": "stdout",
     "output_type": "stream",
     "text": [
      "Train on 1103 samples, validate on 539 samples\n",
      "Epoch 1/5000\n",
      "1103/1103 [==============================] - 1s 528us/step - loss: 2586.4411 - val_loss: 2496.8802\n",
      "Epoch 2/5000\n",
      "1103/1103 [==============================] - 0s 145us/step - loss: 2499.1545 - val_loss: 2303.5566\n",
      "Epoch 3/5000\n",
      "1103/1103 [==============================] - 0s 142us/step - loss: 2096.0381 - val_loss: 1652.7320\n",
      "Epoch 4/5000\n",
      "1103/1103 [==============================] - 0s 138us/step - loss: 1456.1172 - val_loss: 1186.2553\n",
      "Epoch 5/5000\n",
      "1103/1103 [==============================] - 0s 164us/step - loss: 1180.1366 - val_loss: 1078.2868\n",
      "Epoch 6/5000\n",
      "1103/1103 [==============================] - 0s 155us/step - loss: 1131.2053 - val_loss: 1058.4533\n",
      "Epoch 7/5000\n",
      "1103/1103 [==============================] - 0s 156us/step - loss: 1103.8334 - val_loss: 1034.2973\n",
      "Epoch 8/5000\n",
      "1103/1103 [==============================] - 0s 134us/step - loss: 1075.7789 - val_loss: 1010.6394\n",
      "Epoch 9/5000\n",
      "1103/1103 [==============================] - 0s 136us/step - loss: 1046.3148 - val_loss: 980.8609\n",
      "Epoch 10/5000\n",
      "1103/1103 [==============================] - 0s 137us/step - loss: 1022.5039 - val_loss: 953.1247\n",
      "Epoch 11/5000\n",
      "1103/1103 [==============================] - 0s 133us/step - loss: 997.4476 - val_loss: 932.6665\n",
      "Epoch 12/5000\n",
      "1103/1103 [==============================] - 0s 139us/step - loss: 977.6401 - val_loss: 918.2817\n",
      "Epoch 13/5000\n",
      "1103/1103 [==============================] - 0s 147us/step - loss: 966.6302 - val_loss: 908.9835\n",
      "Epoch 14/5000\n",
      "1103/1103 [==============================] - 0s 134us/step - loss: 961.9571 - val_loss: 902.1016\n",
      "Epoch 15/5000\n",
      "1103/1103 [==============================] - 0s 142us/step - loss: 956.9233 - val_loss: 898.5740\n",
      "Epoch 16/5000\n",
      "1103/1103 [==============================] - 0s 141us/step - loss: 953.8852 - val_loss: 896.7609\n",
      "Epoch 17/5000\n",
      "1103/1103 [==============================] - 0s 145us/step - loss: 952.5317 - val_loss: 895.7405\n",
      "Epoch 18/5000\n",
      "1103/1103 [==============================] - 0s 138us/step - loss: 951.1972 - val_loss: 895.4136\n",
      "Epoch 19/5000\n",
      "1103/1103 [==============================] - 0s 144us/step - loss: 949.7472 - val_loss: 895.6439\n",
      "Epoch 20/5000\n",
      "1103/1103 [==============================] - 0s 136us/step - loss: 948.9744 - val_loss: 895.9930\n",
      "Epoch 21/5000\n",
      "1103/1103 [==============================] - 0s 136us/step - loss: 948.3796 - val_loss: 895.7693\n",
      "Epoch 22/5000\n",
      "1103/1103 [==============================] - 0s 137us/step - loss: 947.9621 - val_loss: 895.8687\n",
      "Epoch 23/5000\n",
      "1103/1103 [==============================] - 0s 143us/step - loss: 947.3389 - val_loss: 896.0736\n",
      "Epoch 24/5000\n",
      "1103/1103 [==============================] - 0s 131us/step - loss: 946.7545 - val_loss: 896.3577\n",
      "Epoch 25/5000\n",
      "1103/1103 [==============================] - 0s 131us/step - loss: 946.2266 - val_loss: 896.6569\n",
      "Epoch 26/5000\n",
      "1103/1103 [==============================] - 0s 134us/step - loss: 945.6080 - val_loss: 897.2960\n",
      "Epoch 27/5000\n",
      "1103/1103 [==============================] - 0s 135us/step - loss: 945.4295 - val_loss: 897.8753\n",
      "Epoch 28/5000\n",
      "1103/1103 [==============================] - 0s 142us/step - loss: 944.9196 - val_loss: 897.9347\n",
      "Epoch 00028: early stopping\n"
     ]
    }
   ],
   "source": [
    "early_stopping = EarlyStopping(monitor='val_loss', verbose=1, mode='auto', patience=10)\n",
    "history = model.fit(X_train, y_train, batch_size=32, epochs=5000, validation_data=(X_valid, y_valid), callbacks=[early_stopping], verbose=1 ,shuffle=False)"
   ]
  },
  {
   "cell_type": "code",
   "execution_count": 9,
   "metadata": {},
   "outputs": [
    {
     "data": {
      "image/png": "[encoded data removed]",
      "text/plain": [
       "<matplotlib.figure.Figure at 0x7f38d81627f0>"
      ]
     },
     "metadata": {},
     "output_type": "display_data"
    },
    {
     "data": {
      "image/png": "[encoded data removed]",
      "text/plain": [
       "<matplotlib.figure.Figure at 0x7f38a8f5cf60>"
      ]
     },
     "metadata": {},
     "output_type": "display_data"
    }
   ],
   "source": [
    "y_pred = model.predict(X_test)\n",
    "plt.title('Coût et coût de validation')\n",
    "line1,=plt.plot(history.history['loss'], label=\"Loss\", linestyle='-', color='r')\n",
    "line2,=plt.plot(history.history['val_loss'], label=\"Val loss\", linestyle='-', color='b')\n",
    "first_legend = plt.legend(handles=[line1, line2], loc=1)\n",
    "\n",
    "plt.show()\n",
    "\n",
    "plt.title('y_pred en fonction de y_test')\n",
    "\n",
    "plt.plot(y_pred[:], y_test[:], '+')\n",
    "plt.ylabel('Test')\n",
    "plt.xlabel('Prédiction')\n",
    "plt.show()"
   ]
  },
  {
   "cell_type": "code",
   "execution_count": 10,
   "metadata": {},
   "outputs": [
    {
     "name": "stdout",
     "output_type": "stream",
     "text": [
      "_________________________________________________________________\n",
      "Layer (type)                 Output Shape              Param #   \n",
      "=================================================================\n",
      "lstm_1 (LSTM)                (None, 32)                5248      \n",
      "_________________________________________________________________\n",
      "dense_3 (Dense)              (None, 32)                1056      \n",
      "_________________________________________________________________\n",
      "dense_4 (Dense)              (None, 1)                 33        \n",
      "=================================================================\n",
      "Total params: 6,337\n",
      "Trainable params: 6,337\n",
      "Non-trainable params: 0\n",
      "_________________________________________________________________\n"
     ]
    }
   ],
   "source": [
    "model = lstm_model(32, X_train.shape[1:])"
   ]
  },
  {
   "cell_type": "code",
   "execution_count": 11,
   "metadata": {},
   "outputs": [
    {
     "name": "stdout",
     "output_type": "stream",
     "text": [
      "Train on 1103 samples, validate on 539 samples\n",
      "Epoch 1/5000\n",
      "1103/1103 [==============================] - 1s 1ms/step - loss: 2602.0669 - val_loss: 2512.1005\n",
      "Epoch 2/5000\n",
      "1103/1103 [==============================] - 0s 439us/step - loss: 2397.3056 - val_loss: 2046.6439\n",
      "Epoch 3/5000\n",
      "1103/1103 [==============================] - 0s 451us/step - loss: 1767.7182 - val_loss: 1377.6204\n",
      "Epoch 4/5000\n",
      "1103/1103 [==============================] - 0s 448us/step - loss: 1227.0696 - val_loss: 994.6922\n",
      "Epoch 5/5000\n",
      "1103/1103 [==============================] - 1s 455us/step - loss: 994.5223 - val_loss: 900.3121\n",
      "Epoch 6/5000\n",
      "1103/1103 [==============================] - 1s 456us/step - loss: 956.9231 - val_loss: 894.7410\n",
      "Epoch 7/5000\n",
      "1103/1103 [==============================] - 1s 466us/step - loss: 955.1737 - val_loss: 894.3522\n",
      "Epoch 8/5000\n",
      "1103/1103 [==============================] - 0s 421us/step - loss: 954.8576 - val_loss: 894.1412\n",
      "Epoch 9/5000\n",
      "1103/1103 [==============================] - 0s 434us/step - loss: 954.6838 - val_loss: 893.9867\n",
      "Epoch 10/5000\n",
      "1103/1103 [==============================] - 0s 448us/step - loss: 954.4832 - val_loss: 893.7982\n",
      "Epoch 11/5000\n",
      "1103/1103 [==============================] - 0s 449us/step - loss: 954.1601 - val_loss: 893.5444\n",
      "Epoch 12/5000\n",
      "1103/1103 [==============================] - 1s 458us/step - loss: 953.9167 - val_loss: 893.2752\n",
      "Epoch 13/5000\n",
      "1103/1103 [==============================] - 0s 440us/step - loss: 953.6456 - val_loss: 893.0648\n",
      "Epoch 14/5000\n",
      "1103/1103 [==============================] - 0s 438us/step - loss: 953.4636 - val_loss: 892.9003\n",
      "Epoch 15/5000\n",
      "1103/1103 [==============================] - 1s 454us/step - loss: 953.2838 - val_loss: 892.7762\n",
      "Epoch 16/5000\n",
      "1103/1103 [==============================] - 0s 438us/step - loss: 953.1063 - val_loss: 892.6513\n",
      "Epoch 17/5000\n",
      "1103/1103 [==============================] - 1s 456us/step - loss: 952.9415 - val_loss: 892.5717\n",
      "Epoch 18/5000\n",
      "1103/1103 [==============================] - 0s 433us/step - loss: 952.7677 - val_loss: 892.4670\n",
      "Epoch 19/5000\n",
      "1103/1103 [==============================] - 0s 435us/step - loss: 952.5951 - val_loss: 892.3473\n",
      "Epoch 20/5000\n",
      "1103/1103 [==============================] - 0s 431us/step - loss: 952.4357 - val_loss: 892.2853\n",
      "Epoch 21/5000\n",
      "1103/1103 [==============================] - 0s 442us/step - loss: 952.2644 - val_loss: 892.1826\n",
      "Epoch 22/5000\n",
      "1103/1103 [==============================] - 0s 440us/step - loss: 952.1163 - val_loss: 892.0857\n",
      "Epoch 23/5000\n",
      "1103/1103 [==============================] - 0s 433us/step - loss: 951.9791 - val_loss: 891.9825\n",
      "Epoch 24/5000\n",
      "1103/1103 [==============================] - 0s 427us/step - loss: 951.8134 - val_loss: 891.9226\n",
      "Epoch 25/5000\n",
      "1103/1103 [==============================] - 0s 425us/step - loss: 951.6609 - val_loss: 891.7986\n",
      "Epoch 26/5000\n",
      "1103/1103 [==============================] - 0s 438us/step - loss: 951.4890 - val_loss: 891.7115\n",
      "Epoch 27/5000\n",
      "1103/1103 [==============================] - 0s 431us/step - loss: 951.3000 - val_loss: 891.5979\n",
      "Epoch 28/5000\n",
      "1103/1103 [==============================] - 0s 435us/step - loss: 951.0595 - val_loss: 891.5486\n",
      "Epoch 29/5000\n",
      "1103/1103 [==============================] - 0s 431us/step - loss: 950.8856 - val_loss: 891.4687\n",
      "Epoch 30/5000\n",
      "1103/1103 [==============================] - 0s 431us/step - loss: 950.6964 - val_loss: 891.3788\n",
      "Epoch 31/5000\n",
      "1103/1103 [==============================] - 0s 431us/step - loss: 950.5310 - val_loss: 891.2856\n",
      "Epoch 32/5000\n",
      "1103/1103 [==============================] - 0s 433us/step - loss: 950.3660 - val_loss: 891.2149\n",
      "Epoch 33/5000\n",
      "1103/1103 [==============================] - 0s 430us/step - loss: 950.2094 - val_loss: 891.1440\n",
      "Epoch 34/5000\n",
      "1103/1103 [==============================] - 0s 421us/step - loss: 950.0384 - val_loss: 891.0975\n",
      "Epoch 35/5000\n",
      "1103/1103 [==============================] - 0s 443us/step - loss: 949.8884 - val_loss: 891.0371\n",
      "Epoch 36/5000\n",
      "1103/1103 [==============================] - 0s 416us/step - loss: 949.7465 - val_loss: 890.9783\n",
      "Epoch 37/5000\n",
      "1103/1103 [==============================] - 0s 415us/step - loss: 949.5845 - val_loss: 890.9313\n",
      "Epoch 38/5000\n",
      "1103/1103 [==============================] - 0s 415us/step - loss: 949.4621 - val_loss: 890.8642\n",
      "Epoch 39/5000\n",
      "1103/1103 [==============================] - 0s 417us/step - loss: 949.3042 - val_loss: 890.8119\n",
      "Epoch 40/5000\n",
      "1103/1103 [==============================] - 0s 415us/step - loss: 949.1718 - val_loss: 890.7958\n",
      "Epoch 41/5000\n",
      "1103/1103 [==============================] - 0s 417us/step - loss: 949.0282 - val_loss: 890.7534\n",
      "Epoch 42/5000\n",
      "1103/1103 [==============================] - 0s 421us/step - loss: 948.8836 - val_loss: 890.6990\n",
      "Epoch 43/5000\n",
      "1103/1103 [==============================] - 0s 435us/step - loss: 948.7761 - val_loss: 890.6688\n",
      "Epoch 44/5000\n",
      "1103/1103 [==============================] - 0s 414us/step - loss: 948.6360 - val_loss: 890.6363\n",
      "Epoch 45/5000\n",
      "1103/1103 [==============================] - 0s 418us/step - loss: 948.5187 - val_loss: 890.5826\n",
      "Epoch 46/5000\n",
      "1103/1103 [==============================] - 0s 420us/step - loss: 948.3814 - val_loss: 890.5544\n",
      "Epoch 47/5000\n",
      "1103/1103 [==============================] - 0s 433us/step - loss: 948.2810 - val_loss: 890.4988\n",
      "Epoch 48/5000\n",
      "1103/1103 [==============================] - 0s 430us/step - loss: 948.1567 - val_loss: 890.4781\n",
      "Epoch 49/5000\n",
      "1103/1103 [==============================] - 0s 419us/step - loss: 948.0314 - val_loss: 890.4499\n",
      "Epoch 50/5000\n",
      "1103/1103 [==============================] - 1s 458us/step - loss: 947.8954 - val_loss: 890.4222\n",
      "Epoch 51/5000\n",
      "1103/1103 [==============================] - 1s 455us/step - loss: 947.7963 - val_loss: 890.4102\n",
      "Epoch 52/5000\n",
      "1103/1103 [==============================] - 0s 450us/step - loss: 947.6499 - val_loss: 890.3685\n",
      "Epoch 53/5000\n",
      "1103/1103 [==============================] - 0s 426us/step - loss: 947.5570 - val_loss: 890.3469\n",
      "Epoch 54/5000\n",
      "1103/1103 [==============================] - 0s 422us/step - loss: 947.4204 - val_loss: 890.3227\n",
      "Epoch 55/5000\n",
      "1103/1103 [==============================] - 0s 408us/step - loss: 947.3184 - val_loss: 890.3082\n",
      "Epoch 56/5000\n",
      "1103/1103 [==============================] - 0s 423us/step - loss: 947.1945 - val_loss: 890.2804\n",
      "Epoch 57/5000\n",
      "1103/1103 [==============================] - 0s 413us/step - loss: 947.0864 - val_loss: 890.2475\n",
      "Epoch 58/5000\n",
      "1103/1103 [==============================] - 0s 412us/step - loss: 946.9647 - val_loss: 890.2440\n",
      "Epoch 59/5000\n",
      "1103/1103 [==============================] - 0s 411us/step - loss: 946.8399 - val_loss: 890.2235\n",
      "Epoch 60/5000\n",
      "1103/1103 [==============================] - 0s 410us/step - loss: 946.7327 - val_loss: 890.2012\n",
      "Epoch 61/5000\n",
      "1103/1103 [==============================] - 0s 418us/step - loss: 946.6185 - val_loss: 890.1926\n",
      "Epoch 62/5000\n",
      "1103/1103 [==============================] - 0s 450us/step - loss: 946.4953 - val_loss: 890.1686\n",
      "Epoch 63/5000\n",
      "1103/1103 [==============================] - 0s 414us/step - loss: 946.3848 - val_loss: 890.1766\n",
      "Epoch 64/5000\n",
      "1103/1103 [==============================] - 0s 409us/step - loss: 946.2806 - val_loss: 890.1864\n",
      "Epoch 65/5000\n",
      "1103/1103 [==============================] - 0s 416us/step - loss: 946.1581 - val_loss: 890.1652\n",
      "Epoch 66/5000\n",
      "1103/1103 [==============================] - 0s 417us/step - loss: 944.7420 - val_loss: 939.3066\n",
      "Epoch 67/5000\n",
      "1103/1103 [==============================] - 0s 421us/step - loss: 962.2148 - val_loss: 890.1011\n",
      "Epoch 68/5000\n",
      "1103/1103 [==============================] - 0s 417us/step - loss: 947.0721 - val_loss: 890.8077\n",
      "Epoch 69/5000\n",
      "1103/1103 [==============================] - 0s 420us/step - loss: 946.5721 - val_loss: 890.0843\n",
      "Epoch 70/5000\n",
      "1103/1103 [==============================] - 0s 429us/step - loss: 945.1687 - val_loss: 890.2652\n",
      "Epoch 71/5000\n",
      "1103/1103 [==============================] - 0s 406us/step - loss: 944.1939 - val_loss: 890.7517\n",
      "Epoch 72/5000\n",
      "1103/1103 [==============================] - 0s 401us/step - loss: 943.8347 - val_loss: 890.7724\n",
      "Epoch 73/5000\n",
      "1103/1103 [==============================] - 0s 409us/step - loss: 942.9835 - val_loss: 891.1270\n",
      "Epoch 74/5000\n"
     ]
    },
    {
     "name": "stdout",
     "output_type": "stream",
     "text": [
      "1103/1103 [==============================] - 0s 398us/step - loss: 942.3602 - val_loss: 891.3038\n",
      "Epoch 75/5000\n",
      "1103/1103 [==============================] - 0s 413us/step - loss: 941.8355 - val_loss: 891.6430\n",
      "Epoch 76/5000\n",
      "1103/1103 [==============================] - 0s 397us/step - loss: 942.8349 - val_loss: 891.4856\n",
      "Epoch 77/5000\n",
      "1103/1103 [==============================] - 0s 401us/step - loss: 942.1834 - val_loss: 891.8587\n",
      "Epoch 78/5000\n",
      "1103/1103 [==============================] - 0s 415us/step - loss: 941.4496 - val_loss: 892.2174\n",
      "Epoch 79/5000\n",
      "1103/1103 [==============================] - 0s 396us/step - loss: 940.6136 - val_loss: 892.7090\n",
      "Epoch 00079: early stopping\n"
     ]
    }
   ],
   "source": [
    "early_stopping = EarlyStopping(monitor='val_loss', verbose=1, mode='auto', patience=10)\n",
    "history = model.fit(X_train, y_train, batch_size=32, epochs=5000, validation_data=(X_valid, y_valid), callbacks=[early_stopping], verbose=1, shuffle=False)"
   ]
  },
  {
   "cell_type": "code",
   "execution_count": 12,
   "metadata": {},
   "outputs": [
    {
     "data": {
      "image/png": "[encoded data removed]",
      "text/plain": [
       "<matplotlib.figure.Figure at 0x7f38e403dc50>"
      ]
     },
     "metadata": {},
     "output_type": "display_data"
    },
    {
     "data": {
      "image/png": "[encoded data removed]",
      "text/plain": [
       "<matplotlib.figure.Figure at 0x7f38a3737f28>"
      ]
     },
     "metadata": {},
     "output_type": "display_data"
    }
   ],
   "source": [
    "y_pred = model.predict(X_test)\n",
    "plt.title('Coût et coût de validation')\n",
    "line1,=plt.plot(history.history['loss'], label=\"Loss\", linestyle='-', color='r')\n",
    "line2,=plt.plot(history.history['val_loss'], label=\"Val loss\", linestyle='-', color='b')\n",
    "first_legend = plt.legend(handles=[line1, line2], loc=1)\n",
    "\n",
    "plt.show()\n",
    "\n",
    "plt.title('y_pred en fonction de y_test')\n",
    "\n",
    "plt.plot(y_pred[:], y_test[:], '+')\n",
    "plt.ylabel('Test')\n",
    "plt.xlabel('Prédiction')\n",
    "plt.show()"
   ]
  },
  {
   "cell_type": "code",
   "execution_count": 13,
   "metadata": {},
   "outputs": [
    {
     "name": "stdout",
     "output_type": "stream",
     "text": [
      "_________________________________________________________________\n",
      "Layer (type)                 Output Shape              Param #   \n",
      "=================================================================\n",
      "gru_1 (GRU)                  (None, 32)                3936      \n",
      "_________________________________________________________________\n",
      "dense_5 (Dense)              (None, 32)                1056      \n",
      "_________________________________________________________________\n",
      "dense_6 (Dense)              (None, 1)                 33        \n",
      "=================================================================\n",
      "Total params: 5,025\n",
      "Trainable params: 5,025\n",
      "Non-trainable params: 0\n",
      "_________________________________________________________________\n"
     ]
    }
   ],
   "source": [
    "model = gru_model(32, X_train.shape[1:])"
   ]
  },
  {
   "cell_type": "code",
   "execution_count": 14,
   "metadata": {},
   "outputs": [
    {
     "name": "stdout",
     "output_type": "stream",
     "text": [
      "Train on 1103 samples, validate on 539 samples\n",
      "Epoch 1/5000\n",
      "1103/1103 [==============================] - 1s 1ms/step - loss: 2605.0681 - val_loss: 2531.0498\n",
      "Epoch 2/5000\n",
      "1103/1103 [==============================] - 0s 328us/step - loss: 2552.8981 - val_loss: 2347.9252\n",
      "Epoch 3/5000\n",
      "1103/1103 [==============================] - 0s 332us/step - loss: 1990.8319 - val_loss: 1527.0762\n",
      "Epoch 4/5000\n",
      "1103/1103 [==============================] - 0s 327us/step - loss: 1320.8043 - val_loss: 1035.4825\n",
      "Epoch 5/5000\n",
      "1103/1103 [==============================] - 0s 326us/step - loss: 1011.5817 - val_loss: 902.8878\n",
      "Epoch 6/5000\n",
      "1103/1103 [==============================] - 0s 328us/step - loss: 957.9183 - val_loss: 894.8747\n",
      "Epoch 7/5000\n",
      "1103/1103 [==============================] - 0s 329us/step - loss: 955.9760 - val_loss: 894.8449\n",
      "Epoch 8/5000\n",
      "1103/1103 [==============================] - 0s 335us/step - loss: 955.9011 - val_loss: 894.8261\n",
      "Epoch 9/5000\n",
      "1103/1103 [==============================] - 0s 326us/step - loss: 955.8164 - val_loss: 894.7959\n",
      "Epoch 10/5000\n",
      "1103/1103 [==============================] - 0s 328us/step - loss: 955.7115 - val_loss: 894.7502\n",
      "Epoch 11/5000\n",
      "1103/1103 [==============================] - 0s 327us/step - loss: 955.5734 - val_loss: 894.6879\n",
      "Epoch 12/5000\n",
      "1103/1103 [==============================] - 0s 327us/step - loss: 955.3488 - val_loss: 894.5296\n",
      "Epoch 13/5000\n",
      "1103/1103 [==============================] - 0s 329us/step - loss: 954.7831 - val_loss: 893.9556\n",
      "Epoch 14/5000\n",
      "1103/1103 [==============================] - 0s 330us/step - loss: 953.4876 - val_loss: 893.1113\n",
      "Epoch 15/5000\n",
      "1103/1103 [==============================] - 0s 344us/step - loss: 952.5261 - val_loss: 892.6708\n",
      "Epoch 16/5000\n",
      "1103/1103 [==============================] - 0s 327us/step - loss: 951.1643 - val_loss: 892.3380\n",
      "Epoch 17/5000\n",
      "1103/1103 [==============================] - 0s 329us/step - loss: 949.8409 - val_loss: 892.4835\n",
      "Epoch 18/5000\n",
      "1103/1103 [==============================] - 0s 327us/step - loss: 948.5831 - val_loss: 892.7024\n",
      "Epoch 19/5000\n",
      "1103/1103 [==============================] - 0s 327us/step - loss: 947.1857 - val_loss: 892.7698\n",
      "Epoch 20/5000\n",
      "1103/1103 [==============================] - 0s 327us/step - loss: 946.4406 - val_loss: 892.8121\n",
      "Epoch 21/5000\n",
      "1103/1103 [==============================] - 0s 330us/step - loss: 945.6060 - val_loss: 893.0168\n",
      "Epoch 22/5000\n",
      "1103/1103 [==============================] - 0s 327us/step - loss: 944.7546 - val_loss: 893.3061\n",
      "Epoch 23/5000\n",
      "1103/1103 [==============================] - 0s 328us/step - loss: 943.8813 - val_loss: 893.7041\n",
      "Epoch 24/5000\n",
      "1103/1103 [==============================] - 0s 329us/step - loss: 942.9889 - val_loss: 894.3383\n",
      "Epoch 25/5000\n",
      "1103/1103 [==============================] - 0s 329us/step - loss: 941.9872 - val_loss: 895.1799\n",
      "Epoch 26/5000\n",
      "1103/1103 [==============================] - 0s 328us/step - loss: 940.9058 - val_loss: 896.1827\n",
      "Epoch 00026: early stopping\n"
     ]
    }
   ],
   "source": [
    "early_stopping = EarlyStopping(monitor='val_loss', verbose=1, mode='auto', patience=10)\n",
    "history = model.fit(X_train, y_train, batch_size=32, epochs=5000, validation_data=(X_valid, y_valid), callbacks=[early_stopping], verbose=1, shuffle=False)"
   ]
  },
  {
   "cell_type": "code",
   "execution_count": 15,
   "metadata": {},
   "outputs": [
    {
     "data": {
      "image/png": "[encoded data removed]",
      "text/plain": [
       "<matplotlib.figure.Figure at 0x7f38a8eced68>"
      ]
     },
     "metadata": {},
     "output_type": "display_data"
    },
    {
     "data": {
      "image/png": "[encoded data removed]",
      "text/plain": [
       "<matplotlib.figure.Figure at 0x7f38d808ef28>"
      ]
     },
     "metadata": {},
     "output_type": "display_data"
    }
   ],
   "source": [
    "y_pred = model.predict(X_test)\n",
    "plt.title('Coût et coût de validation')\n",
    "line1,=plt.plot(history.history['loss'], label=\"Loss\", linestyle='-', color='r')\n",
    "line2,=plt.plot(history.history['val_loss'], label=\"Val loss\", linestyle='-', color='b')\n",
    "first_legend = plt.legend(handles=[line1, line2], loc=1)\n",
    "\n",
    "plt.show()\n",
    "\n",
    "plt.title('y_pred en fonction de y_test')\n",
    "\n",
    "plt.plot(y_pred[:], y_test[:], '+')\n",
    "plt.ylabel('Test')\n",
    "plt.xlabel('Prédiction')\n",
    "plt.show()"
   ]
  },
  {
   "cell_type": "code",
   "execution_count": null,
   "metadata": {},
   "outputs": [],
   "source": []
  }
 ],
 "metadata": {
  "kernelspec": {
   "display_name": "Python 3",
   "language": "python",
   "name": "python3"
  },
  "language_info": {
   "codemirror_mode": {
    "name": "ipython",
    "version": 3
   },
   "file_extension": ".py",
   "mimetype": "text/x-python",
   "name": "python",
   "nbconvert_exporter": "python",
   "pygments_lexer": "ipython3",
   "version": "3.5.2"
  }
 },
 "nbformat": 4,
 "nbformat_minor": 2
}
