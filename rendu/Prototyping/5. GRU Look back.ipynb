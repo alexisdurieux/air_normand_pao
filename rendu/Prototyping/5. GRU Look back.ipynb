{
 "cells": [
  {
   "cell_type": "code",
   "execution_count": 1,
   "metadata": {},
   "outputs": [
    {
     "name": "stderr",
     "output_type": "stream",
     "text": [
      "Using TensorFlow backend.\n"
     ]
    }
   ],
   "source": [
    "import numpy as np\n",
    "import pandas as pd\n",
    "import os\n",
    "import matplotlib.pyplot as plt\n",
    "%matplotlib inline\n",
    "\n",
    "from keras.models import Sequential\n",
    "from keras.layers import Dense, GRU\n",
    "from keras.callbacks import EarlyStopping\n",
    "from keras.optimizers import Adam"
   ]
  },
  {
   "cell_type": "code",
   "execution_count": 2,
   "metadata": {},
   "outputs": [],
   "source": [
    "DATA_DIR = '../pickles'"
   ]
  },
  {
   "cell_type": "code",
   "execution_count": 3,
   "metadata": {},
   "outputs": [
    {
     "data": {
      "text/html": [
       "<div>\n",
       "<style scoped>\n",
       "    .dataframe tbody tr th:only-of-type {\n",
       "        vertical-align: middle;\n",
       "    }\n",
       "\n",
       "    .dataframe tbody tr th {\n",
       "        vertical-align: top;\n",
       "    }\n",
       "\n",
       "    .dataframe thead th {\n",
       "        text-align: right;\n",
       "    }\n",
       "</style>\n",
       "<table border=\"1\" class=\"dataframe\">\n",
       "  <thead>\n",
       "    <tr style=\"text-align: right;\">\n",
       "      <th></th>\n",
       "      <th>date</th>\n",
       "      <th>ref</th>\n",
       "      <th>NO2_61FD</th>\n",
       "      <th>NO2_61F0</th>\n",
       "      <th>NO2_61EF</th>\n",
       "      <th>rh</th>\n",
       "      <th>t_grad</th>\n",
       "      <th>pressure</th>\n",
       "      <th>temp</th>\n",
       "      <th>pluvio</th>\n",
       "    </tr>\n",
       "  </thead>\n",
       "  <tbody>\n",
       "    <tr>\n",
       "      <th>0</th>\n",
       "      <td>2017-09-28 10:15:00</td>\n",
       "      <td>38.5</td>\n",
       "      <td>-0.324687</td>\n",
       "      <td>-0.487027</td>\n",
       "      <td>0.433465</td>\n",
       "      <td>0.167023</td>\n",
       "      <td>-1.039505</td>\n",
       "      <td>0.375594</td>\n",
       "      <td>0.898638</td>\n",
       "      <td>0.0</td>\n",
       "    </tr>\n",
       "    <tr>\n",
       "      <th>1</th>\n",
       "      <td>2017-09-28 10:30:00</td>\n",
       "      <td>32.3</td>\n",
       "      <td>-0.343192</td>\n",
       "      <td>-0.325877</td>\n",
       "      <td>-0.412283</td>\n",
       "      <td>0.083982</td>\n",
       "      <td>-1.094050</td>\n",
       "      <td>0.375594</td>\n",
       "      <td>0.946776</td>\n",
       "      <td>0.0</td>\n",
       "    </tr>\n",
       "    <tr>\n",
       "      <th>2</th>\n",
       "      <td>2017-09-28 10:45:00</td>\n",
       "      <td>38.5</td>\n",
       "      <td>-0.010107</td>\n",
       "      <td>-0.161505</td>\n",
       "      <td>-0.198236</td>\n",
       "      <td>0.065528</td>\n",
       "      <td>-0.984961</td>\n",
       "      <td>0.375594</td>\n",
       "      <td>0.970844</td>\n",
       "      <td>0.0</td>\n",
       "    </tr>\n",
       "    <tr>\n",
       "      <th>3</th>\n",
       "      <td>2017-09-28 11:00:00</td>\n",
       "      <td>29.7</td>\n",
       "      <td>-0.386370</td>\n",
       "      <td>-0.554710</td>\n",
       "      <td>-0.339194</td>\n",
       "      <td>-0.063647</td>\n",
       "      <td>-0.984961</td>\n",
       "      <td>0.356064</td>\n",
       "      <td>1.091187</td>\n",
       "      <td>0.0</td>\n",
       "    </tr>\n",
       "    <tr>\n",
       "      <th>4</th>\n",
       "      <td>2017-09-28 11:15:00</td>\n",
       "      <td>19.4</td>\n",
       "      <td>-0.386370</td>\n",
       "      <td>-0.422567</td>\n",
       "      <td>-0.412283</td>\n",
       "      <td>-0.146688</td>\n",
       "      <td>-1.203138</td>\n",
       "      <td>0.375594</td>\n",
       "      <td>1.163393</td>\n",
       "      <td>0.0</td>\n",
       "    </tr>\n",
       "    <tr>\n",
       "      <th>5</th>\n",
       "      <td>2017-09-28 11:30:00</td>\n",
       "      <td>10.8</td>\n",
       "      <td>-0.386370</td>\n",
       "      <td>-0.619170</td>\n",
       "      <td>-0.412283</td>\n",
       "      <td>-0.238957</td>\n",
       "      <td>-1.039505</td>\n",
       "      <td>0.375594</td>\n",
       "      <td>1.259668</td>\n",
       "      <td>0.0</td>\n",
       "    </tr>\n",
       "    <tr>\n",
       "      <th>6</th>\n",
       "      <td>2017-09-28 11:45:00</td>\n",
       "      <td>12.4</td>\n",
       "      <td>-0.386370</td>\n",
       "      <td>-0.586940</td>\n",
       "      <td>-0.412283</td>\n",
       "      <td>-0.358905</td>\n",
       "      <td>-1.203138</td>\n",
       "      <td>0.375594</td>\n",
       "      <td>1.283736</td>\n",
       "      <td>0.0</td>\n",
       "    </tr>\n",
       "    <tr>\n",
       "      <th>7</th>\n",
       "      <td>2017-09-28 12:00:00</td>\n",
       "      <td>12.3</td>\n",
       "      <td>-0.386370</td>\n",
       "      <td>-0.619170</td>\n",
       "      <td>-0.412283</td>\n",
       "      <td>-0.405039</td>\n",
       "      <td>-1.148594</td>\n",
       "      <td>0.375594</td>\n",
       "      <td>1.307805</td>\n",
       "      <td>0.0</td>\n",
       "    </tr>\n",
       "    <tr>\n",
       "      <th>8</th>\n",
       "      <td>2017-09-28 12:15:00</td>\n",
       "      <td>9.7</td>\n",
       "      <td>-0.386370</td>\n",
       "      <td>-0.619170</td>\n",
       "      <td>-0.412283</td>\n",
       "      <td>-0.423493</td>\n",
       "      <td>-1.312227</td>\n",
       "      <td>0.356064</td>\n",
       "      <td>1.355942</td>\n",
       "      <td>0.0</td>\n",
       "    </tr>\n",
       "    <tr>\n",
       "      <th>9</th>\n",
       "      <td>2017-09-28 12:30:00</td>\n",
       "      <td>13.8</td>\n",
       "      <td>-0.386370</td>\n",
       "      <td>-0.619170</td>\n",
       "      <td>-0.412283</td>\n",
       "      <td>-0.552668</td>\n",
       "      <td>-1.475859</td>\n",
       "      <td>0.356064</td>\n",
       "      <td>1.548491</td>\n",
       "      <td>0.0</td>\n",
       "    </tr>\n",
       "  </tbody>\n",
       "</table>\n",
       "</div>"
      ],
      "text/plain": [
       "                  date   ref  NO2_61FD  NO2_61F0  NO2_61EF        rh  \\\n",
       "0  2017-09-28 10:15:00  38.5 -0.324687 -0.487027  0.433465  0.167023   \n",
       "1  2017-09-28 10:30:00  32.3 -0.343192 -0.325877 -0.412283  0.083982   \n",
       "2  2017-09-28 10:45:00  38.5 -0.010107 -0.161505 -0.198236  0.065528   \n",
       "3  2017-09-28 11:00:00  29.7 -0.386370 -0.554710 -0.339194 -0.063647   \n",
       "4  2017-09-28 11:15:00  19.4 -0.386370 -0.422567 -0.412283 -0.146688   \n",
       "5  2017-09-28 11:30:00  10.8 -0.386370 -0.619170 -0.412283 -0.238957   \n",
       "6  2017-09-28 11:45:00  12.4 -0.386370 -0.586940 -0.412283 -0.358905   \n",
       "7  2017-09-28 12:00:00  12.3 -0.386370 -0.619170 -0.412283 -0.405039   \n",
       "8  2017-09-28 12:15:00   9.7 -0.386370 -0.619170 -0.412283 -0.423493   \n",
       "9  2017-09-28 12:30:00  13.8 -0.386370 -0.619170 -0.412283 -0.552668   \n",
       "\n",
       "     t_grad  pressure      temp  pluvio  \n",
       "0 -1.039505  0.375594  0.898638     0.0  \n",
       "1 -1.094050  0.375594  0.946776     0.0  \n",
       "2 -0.984961  0.375594  0.970844     0.0  \n",
       "3 -0.984961  0.356064  1.091187     0.0  \n",
       "4 -1.203138  0.375594  1.163393     0.0  \n",
       "5 -1.039505  0.375594  1.259668     0.0  \n",
       "6 -1.203138  0.375594  1.283736     0.0  \n",
       "7 -1.148594  0.375594  1.307805     0.0  \n",
       "8 -1.312227  0.356064  1.355942     0.0  \n",
       "9 -1.475859  0.356064  1.548491     0.0  "
      ]
     },
     "execution_count": 3,
     "metadata": {},
     "output_type": "execute_result"
    }
   ],
   "source": [
    "df = pd.read_pickle(os.path.join(DATA_DIR, 'station1_normalized.pkl'))\n",
    "df.head(10)"
   ]
  },
  {
   "cell_type": "code",
   "execution_count": 4,
   "metadata": {},
   "outputs": [],
   "source": [
    "def from_dataframe_to_xy(df):\n",
    "    return (np.array(df[['NO2_61FD', 'NO2_61F0', 'NO2_61EF', 'temp', 'rh', 't_grad', 'pressure', 'pluvio']]),\n",
    "            np.array(df['ref']))\n",
    "\n",
    "def split_dataframe(dataframe, percent):\n",
    "    nb_rows = int(np.floor(percent * len(dataframe)))\n",
    "    return dataframe[:nb_rows], dataframe[nb_rows:]\n",
    "\n",
    "def dataframe_to_xy_look_back(df, look_back):\n",
    "    X, y = [], []\n",
    "    i = look_back\n",
    "    while i < len(df):\n",
    "        sequence = df.iloc[i - look_back:i]\n",
    "        X.append(np.array(sequence[['NO2_61FD', 'NO2_61F0', 'NO2_61EF', 'temp', 'rh',\\\n",
    "                                 't_grad', 'pressure', 'pluvio']]).reshape(look_back, 1, 8))\n",
    "        y.append(np.array(df.iloc[i]['ref']))\n",
    "        i += 1\n",
    "        if i == len(df):\n",
    "            break\n",
    "    X = np.array(X)\n",
    "    y = np.array(y)\n",
    "    X = X.reshape((X.shape[0], X.shape[1], X.shape[3]))\n",
    "    return X, y"
   ]
  },
  {
   "cell_type": "code",
   "execution_count": 5,
   "metadata": {},
   "outputs": [],
   "source": [
    "def gru(nb_units, input_shape, loss='mse', optimizer='adam'):\n",
    "    model = Sequential()\n",
    "    model.add(GRU(nb_units, input_shape=input_shape, activation='tanh', return_sequences=True))#, recurrent_dropout=1))\n",
    "    model.add(GRU(nb_units, activation='tanh'))#, recurrent_dropout=1))\n",
    "    model.add(Dense(nb_units, activation='relu'))\n",
    "    \n",
    "    opti = Adam(lr=0.0003)\n",
    "    model.add(Dense(1, kernel_initializer='normal', activation='relu'))\n",
    "    model.compile(loss=loss, optimizer=opti)\n",
    "    \n",
    "    return model"
   ]
  },
  {
   "cell_type": "code",
   "execution_count": 6,
   "metadata": {},
   "outputs": [],
   "source": [
    "df_train, df_test = split_dataframe(df, 0.5)\n",
    "df_valid, df_test = split_dataframe(df_test, 0.5)\n",
    "\n",
    "X_train, y_train = dataframe_to_xy_look_back(df_train, 96)\n",
    "X_valid, y_valid = dataframe_to_xy_look_back(df_valid, 96)\n",
    "X_test, y_test = dataframe_to_xy_look_back(df_test, 96)\n"
   ]
  },
  {
   "cell_type": "code",
   "execution_count": 7,
   "metadata": {},
   "outputs": [
    {
     "name": "stdout",
     "output_type": "stream",
     "text": [
      "Train on 1110 samples, validate on 507 samples\n",
      "Epoch 1/1000\n",
      "1110/1110 [==============================] - 101s 91ms/step - loss: 1950.7720 - val_loss: 861.2698\n",
      "Epoch 2/1000\n",
      "1110/1110 [==============================] - 99s 90ms/step - loss: 549.3819 - val_loss: 820.2355\n",
      "Epoch 3/1000\n",
      "1110/1110 [==============================] - 101s 91ms/step - loss: 263.8679 - val_loss: 624.1449\n",
      "Epoch 4/1000\n",
      "1110/1110 [==============================] - 103s 92ms/step - loss: 207.9696 - val_loss: 491.2123\n",
      "Epoch 5/1000\n",
      "1110/1110 [==============================] - 100s 90ms/step - loss: 185.2078 - val_loss: 550.9860\n",
      "Epoch 6/1000\n",
      "1110/1110 [==============================] - 95s 86ms/step - loss: 175.7325 - val_loss: 458.9797\n",
      "Epoch 7/1000\n",
      "1110/1110 [==============================] - 89s 80ms/step - loss: 171.2484 - val_loss: 464.5203\n",
      "Epoch 8/1000\n",
      "1110/1110 [==============================] - 85s 77ms/step - loss: 164.1885 - val_loss: 362.8118\n",
      "Epoch 9/1000\n",
      "1110/1110 [==============================] - 79s 71ms/step - loss: 161.2438 - val_loss: 404.6490\n",
      "Epoch 10/1000\n",
      "1110/1110 [==============================] - 72s 65ms/step - loss: 157.6254 - val_loss: 441.6113\n",
      "Epoch 11/1000\n",
      "1110/1110 [==============================] - 74s 66ms/step - loss: 154.7794 - val_loss: 408.4175\n",
      "Epoch 12/1000\n",
      "1110/1110 [==============================] - 75s 67ms/step - loss: 152.6305 - val_loss: 375.7651\n",
      "Epoch 13/1000\n",
      "1110/1110 [==============================] - 71s 64ms/step - loss: 150.0898 - val_loss: 375.1943\n",
      "Epoch 14/1000\n",
      "1110/1110 [==============================] - 72s 65ms/step - loss: 148.8719 - val_loss: 379.5831\n",
      "Epoch 15/1000\n",
      "1110/1110 [==============================] - 74s 66ms/step - loss: 143.7055 - val_loss: 461.8310\n",
      "Epoch 16/1000\n",
      "1110/1110 [==============================] - 73s 66ms/step - loss: 144.5741 - val_loss: 393.2561\n",
      "Epoch 17/1000\n",
      "1110/1110 [==============================] - 73s 66ms/step - loss: 141.8244 - val_loss: 399.3414\n",
      "Epoch 18/1000\n",
      "1110/1110 [==============================] - 64s 58ms/step - loss: 137.7980 - val_loss: 381.3897\n"
     ]
    }
   ],
   "source": [
    "model = gru(32, X_train.shape[1:])\n",
    "early_stopping = EarlyStopping(patience=10)\n",
    "history = model.fit(X_train, y_train, \\\n",
    "                    batch_size=1, \\\n",
    "                    epochs=1000, \\\n",
    "                    validation_data=(X_valid, y_valid), \\\n",
    "                    callbacks=[early_stopping])"
   ]
  },
  {
   "cell_type": "code",
   "execution_count": 8,
   "metadata": {},
   "outputs": [
    {
     "data": {
      "text/plain": [
       "301.14895077202266"
      ]
     },
     "execution_count": 8,
     "metadata": {},
     "output_type": "execute_result"
    }
   ],
   "source": [
    "model.evaluate(X_test, y_test, verbose=0)"
   ]
  },
  {
   "cell_type": "code",
   "execution_count": 9,
   "metadata": {},
   "outputs": [
    {
     "data": {
      "image/png": "[encoded data removed]",
      "text/plain": [
       "<matplotlib.figure.Figure at 0x7f47631998d0>"
      ]
     },
     "metadata": {},
     "output_type": "display_data"
    },
    {
     "data": {
      "image/png": "[encoded data removed]",
      "text/plain": [
       "<matplotlib.figure.Figure at 0x7f474c6efe80>"
      ]
     },
     "metadata": {},
     "output_type": "display_data"
    }
   ],
   "source": [
    "y_pred = model.predict(X_test)\n",
    "plt.title('Coût et coût de validation')\n",
    "line1,=plt.plot(history.history['loss'], label=\"Loss\", linestyle='-', color='r')\n",
    "line2,=plt.plot(history.history['val_loss'], label=\"Val loss\", linestyle='-', color='b')\n",
    "first_legend = plt.legend(handles=[line1, line2], loc=1)\n",
    "\n",
    "plt.show()\n",
    "\n",
    "plt.title('y_pred en fonction de y_test')\n",
    "\n",
    "plt.plot(y_pred[:], y_test[:], '+')\n",
    "plt.ylabel('Test')\n",
    "plt.xlabel('Prédiction')\n",
    "plt.show()"
   ]
  },
  {
   "cell_type": "code",
   "execution_count": 10,
   "metadata": {},
   "outputs": [],
   "source": [
    "def gru_plus_dense(nb_units, input_shape, loss='mse', optimizer='adam'):\n",
    "    model = Sequential()\n",
    "    model.add(GRU(nb_units, input_shape=input_shape, activation='relu')) \n",
    "    model.add(Dense(nb_units, activation='relu'))\n",
    "    model.add(Dense(1, kernel_initializer='normal', activation='relu'))\n",
    "    opti = Adam(lr=0.0003)\n",
    "    model.compile(loss=loss, optimizer=opti)\n",
    "    \n",
    "    return model"
   ]
  },
  {
   "cell_type": "code",
   "execution_count": 11,
   "metadata": {},
   "outputs": [
    {
     "name": "stdout",
     "output_type": "stream",
     "text": [
      "Train on 1110 samples, validate on 507 samples\n",
      "Epoch 1/1000\n",
      "1110/1110 [==============================] - 36s 32ms/step - loss: 1447.0563 - val_loss: 822.5669\n",
      "Epoch 2/1000\n",
      "1110/1110 [==============================] - 39s 35ms/step - loss: 555.4151 - val_loss: 632.1768\n",
      "Epoch 3/1000\n",
      "1110/1110 [==============================] - 34s 31ms/step - loss: 477.6736 - val_loss: 602.9837\n",
      "Epoch 4/1000\n",
      "1110/1110 [==============================] - 33s 30ms/step - loss: 401.1617 - val_loss: 561.0624\n",
      "Epoch 5/1000\n",
      "1110/1110 [==============================] - 33s 30ms/step - loss: 368.4187 - val_loss: 554.0670\n",
      "Epoch 6/1000\n",
      "1110/1110 [==============================] - 34s 31ms/step - loss: 341.6406 - val_loss: 526.2370\n",
      "Epoch 7/1000\n",
      "1110/1110 [==============================] - 30s 27ms/step - loss: 303.6367 - val_loss: 494.4000\n",
      "Epoch 8/1000\n",
      "1110/1110 [==============================] - 32s 29ms/step - loss: 272.6277 - val_loss: 495.4343\n",
      "Epoch 9/1000\n",
      "1110/1110 [==============================] - 29s 27ms/step - loss: 249.4823 - val_loss: 476.9579\n",
      "Epoch 10/1000\n",
      "1110/1110 [==============================] - 31s 28ms/step - loss: 241.6909 - val_loss: 459.6019\n",
      "Epoch 11/1000\n",
      "1110/1110 [==============================] - 31s 28ms/step - loss: 226.8062 - val_loss: 478.3624\n",
      "Epoch 12/1000\n",
      "1110/1110 [==============================] - 31s 28ms/step - loss: 210.3472 - val_loss: 530.4800\n",
      "Epoch 13/1000\n",
      "1110/1110 [==============================] - 29s 26ms/step - loss: 208.7531 - val_loss: 484.9044\n",
      "Epoch 14/1000\n",
      "1110/1110 [==============================] - 29s 26ms/step - loss: 194.9836 - val_loss: 500.2332\n",
      "Epoch 15/1000\n",
      "1110/1110 [==============================] - 28s 25ms/step - loss: 189.0606 - val_loss: 523.6603\n",
      "Epoch 16/1000\n",
      "1110/1110 [==============================] - 28s 26ms/step - loss: 180.2191 - val_loss: 491.1721\n",
      "Epoch 17/1000\n",
      "1110/1110 [==============================] - 31s 28ms/step - loss: 170.1600 - val_loss: 407.8975\n",
      "Epoch 18/1000\n",
      "1110/1110 [==============================] - 37s 33ms/step - loss: 166.1962 - val_loss: 401.8513\n",
      "Epoch 19/1000\n",
      "1110/1110 [==============================] - 34s 31ms/step - loss: 166.4501 - val_loss: 429.4713\n",
      "Epoch 20/1000\n",
      "1110/1110 [==============================] - 33s 30ms/step - loss: 160.7634 - val_loss: 399.1801\n",
      "Epoch 21/1000\n",
      "1110/1110 [==============================] - 34s 30ms/step - loss: 157.6050 - val_loss: 430.7092\n",
      "Epoch 22/1000\n",
      "1110/1110 [==============================] - 30s 27ms/step - loss: 162.2504 - val_loss: 389.3408\n",
      "Epoch 23/1000\n",
      "1110/1110 [==============================] - 35s 32ms/step - loss: 155.6597 - val_loss: 394.0917\n",
      "Epoch 24/1000\n",
      "1110/1110 [==============================] - 29s 26ms/step - loss: 156.6609 - val_loss: 408.2861\n",
      "Epoch 25/1000\n",
      "1110/1110 [==============================] - 28s 25ms/step - loss: 155.8961 - val_loss: 404.0964\n",
      "Epoch 26/1000\n",
      "1110/1110 [==============================] - 28s 25ms/step - loss: 150.5831 - val_loss: 411.6340\n",
      "Epoch 27/1000\n",
      "1110/1110 [==============================] - 28s 25ms/step - loss: 148.6475 - val_loss: 457.2544\n",
      "Epoch 28/1000\n",
      "1110/1110 [==============================] - 28s 26ms/step - loss: 144.2735 - val_loss: 386.3685\n",
      "Epoch 29/1000\n",
      "1110/1110 [==============================] - 30s 27ms/step - loss: 149.9584 - val_loss: 344.5675\n",
      "Epoch 30/1000\n",
      "1110/1110 [==============================] - 29s 26ms/step - loss: 176.2454 - val_loss: 488.3533\n",
      "Epoch 31/1000\n",
      "1110/1110 [==============================] - 28s 26ms/step - loss: 206.9403 - val_loss: 382.0121\n",
      "Epoch 32/1000\n",
      "1110/1110 [==============================] - 29s 26ms/step - loss: 159.1439 - val_loss: 497.4842\n",
      "Epoch 33/1000\n",
      "1110/1110 [==============================] - 28s 26ms/step - loss: 149.4901 - val_loss: 444.6336\n",
      "Epoch 34/1000\n",
      "1110/1110 [==============================] - 28s 26ms/step - loss: 139.4364 - val_loss: 415.8950\n",
      "Epoch 35/1000\n",
      "1110/1110 [==============================] - 29s 27ms/step - loss: 138.3936 - val_loss: 405.8060\n",
      "Epoch 36/1000\n",
      "1110/1110 [==============================] - 31s 28ms/step - loss: 137.6942 - val_loss: 403.2874\n",
      "Epoch 37/1000\n",
      "1110/1110 [==============================] - 31s 28ms/step - loss: 144.0753 - val_loss: 460.4237\n",
      "Epoch 38/1000\n",
      "1110/1110 [==============================] - 36s 33ms/step - loss: 144.1506 - val_loss: 461.0238\n",
      "Epoch 39/1000\n",
      "1110/1110 [==============================] - 27s 24ms/step - loss: 161.8274 - val_loss: 375.7737\n"
     ]
    }
   ],
   "source": [
    "model = gru_plus_dense(32, X_train.shape[1:])\n",
    "history = model.fit(X_train, y_train, \\\n",
    "                    batch_size=1, \\\n",
    "                    epochs=1000, \\\n",
    "                    validation_data=(X_valid, y_valid), \\\n",
    "                    callbacks=[early_stopping])"
   ]
  },
  {
   "cell_type": "code",
   "execution_count": 12,
   "metadata": {},
   "outputs": [
    {
     "data": {
      "text/plain": [
       "549.80215309924029"
      ]
     },
     "execution_count": 12,
     "metadata": {},
     "output_type": "execute_result"
    }
   ],
   "source": [
    "model.evaluate(X_test, y_test, verbose=0)"
   ]
  },
  {
   "cell_type": "code",
   "execution_count": 13,
   "metadata": {},
   "outputs": [
    {
     "data": {
      "image/png": "[encoded data removed]",
      "text/plain": [
       "<matplotlib.figure.Figure at 0x7f4726639b38>"
      ]
     },
     "metadata": {},
     "output_type": "display_data"
    },
    {
     "data": {
      "image/png": "[encoded data removed]",
      "text/plain": [
       "<matplotlib.figure.Figure at 0x7f4726117208>"
      ]
     },
     "metadata": {},
     "output_type": "display_data"
    }
   ],
   "source": [
    "y_pred = model.predict(X_test)\n",
    "plt.title('Coût et coût de validation')\n",
    "line1,=plt.plot(history.history['loss'], label=\"Loss\", linestyle='-', color='r')\n",
    "line2,=plt.plot(history.history['val_loss'], label=\"Val loss\", linestyle='-', color='b')\n",
    "first_legend = plt.legend(handles=[line1, line2], loc=1)\n",
    "\n",
    "plt.show()\n",
    "\n",
    "plt.title('y_pred en fonction de y_test')\n",
    "\n",
    "plt.plot(y_pred[:], y_test[:], '+')\n",
    "plt.ylabel('Test')\n",
    "plt.xlabel('Prédiction')\n",
    "plt.show()"
   ]
  },
  {
   "cell_type": "code",
   "execution_count": 14,
   "metadata": {},
   "outputs": [
    {
     "data": {
      "text/plain": [
       "604"
      ]
     },
     "execution_count": 14,
     "metadata": {},
     "output_type": "execute_result"
    }
   ],
   "source": [
    "len(df_test)"
   ]
  },
  {
   "cell_type": "code",
   "execution_count": null,
   "metadata": {},
   "outputs": [],
   "source": []
  }
 ],
 "metadata": {
  "kernelspec": {
   "display_name": "Python 3",
   "language": "python",
   "name": "python3"
  },
  "language_info": {
   "codemirror_mode": {
    "name": "ipython",
    "version": 3
   },
   "file_extension": ".py",
   "mimetype": "text/x-python",
   "name": "python",
   "nbconvert_exporter": "python",
   "pygments_lexer": "ipython3",
   "version": "3.5.2"
  }
 },
 "nbformat": 4,
 "nbformat_minor": 2
}
