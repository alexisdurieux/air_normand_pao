{
 "cells": [
  {
   "cell_type": "code",
   "execution_count": 1,
   "metadata": {},
   "outputs": [
    {
     "name": "stderr",
     "output_type": "stream",
     "text": [
      "Using TensorFlow backend.\n"
     ]
    }
   ],
   "source": [
    "import numpy as np\n",
    "import pandas as pd\n",
    "import os\n",
    "import matplotlib.pyplot as plt\n",
    "%matplotlib inline\n",
    "\n",
    "from keras.models import Sequential\n",
    "from keras.layers import Dense, SimpleRNN\n",
    "from keras.callbacks import EarlyStopping"
   ]
  },
  {
   "cell_type": "code",
   "execution_count": 2,
   "metadata": {},
   "outputs": [],
   "source": [
    "DATA_DIR = '../pickles'"
   ]
  },
  {
   "cell_type": "code",
   "execution_count": 3,
   "metadata": {},
   "outputs": [
    {
     "data": {
      "text/html": [
       "<div>\n",
       "<style>\n",
       "    .dataframe thead tr:only-child th {\n",
       "        text-align: right;\n",
       "    }\n",
       "\n",
       "    .dataframe thead th {\n",
       "        text-align: left;\n",
       "    }\n",
       "\n",
       "    .dataframe tbody tr th {\n",
       "        vertical-align: top;\n",
       "    }\n",
       "</style>\n",
       "<table border=\"1\" class=\"dataframe\">\n",
       "  <thead>\n",
       "    <tr style=\"text-align: right;\">\n",
       "      <th></th>\n",
       "      <th>date</th>\n",
       "      <th>ref</th>\n",
       "      <th>NO2_61FD</th>\n",
       "      <th>NO2_61F0</th>\n",
       "      <th>NO2_61EF</th>\n",
       "      <th>rh</th>\n",
       "      <th>t_grad</th>\n",
       "      <th>pressure</th>\n",
       "      <th>temp</th>\n",
       "      <th>pluvio</th>\n",
       "    </tr>\n",
       "  </thead>\n",
       "  <tbody>\n",
       "    <tr>\n",
       "      <th>0</th>\n",
       "      <td>2017-09-28 10:15:00</td>\n",
       "      <td>38.5</td>\n",
       "      <td>-0.324687</td>\n",
       "      <td>-0.487027</td>\n",
       "      <td>0.433465</td>\n",
       "      <td>0.167023</td>\n",
       "      <td>-1.039505</td>\n",
       "      <td>0.375594</td>\n",
       "      <td>0.898638</td>\n",
       "      <td>0.0</td>\n",
       "    </tr>\n",
       "    <tr>\n",
       "      <th>1</th>\n",
       "      <td>2017-09-28 10:30:00</td>\n",
       "      <td>32.3</td>\n",
       "      <td>-0.343192</td>\n",
       "      <td>-0.325877</td>\n",
       "      <td>-0.412283</td>\n",
       "      <td>0.083982</td>\n",
       "      <td>-1.094050</td>\n",
       "      <td>0.375594</td>\n",
       "      <td>0.946776</td>\n",
       "      <td>0.0</td>\n",
       "    </tr>\n",
       "    <tr>\n",
       "      <th>2</th>\n",
       "      <td>2017-09-28 10:45:00</td>\n",
       "      <td>38.5</td>\n",
       "      <td>-0.010107</td>\n",
       "      <td>-0.161505</td>\n",
       "      <td>-0.198236</td>\n",
       "      <td>0.065528</td>\n",
       "      <td>-0.984961</td>\n",
       "      <td>0.375594</td>\n",
       "      <td>0.970844</td>\n",
       "      <td>0.0</td>\n",
       "    </tr>\n",
       "    <tr>\n",
       "      <th>3</th>\n",
       "      <td>2017-09-28 11:00:00</td>\n",
       "      <td>29.7</td>\n",
       "      <td>-0.386370</td>\n",
       "      <td>-0.554710</td>\n",
       "      <td>-0.339194</td>\n",
       "      <td>-0.063647</td>\n",
       "      <td>-0.984961</td>\n",
       "      <td>0.356064</td>\n",
       "      <td>1.091187</td>\n",
       "      <td>0.0</td>\n",
       "    </tr>\n",
       "    <tr>\n",
       "      <th>4</th>\n",
       "      <td>2017-09-28 11:15:00</td>\n",
       "      <td>19.4</td>\n",
       "      <td>-0.386370</td>\n",
       "      <td>-0.422567</td>\n",
       "      <td>-0.412283</td>\n",
       "      <td>-0.146688</td>\n",
       "      <td>-1.203138</td>\n",
       "      <td>0.375594</td>\n",
       "      <td>1.163393</td>\n",
       "      <td>0.0</td>\n",
       "    </tr>\n",
       "    <tr>\n",
       "      <th>5</th>\n",
       "      <td>2017-09-28 11:30:00</td>\n",
       "      <td>10.8</td>\n",
       "      <td>-0.386370</td>\n",
       "      <td>-0.619170</td>\n",
       "      <td>-0.412283</td>\n",
       "      <td>-0.238957</td>\n",
       "      <td>-1.039505</td>\n",
       "      <td>0.375594</td>\n",
       "      <td>1.259668</td>\n",
       "      <td>0.0</td>\n",
       "    </tr>\n",
       "    <tr>\n",
       "      <th>6</th>\n",
       "      <td>2017-09-28 11:45:00</td>\n",
       "      <td>12.4</td>\n",
       "      <td>-0.386370</td>\n",
       "      <td>-0.586940</td>\n",
       "      <td>-0.412283</td>\n",
       "      <td>-0.358905</td>\n",
       "      <td>-1.203138</td>\n",
       "      <td>0.375594</td>\n",
       "      <td>1.283736</td>\n",
       "      <td>0.0</td>\n",
       "    </tr>\n",
       "    <tr>\n",
       "      <th>7</th>\n",
       "      <td>2017-09-28 12:00:00</td>\n",
       "      <td>12.3</td>\n",
       "      <td>-0.386370</td>\n",
       "      <td>-0.619170</td>\n",
       "      <td>-0.412283</td>\n",
       "      <td>-0.405039</td>\n",
       "      <td>-1.148594</td>\n",
       "      <td>0.375594</td>\n",
       "      <td>1.307805</td>\n",
       "      <td>0.0</td>\n",
       "    </tr>\n",
       "    <tr>\n",
       "      <th>8</th>\n",
       "      <td>2017-09-28 12:15:00</td>\n",
       "      <td>9.7</td>\n",
       "      <td>-0.386370</td>\n",
       "      <td>-0.619170</td>\n",
       "      <td>-0.412283</td>\n",
       "      <td>-0.423493</td>\n",
       "      <td>-1.312227</td>\n",
       "      <td>0.356064</td>\n",
       "      <td>1.355942</td>\n",
       "      <td>0.0</td>\n",
       "    </tr>\n",
       "    <tr>\n",
       "      <th>9</th>\n",
       "      <td>2017-09-28 12:30:00</td>\n",
       "      <td>13.8</td>\n",
       "      <td>-0.386370</td>\n",
       "      <td>-0.619170</td>\n",
       "      <td>-0.412283</td>\n",
       "      <td>-0.552668</td>\n",
       "      <td>-1.475859</td>\n",
       "      <td>0.356064</td>\n",
       "      <td>1.548491</td>\n",
       "      <td>0.0</td>\n",
       "    </tr>\n",
       "  </tbody>\n",
       "</table>\n",
       "</div>"
      ],
      "text/plain": [
       "                  date   ref  NO2_61FD  NO2_61F0  NO2_61EF        rh  \\\n",
       "0  2017-09-28 10:15:00  38.5 -0.324687 -0.487027  0.433465  0.167023   \n",
       "1  2017-09-28 10:30:00  32.3 -0.343192 -0.325877 -0.412283  0.083982   \n",
       "2  2017-09-28 10:45:00  38.5 -0.010107 -0.161505 -0.198236  0.065528   \n",
       "3  2017-09-28 11:00:00  29.7 -0.386370 -0.554710 -0.339194 -0.063647   \n",
       "4  2017-09-28 11:15:00  19.4 -0.386370 -0.422567 -0.412283 -0.146688   \n",
       "5  2017-09-28 11:30:00  10.8 -0.386370 -0.619170 -0.412283 -0.238957   \n",
       "6  2017-09-28 11:45:00  12.4 -0.386370 -0.586940 -0.412283 -0.358905   \n",
       "7  2017-09-28 12:00:00  12.3 -0.386370 -0.619170 -0.412283 -0.405039   \n",
       "8  2017-09-28 12:15:00   9.7 -0.386370 -0.619170 -0.412283 -0.423493   \n",
       "9  2017-09-28 12:30:00  13.8 -0.386370 -0.619170 -0.412283 -0.552668   \n",
       "\n",
       "     t_grad  pressure      temp  pluvio  \n",
       "0 -1.039505  0.375594  0.898638     0.0  \n",
       "1 -1.094050  0.375594  0.946776     0.0  \n",
       "2 -0.984961  0.375594  0.970844     0.0  \n",
       "3 -0.984961  0.356064  1.091187     0.0  \n",
       "4 -1.203138  0.375594  1.163393     0.0  \n",
       "5 -1.039505  0.375594  1.259668     0.0  \n",
       "6 -1.203138  0.375594  1.283736     0.0  \n",
       "7 -1.148594  0.375594  1.307805     0.0  \n",
       "8 -1.312227  0.356064  1.355942     0.0  \n",
       "9 -1.475859  0.356064  1.548491     0.0  "
      ]
     },
     "execution_count": 3,
     "metadata": {},
     "output_type": "execute_result"
    }
   ],
   "source": [
    "df = pd.read_pickle(os.path.join(DATA_DIR, 'station1_normalized.pkl'))\n",
    "df.head(10)"
   ]
  },
  {
   "cell_type": "code",
   "execution_count": 4,
   "metadata": {},
   "outputs": [],
   "source": [
    "def from_dataframe_to_xy(df):\n",
    "    return (np.array(df[['NO2_61FD', 'NO2_61F0', 'NO2_61EF', 'temp', 'rh', 't_grad', 'pressure', 'pluvio']]),\n",
    "            np.array(df['ref']))\n",
    "\n",
    "def split_dataframe(dataframe, percent):\n",
    "    nb_rows = int(np.floor(percent * len(dataframe)))\n",
    "    return dataframe[:nb_rows], dataframe[nb_rows:]"
   ]
  },
  {
   "cell_type": "code",
   "execution_count": 5,
   "metadata": {},
   "outputs": [],
   "source": [
    "def rnn(nb_units, input_shape, loss='mse', optimizer='adam'):\n",
    "    model = Sequential()\n",
    "    model.add(SimpleRNN(nb_units, input_shape=input_shape, activation='relu'))#, recurrent_dropout=1))\n",
    "    #model.add(Dense(nb_units, activation='relu'))\n",
    "    model.add(Dense(1, kernel_initializer='normal', activation='relu'))\n",
    "    model.compile(loss=loss, optimizer=optimizer)\n",
    "    \n",
    "    return model"
   ]
  },
  {
   "cell_type": "code",
   "execution_count": 6,
   "metadata": {},
   "outputs": [
    {
     "data": {
      "image/png": "[encoded data removed]",
      "text/plain": [
       "<matplotlib.figure.Figure at 0x1192e90f0>"
      ]
     },
     "metadata": {},
     "output_type": "display_data"
    },
    {
     "data": {
      "image/png": "[encoded data removed]",
      "text/plain": [
       "<matplotlib.figure.Figure at 0x1193a1e80>"
      ]
     },
     "metadata": {},
     "output_type": "display_data"
    },
    {
     "data": {
      "image/png": "[encoded data removed]",
      "text/plain": [
       "<matplotlib.figure.Figure at 0x119463828>"
      ]
     },
     "metadata": {},
     "output_type": "display_data"
    }
   ],
   "source": [
    "df_train, df_test = split_dataframe(df, 0.5)\n",
    "df_valid, df_test = split_dataframe(df_test, 0.5)\n",
    "\n",
    "X_train, y_train = from_dataframe_to_xy(df_train)\n",
    "X_valid, y_valid = from_dataframe_to_xy(df_valid)\n",
    "X_test, y_test = from_dataframe_to_xy(df_test)\n",
    "\n",
    "plt.plot(df_train['ref'], '+r')\n",
    "plt.title('Répartition des données de training')\n",
    "plt.show()\n",
    "\n",
    "plt.plot(df_valid['ref'], '+r')\n",
    "plt.title('Répartition des données de validation')\n",
    "plt.show()\n",
    "\n",
    "plt.plot(df_test['ref'], '+r')\n",
    "plt.title('Répartition des données de test')\n",
    "plt.show()"
   ]
  },
  {
   "cell_type": "code",
   "execution_count": 7,
   "metadata": {},
   "outputs": [],
   "source": [
    "X_train = X_train.reshape((X_train.shape[0], 1, X_train.shape[1]))\n",
    "X_valid= X_valid.reshape((X_valid.shape[0], 1,  X_valid.shape[1]))\n",
    "X_test = X_test.reshape((X_test.shape[0], 1, X_test.shape[1]))"
   ]
  },
  {
   "cell_type": "code",
   "execution_count": 8,
   "metadata": {},
   "outputs": [
    {
     "ename": "NameError",
     "evalue": "name 'X_trainXshape' is not defined",
     "output_type": "error",
     "traceback": [
      "\u001b[0;31m---------------------------------------------------------------------------\u001b[0m",
      "\u001b[0;31mNameError\u001b[0m                                 Traceback (most recent call last)",
      "\u001b[0;32m<ipython-input-8-d4e1b4c3a07e>\u001b[0m in \u001b[0;36m<module>\u001b[0;34m()\u001b[0m\n\u001b[0;32m----> 1\u001b[0;31m \u001b[0mmodel\u001b[0m \u001b[0;34m=\u001b[0m \u001b[0mrnn\u001b[0m\u001b[0;34m(\u001b[0m\u001b[0;36m32\u001b[0m\u001b[0;34m,\u001b[0m \u001b[0mX_trainXshape\u001b[0m\u001b[0;34m[\u001b[0m\u001b[0;36m1\u001b[0m\u001b[0;34m:\u001b[0m\u001b[0;34m]\u001b[0m\u001b[0;34m)\u001b[0m\u001b[0;34m\u001b[0m\u001b[0m\n\u001b[0m\u001b[1;32m      2\u001b[0m \u001b[0mearly_stopping\u001b[0m \u001b[0;34m=\u001b[0m \u001b[0mEarlyStopping\u001b[0m\u001b[0;34m(\u001b[0m\u001b[0mpatience\u001b[0m\u001b[0;34m=\u001b[0m\u001b[0;36m10\u001b[0m\u001b[0;34m)\u001b[0m\u001b[0;34m\u001b[0m\u001b[0m\n\u001b[1;32m      3\u001b[0m \u001b[0mhistory\u001b[0m \u001b[0;34m=\u001b[0m \u001b[0mmodel\u001b[0m\u001b[0;34m.\u001b[0m\u001b[0mfit\u001b[0m\u001b[0;34m(\u001b[0m\u001b[0mX_train\u001b[0m\u001b[0;34m,\u001b[0m \u001b[0my_train\u001b[0m\u001b[0;34m,\u001b[0m                     \u001b[0mbatch_size\u001b[0m\u001b[0;34m=\u001b[0m\u001b[0;36m32\u001b[0m\u001b[0;34m,\u001b[0m                     \u001b[0mepochs\u001b[0m\u001b[0;34m=\u001b[0m\u001b[0;36m1000\u001b[0m\u001b[0;34m,\u001b[0m                     \u001b[0mvalidation_data\u001b[0m\u001b[0;34m=\u001b[0m\u001b[0;34m(\u001b[0m\u001b[0mX_valid\u001b[0m\u001b[0;34m,\u001b[0m \u001b[0my_valid\u001b[0m\u001b[0;34m)\u001b[0m\u001b[0;34m,\u001b[0m                     \u001b[0mcallbacks\u001b[0m\u001b[0;34m=\u001b[0m\u001b[0;34m[\u001b[0m\u001b[0mearly_stopping\u001b[0m\u001b[0;34m]\u001b[0m\u001b[0;34m)\u001b[0m\u001b[0;34m\u001b[0m\u001b[0m\n",
      "\u001b[0;31mNameError\u001b[0m: name 'X_trainXshape' is not defined"
     ]
    }
   ],
   "source": [
    "model = rnn(32, X_train.shape[1:])\n",
    "early_stopping = EarlyStopping(patience=10)\n",
    "history = model.fit(X_train, y_train, \\\n",
    "                    batch_size=32, \\\n",
    "                    epochs=1000, \\\n",
    "                    validation_data=(X_valid, y_valid), \\\n",
    "                    callbacks=[early_stopping])"
   ]
  },
  {
   "cell_type": "code",
   "execution_count": null,
   "metadata": {},
   "outputs": [],
   "source": [
    "model.evaluate(X_test, y_test, verbose=0)"
   ]
  },
  {
   "cell_type": "code",
   "execution_count": null,
   "metadata": {},
   "outputs": [],
   "source": [
    "y_pred = model.predict(X_test)\n",
    "plt.title('Coût et coût de validation')\n",
    "line1,=plt.plot(history.history['loss'], label=\"Loss\", linestyle='-', color='r')\n",
    "line2,=plt.plot(history.history['val_loss'], label=\"Val loss\", linestyle='-', color='b')\n",
    "first_legend = plt.legend(handles=[line1, line2], loc=1)\n",
    "\n",
    "plt.show()\n",
    "\n",
    "plt.title('y_pred en fonction de y_test')\n",
    "\n",
    "plt.plot(y_pred[:], y_test[:], '+')\n",
    "plt.ylabel('Test')\n",
    "plt.xlabel('Prédiction')\n",
    "plt.show()"
   ]
  },
  {
   "cell_type": "code",
   "execution_count": null,
   "metadata": {},
   "outputs": [],
   "source": []
  },
  {
   "cell_type": "code",
   "execution_count": null,
   "metadata": {},
   "outputs": [],
   "source": []
  }
 ],
 "metadata": {
  "kernelspec": {
   "display_name": "Python 3",
   "language": "python",
   "name": "python3"
  },
  "language_info": {
   "codemirror_mode": {
    "name": "ipython",
    "version": 3
   },
   "file_extension": ".py",
   "mimetype": "text/x-python",
   "name": "python",
   "nbconvert_exporter": "python",
   "pygments_lexer": "ipython3",
   "version": "3.6.1"
  }
 },
 "nbformat": 4,
 "nbformat_minor": 2
}
