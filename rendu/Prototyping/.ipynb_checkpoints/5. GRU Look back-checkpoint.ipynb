{
 "cells": [
  {
   "cell_type": "code",
   "execution_count": 1,
   "metadata": {},
   "outputs": [
    {
     "name": "stderr",
     "output_type": "stream",
     "text": [
      "Using TensorFlow backend.\n"
     ]
    }
   ],
   "source": [
    "import numpy as np\n",
    "import pandas as pd\n",
    "import os\n",
    "import matplotlib.pyplot as plt\n",
    "%matplotlib inline\n",
    "\n",
    "from keras.models import Sequential\n",
    "from keras.layers import Dense, GRU\n",
    "from keras.callbacks import EarlyStopping\n",
    "from keras.optimizers import Adam"
   ]
  },
  {
   "cell_type": "code",
   "execution_count": 2,
   "metadata": {},
   "outputs": [],
   "source": [
    "DATA_DIR = '../pickles'"
   ]
  },
  {
   "cell_type": "code",
   "execution_count": 3,
   "metadata": {},
   "outputs": [
    {
     "data": {
      "text/html": [
       "<div>\n",
       "<style scoped>\n",
       "    .dataframe tbody tr th:only-of-type {\n",
       "        vertical-align: middle;\n",
       "    }\n",
       "\n",
       "    .dataframe tbody tr th {\n",
       "        vertical-align: top;\n",
       "    }\n",
       "\n",
       "    .dataframe thead th {\n",
       "        text-align: right;\n",
       "    }\n",
       "</style>\n",
       "<table border=\"1\" class=\"dataframe\">\n",
       "  <thead>\n",
       "    <tr style=\"text-align: right;\">\n",
       "      <th></th>\n",
       "      <th>date</th>\n",
       "      <th>ref</th>\n",
       "      <th>NO2_61FD</th>\n",
       "      <th>NO2_61F0</th>\n",
       "      <th>NO2_61EF</th>\n",
       "      <th>rh</th>\n",
       "      <th>t_grad</th>\n",
       "      <th>pressure</th>\n",
       "      <th>temp</th>\n",
       "      <th>pluvio</th>\n",
       "    </tr>\n",
       "  </thead>\n",
       "  <tbody>\n",
       "    <tr>\n",
       "      <th>0</th>\n",
       "      <td>2017-09-28 10:15:00</td>\n",
       "      <td>38.5</td>\n",
       "      <td>-0.324687</td>\n",
       "      <td>-0.487027</td>\n",
       "      <td>0.433465</td>\n",
       "      <td>0.167023</td>\n",
       "      <td>-1.039505</td>\n",
       "      <td>0.375594</td>\n",
       "      <td>0.898638</td>\n",
       "      <td>0.0</td>\n",
       "    </tr>\n",
       "    <tr>\n",
       "      <th>1</th>\n",
       "      <td>2017-09-28 10:30:00</td>\n",
       "      <td>32.3</td>\n",
       "      <td>-0.343192</td>\n",
       "      <td>-0.325877</td>\n",
       "      <td>-0.412283</td>\n",
       "      <td>0.083982</td>\n",
       "      <td>-1.094050</td>\n",
       "      <td>0.375594</td>\n",
       "      <td>0.946776</td>\n",
       "      <td>0.0</td>\n",
       "    </tr>\n",
       "    <tr>\n",
       "      <th>2</th>\n",
       "      <td>2017-09-28 10:45:00</td>\n",
       "      <td>38.5</td>\n",
       "      <td>-0.010107</td>\n",
       "      <td>-0.161505</td>\n",
       "      <td>-0.198236</td>\n",
       "      <td>0.065528</td>\n",
       "      <td>-0.984961</td>\n",
       "      <td>0.375594</td>\n",
       "      <td>0.970844</td>\n",
       "      <td>0.0</td>\n",
       "    </tr>\n",
       "    <tr>\n",
       "      <th>3</th>\n",
       "      <td>2017-09-28 11:00:00</td>\n",
       "      <td>29.7</td>\n",
       "      <td>-0.386370</td>\n",
       "      <td>-0.554710</td>\n",
       "      <td>-0.339194</td>\n",
       "      <td>-0.063647</td>\n",
       "      <td>-0.984961</td>\n",
       "      <td>0.356064</td>\n",
       "      <td>1.091187</td>\n",
       "      <td>0.0</td>\n",
       "    </tr>\n",
       "    <tr>\n",
       "      <th>4</th>\n",
       "      <td>2017-09-28 11:15:00</td>\n",
       "      <td>19.4</td>\n",
       "      <td>-0.386370</td>\n",
       "      <td>-0.422567</td>\n",
       "      <td>-0.412283</td>\n",
       "      <td>-0.146688</td>\n",
       "      <td>-1.203138</td>\n",
       "      <td>0.375594</td>\n",
       "      <td>1.163393</td>\n",
       "      <td>0.0</td>\n",
       "    </tr>\n",
       "    <tr>\n",
       "      <th>5</th>\n",
       "      <td>2017-09-28 11:30:00</td>\n",
       "      <td>10.8</td>\n",
       "      <td>-0.386370</td>\n",
       "      <td>-0.619170</td>\n",
       "      <td>-0.412283</td>\n",
       "      <td>-0.238957</td>\n",
       "      <td>-1.039505</td>\n",
       "      <td>0.375594</td>\n",
       "      <td>1.259668</td>\n",
       "      <td>0.0</td>\n",
       "    </tr>\n",
       "    <tr>\n",
       "      <th>6</th>\n",
       "      <td>2017-09-28 11:45:00</td>\n",
       "      <td>12.4</td>\n",
       "      <td>-0.386370</td>\n",
       "      <td>-0.586940</td>\n",
       "      <td>-0.412283</td>\n",
       "      <td>-0.358905</td>\n",
       "      <td>-1.203138</td>\n",
       "      <td>0.375594</td>\n",
       "      <td>1.283736</td>\n",
       "      <td>0.0</td>\n",
       "    </tr>\n",
       "    <tr>\n",
       "      <th>7</th>\n",
       "      <td>2017-09-28 12:00:00</td>\n",
       "      <td>12.3</td>\n",
       "      <td>-0.386370</td>\n",
       "      <td>-0.619170</td>\n",
       "      <td>-0.412283</td>\n",
       "      <td>-0.405039</td>\n",
       "      <td>-1.148594</td>\n",
       "      <td>0.375594</td>\n",
       "      <td>1.307805</td>\n",
       "      <td>0.0</td>\n",
       "    </tr>\n",
       "    <tr>\n",
       "      <th>8</th>\n",
       "      <td>2017-09-28 12:15:00</td>\n",
       "      <td>9.7</td>\n",
       "      <td>-0.386370</td>\n",
       "      <td>-0.619170</td>\n",
       "      <td>-0.412283</td>\n",
       "      <td>-0.423493</td>\n",
       "      <td>-1.312227</td>\n",
       "      <td>0.356064</td>\n",
       "      <td>1.355942</td>\n",
       "      <td>0.0</td>\n",
       "    </tr>\n",
       "    <tr>\n",
       "      <th>9</th>\n",
       "      <td>2017-09-28 12:30:00</td>\n",
       "      <td>13.8</td>\n",
       "      <td>-0.386370</td>\n",
       "      <td>-0.619170</td>\n",
       "      <td>-0.412283</td>\n",
       "      <td>-0.552668</td>\n",
       "      <td>-1.475859</td>\n",
       "      <td>0.356064</td>\n",
       "      <td>1.548491</td>\n",
       "      <td>0.0</td>\n",
       "    </tr>\n",
       "  </tbody>\n",
       "</table>\n",
       "</div>"
      ],
      "text/plain": [
       "                  date   ref  NO2_61FD  NO2_61F0  NO2_61EF        rh  \\\n",
       "0  2017-09-28 10:15:00  38.5 -0.324687 -0.487027  0.433465  0.167023   \n",
       "1  2017-09-28 10:30:00  32.3 -0.343192 -0.325877 -0.412283  0.083982   \n",
       "2  2017-09-28 10:45:00  38.5 -0.010107 -0.161505 -0.198236  0.065528   \n",
       "3  2017-09-28 11:00:00  29.7 -0.386370 -0.554710 -0.339194 -0.063647   \n",
       "4  2017-09-28 11:15:00  19.4 -0.386370 -0.422567 -0.412283 -0.146688   \n",
       "5  2017-09-28 11:30:00  10.8 -0.386370 -0.619170 -0.412283 -0.238957   \n",
       "6  2017-09-28 11:45:00  12.4 -0.386370 -0.586940 -0.412283 -0.358905   \n",
       "7  2017-09-28 12:00:00  12.3 -0.386370 -0.619170 -0.412283 -0.405039   \n",
       "8  2017-09-28 12:15:00   9.7 -0.386370 -0.619170 -0.412283 -0.423493   \n",
       "9  2017-09-28 12:30:00  13.8 -0.386370 -0.619170 -0.412283 -0.552668   \n",
       "\n",
       "     t_grad  pressure      temp  pluvio  \n",
       "0 -1.039505  0.375594  0.898638     0.0  \n",
       "1 -1.094050  0.375594  0.946776     0.0  \n",
       "2 -0.984961  0.375594  0.970844     0.0  \n",
       "3 -0.984961  0.356064  1.091187     0.0  \n",
       "4 -1.203138  0.375594  1.163393     0.0  \n",
       "5 -1.039505  0.375594  1.259668     0.0  \n",
       "6 -1.203138  0.375594  1.283736     0.0  \n",
       "7 -1.148594  0.375594  1.307805     0.0  \n",
       "8 -1.312227  0.356064  1.355942     0.0  \n",
       "9 -1.475859  0.356064  1.548491     0.0  "
      ]
     },
     "execution_count": 3,
     "metadata": {},
     "output_type": "execute_result"
    }
   ],
   "source": [
    "df = pd.read_pickle(os.path.join(DATA_DIR, 'station1_normalized.pkl'))\n",
    "df.head(10)"
   ]
  },
  {
   "cell_type": "code",
   "execution_count": 16,
   "metadata": {},
   "outputs": [],
   "source": [
    "def from_dataframe_to_xy(df):\n",
    "    return (np.array(df[['NO2_61FD', 'NO2_61F0', 'NO2_61EF', 'temp', 'rh', 't_grad', 'pressure', 'pluvio']]),\n",
    "            np.array(df['ref']))\n",
    "\n",
    "def split_dataframe(dataframe, percent):\n",
    "    nb_rows = int(np.floor(percent * len(dataframe)))\n",
    "    return dataframe[:nb_rows], dataframe[nb_rows:]\n",
    "\n",
    "def dataframe_to_xy_look_back(df, look_back):\n",
    "    X, y = [], []\n",
    "    i = look_back\n",
    "    while i < len(df):\n",
    "        sequence = df.iloc[i - look_back:i]\n",
    "        X.append(np.array(sequence[['NO2_61FD', 'NO2_61F0', 'NO2_61EF', 'temp', 'rh',\\\n",
    "                                 't_grad', 'pressure', 'pluvio']]).reshape(look_back, 1, 8))\n",
    "        y.append(np.array(df.iloc[i]['ref']))\n",
    "        i += 1\n",
    "        if i == len(df):\n",
    "            break\n",
    "    X = np.array(X)\n",
    "    y = np.array(y)\n",
    "    X = X.reshape((X.shape[0], X.shape[1], X.shape[3]))\n",
    "    return X, y"
   ]
  },
  {
   "cell_type": "code",
   "execution_count": 5,
   "metadata": {},
   "outputs": [],
   "source": [
    "def gru(nb_units, input_shape, loss='mse', optimizer='adam'):\n",
    "    model = Sequential()\n",
    "    model.add(GRU(nb_units, input_shape=input_shape, activation='tanh', return_sequences=True))#, recurrent_dropout=1))\n",
    "    model.add(GRU(nb_units, activation='tanh'))#, recurrent_dropout=1))\n",
    "    model.add(Dense(nb_units, activation='relu'))\n",
    "    \n",
    "    opti = Adam(lr=0.0003)\n",
    "    model.add(Dense(1, kernel_initializer='normal', activation='relu'))\n",
    "    model.compile(loss=loss, optimizer=opti)\n",
    "    \n",
    "    return model"
   ]
  },
  {
   "cell_type": "code",
   "execution_count": 18,
   "metadata": {},
   "outputs": [
    {
     "data": {
      "text/plain": [
       "(6, 96, 8)"
      ]
     },
     "execution_count": 18,
     "metadata": {},
     "output_type": "execute_result"
    }
   ],
   "source": [
    "df_train, df_test = split_dataframe(df, 0.5)\n",
    "df_valid, df_test = split_dataframe(df_test, 0.5)\n",
    "\n",
    "X_train, y_train = dataframe_to_xy_look_back(df_train, 96)\n",
    "X_valid, y_valid = dataframe_to_xy_look_back(df_valid, 96)\n",
    "X_test, y_test = dataframe_to_xy_look_back(df_test, 96)\n"
   ]
  },
  {
   "cell_type": "code",
   "execution_count": 7,
   "metadata": {},
   "outputs": [
    {
     "name": "stdout",
     "output_type": "stream",
     "text": [
      "Train on 12 samples, validate on 6 samples\n",
      "Epoch 1/1000\n",
      "12/12 [==============================] - 2s 203ms/step - loss: 4432.9645 - val_loss: 2128.7310\n",
      "Epoch 2/1000\n",
      "12/12 [==============================] - 1s 89ms/step - loss: 4431.0634 - val_loss: 2128.6352\n",
      "Epoch 3/1000\n",
      "12/12 [==============================] - 1s 89ms/step - loss: 4426.2572 - val_loss: 2128.5543\n",
      "Epoch 4/1000\n",
      "12/12 [==============================] - 1s 91ms/step - loss: 4418.6762 - val_loss: 2128.2116\n",
      "Epoch 5/1000\n",
      "12/12 [==============================] - 1s 91ms/step - loss: 4409.2553 - val_loss: 2127.3893\n",
      "Epoch 6/1000\n",
      "12/12 [==============================] - 1s 90ms/step - loss: 4398.2807 - val_loss: 2126.4805\n",
      "Epoch 7/1000\n",
      "12/12 [==============================] - 1s 89ms/step - loss: 4382.3939 - val_loss: 2125.4995\n",
      "Epoch 8/1000\n",
      "12/12 [==============================] - 1s 89ms/step - loss: 4358.9871 - val_loss: 2124.3256\n",
      "Epoch 9/1000\n",
      "12/12 [==============================] - 1s 89ms/step - loss: 4325.8718 - val_loss: 2122.3160\n",
      "Epoch 10/1000\n",
      "12/12 [==============================] - 1s 89ms/step - loss: 4284.0155 - val_loss: 2118.8901\n",
      "Epoch 11/1000\n",
      "12/12 [==============================] - 1s 89ms/step - loss: 4227.2612 - val_loss: 2113.9164\n",
      "Epoch 12/1000\n",
      "12/12 [==============================] - 1s 89ms/step - loss: 4172.3355 - val_loss: 2106.2230\n",
      "Epoch 13/1000\n",
      "12/12 [==============================] - 1s 89ms/step - loss: 4110.6333 - val_loss: 2093.2971\n",
      "Epoch 14/1000\n",
      "12/12 [==============================] - 1s 89ms/step - loss: 4046.5913 - val_loss: 2078.2003\n",
      "Epoch 15/1000\n",
      "12/12 [==============================] - 1s 91ms/step - loss: 3978.2767 - val_loss: 2064.1115\n",
      "Epoch 16/1000\n",
      "12/12 [==============================] - 1s 90ms/step - loss: 3913.3775 - val_loss: 2048.2157\n",
      "Epoch 17/1000\n",
      "12/12 [==============================] - 1s 89ms/step - loss: 3846.8518 - val_loss: 2032.5120\n",
      "Epoch 18/1000\n",
      "12/12 [==============================] - 1s 89ms/step - loss: 3777.3650 - val_loss: 2017.2504\n",
      "Epoch 19/1000\n",
      "12/12 [==============================] - 1s 90ms/step - loss: 3705.5760 - val_loss: 2002.4155\n",
      "Epoch 20/1000\n",
      "12/12 [==============================] - 1s 89ms/step - loss: 3635.7189 - val_loss: 1987.9454\n",
      "Epoch 21/1000\n",
      "12/12 [==============================] - 1s 89ms/step - loss: 3571.1102 - val_loss: 1972.8169\n",
      "Epoch 22/1000\n",
      "12/12 [==============================] - 1s 90ms/step - loss: 3491.2068 - val_loss: 1959.9392\n",
      "Epoch 23/1000\n",
      "12/12 [==============================] - 1s 89ms/step - loss: 3427.0237 - val_loss: 1945.6196\n",
      "Epoch 24/1000\n",
      "12/12 [==============================] - 1s 91ms/step - loss: 3356.2645 - val_loss: 1931.7971\n",
      "Epoch 25/1000\n",
      "12/12 [==============================] - 1s 90ms/step - loss: 3279.6750 - val_loss: 1919.2199\n",
      "Epoch 26/1000\n",
      "12/12 [==============================] - 1s 90ms/step - loss: 3210.7379 - val_loss: 1906.0262\n",
      "Epoch 27/1000\n",
      "12/12 [==============================] - 1s 89ms/step - loss: 3138.9572 - val_loss: 1893.1483\n",
      "Epoch 28/1000\n",
      "12/12 [==============================] - 1s 89ms/step - loss: 3073.9382 - val_loss: 1879.3298\n",
      "Epoch 29/1000\n",
      "12/12 [==============================] - 1s 89ms/step - loss: 3002.5003 - val_loss: 1865.8350\n",
      "Epoch 30/1000\n",
      "12/12 [==============================] - 1s 90ms/step - loss: 2926.7788 - val_loss: 1853.5589\n",
      "Epoch 31/1000\n",
      "12/12 [==============================] - 1s 90ms/step - loss: 2861.9096 - val_loss: 1840.8089\n",
      "Epoch 32/1000\n",
      "12/12 [==============================] - 1s 90ms/step - loss: 2791.2038 - val_loss: 1827.9166\n",
      "Epoch 33/1000\n",
      "12/12 [==============================] - 1s 89ms/step - loss: 2728.5789 - val_loss: 1806.2335\n",
      "Epoch 34/1000\n",
      "12/12 [==============================] - 1s 90ms/step - loss: 2659.4118 - val_loss: 1774.7106\n",
      "Epoch 35/1000\n",
      "12/12 [==============================] - 1s 89ms/step - loss: 2595.5201 - val_loss: 1742.1274\n",
      "Epoch 36/1000\n",
      "12/12 [==============================] - 1s 90ms/step - loss: 2509.7606 - val_loss: 1783.9824\n",
      "Epoch 37/1000\n",
      "12/12 [==============================] - 1s 91ms/step - loss: 2457.8630 - val_loss: 1771.3973\n",
      "Epoch 38/1000\n",
      "12/12 [==============================] - 1s 92ms/step - loss: 2387.0218 - val_loss: 1758.5944\n",
      "Epoch 39/1000\n",
      "12/12 [==============================] - 1s 97ms/step - loss: 2327.7753 - val_loss: 1744.4610\n",
      "Epoch 40/1000\n",
      "12/12 [==============================] - 1s 91ms/step - loss: 2263.1491 - val_loss: 1730.1027\n",
      "Epoch 41/1000\n",
      "12/12 [==============================] - 1s 89ms/step - loss: 2196.6222 - val_loss: 1712.5116\n",
      "Epoch 42/1000\n",
      "12/12 [==============================] - 1s 90ms/step - loss: 2144.1527 - val_loss: 1686.2502\n",
      "Epoch 43/1000\n",
      "12/12 [==============================] - 1s 89ms/step - loss: 2084.8545 - val_loss: 1660.6107\n",
      "Epoch 44/1000\n",
      "12/12 [==============================] - 1s 101ms/step - loss: 2032.1374 - val_loss: 1633.2488\n",
      "Epoch 45/1000\n",
      "12/12 [==============================] - 1s 100ms/step - loss: 1971.2040 - val_loss: 1594.3128\n",
      "Epoch 46/1000\n",
      "12/12 [==============================] - 1s 99ms/step - loss: 1921.0603 - val_loss: 1536.2188\n",
      "Epoch 47/1000\n",
      "12/12 [==============================] - 1s 91ms/step - loss: 1864.9812 - val_loss: 1482.7912\n",
      "Epoch 48/1000\n",
      "12/12 [==============================] - 1s 92ms/step - loss: 1815.7415 - val_loss: 1415.9375\n",
      "Epoch 49/1000\n",
      "12/12 [==============================] - 1s 89ms/step - loss: 1771.0711 - val_loss: 1346.2281\n",
      "Epoch 50/1000\n",
      "12/12 [==============================] - 1s 89ms/step - loss: 1722.4735 - val_loss: 1256.8789\n",
      "Epoch 51/1000\n",
      "12/12 [==============================] - 1s 90ms/step - loss: 1679.3542 - val_loss: 1181.8243\n",
      "Epoch 52/1000\n",
      "12/12 [==============================] - 1s 90ms/step - loss: 1637.1068 - val_loss: 1116.9375\n",
      "Epoch 53/1000\n",
      "12/12 [==============================] - 1s 92ms/step - loss: 1597.7805 - val_loss: 1058.1323\n",
      "Epoch 54/1000\n",
      "12/12 [==============================] - 1s 93ms/step - loss: 1561.5970 - val_loss: 1014.4333\n",
      "Epoch 55/1000\n",
      "12/12 [==============================] - 1s 89ms/step - loss: 1518.1528 - val_loss: 986.1671\n",
      "Epoch 56/1000\n",
      "12/12 [==============================] - 1s 89ms/step - loss: 1486.5949 - val_loss: 954.5074\n",
      "Epoch 57/1000\n",
      "12/12 [==============================] - 1s 90ms/step - loss: 1448.0650 - val_loss: 927.6966\n",
      "Epoch 58/1000\n",
      "12/12 [==============================] - 1s 89ms/step - loss: 1421.5713 - val_loss: 904.6875\n",
      "Epoch 59/1000\n",
      "12/12 [==============================] - 1s 90ms/step - loss: 1391.4996 - val_loss: 885.4856\n",
      "Epoch 60/1000\n",
      "12/12 [==============================] - 1s 88ms/step - loss: 1356.3212 - val_loss: 872.3765\n",
      "Epoch 61/1000\n",
      "12/12 [==============================] - 1s 93ms/step - loss: 1332.4565 - val_loss: 858.3159\n",
      "Epoch 62/1000\n",
      "12/12 [==============================] - 1s 92ms/step - loss: 1303.9034 - val_loss: 848.7305\n",
      "Epoch 63/1000\n",
      "12/12 [==============================] - 1s 96ms/step - loss: 1281.8562 - val_loss: 839.1639\n",
      "Epoch 64/1000\n",
      "12/12 [==============================] - 1s 98ms/step - loss: 1266.7233 - val_loss: 829.4718\n",
      "Epoch 65/1000\n",
      "12/12 [==============================] - 1s 97ms/step - loss: 1234.3855 - val_loss: 824.3147\n",
      "Epoch 66/1000\n",
      "12/12 [==============================] - 1s 91ms/step - loss: 1214.9414 - val_loss: 819.7065\n",
      "Epoch 67/1000\n",
      "12/12 [==============================] - 1s 89ms/step - loss: 1207.6872 - val_loss: 814.9863\n",
      "Epoch 68/1000\n",
      "12/12 [==============================] - 1s 96ms/step - loss: 1179.0787 - val_loss: 812.1878\n",
      "Epoch 69/1000\n",
      "12/12 [==============================] - 1s 98ms/step - loss: 1161.1297 - val_loss: 810.4895\n",
      "Epoch 70/1000\n",
      "12/12 [==============================] - 1s 100ms/step - loss: 1145.9486 - val_loss: 809.8329\n",
      "Epoch 71/1000\n",
      "12/12 [==============================] - 1s 98ms/step - loss: 1131.6770 - val_loss: 809.0689\n",
      "Epoch 72/1000\n",
      "12/12 [==============================] - 1s 91ms/step - loss: 1119.2388 - val_loss: 809.9011\n",
      "Epoch 73/1000\n",
      "12/12 [==============================] - 1s 95ms/step - loss: 1108.1010 - val_loss: 808.5950\n",
      "Epoch 74/1000\n",
      "12/12 [==============================] - 1s 90ms/step - loss: 1092.8702 - val_loss: 808.9037\n",
      "Epoch 75/1000\n",
      "12/12 [==============================] - 1s 92ms/step - loss: 1084.3083 - val_loss: 810.7867\n",
      "Epoch 76/1000\n"
     ]
    },
    {
     "name": "stdout",
     "output_type": "stream",
     "text": [
      "12/12 [==============================] - 1s 93ms/step - loss: 1072.1283 - val_loss: 812.7961\n",
      "Epoch 77/1000\n",
      "12/12 [==============================] - 1s 90ms/step - loss: 1065.0372 - val_loss: 815.5206\n",
      "Epoch 78/1000\n",
      "12/12 [==============================] - 1s 91ms/step - loss: 1052.7047 - val_loss: 815.5127\n",
      "Epoch 79/1000\n",
      "12/12 [==============================] - 1s 89ms/step - loss: 1051.6560 - val_loss: 820.8206\n",
      "Epoch 80/1000\n",
      "12/12 [==============================] - 1s 90ms/step - loss: 1038.8704 - val_loss: 821.7442\n",
      "Epoch 81/1000\n",
      "12/12 [==============================] - 1s 91ms/step - loss: 1029.9924 - val_loss: 819.4967\n",
      "Epoch 82/1000\n",
      "12/12 [==============================] - 1s 88ms/step - loss: 1024.8119 - val_loss: 819.2779\n",
      "Epoch 83/1000\n",
      "12/12 [==============================] - 1s 88ms/step - loss: 1017.9424 - val_loss: 821.9509\n"
     ]
    }
   ],
   "source": [
    "model = gru(32, X_train.shape[1:])\n",
    "early_stopping = EarlyStopping(patience=10)\n",
    "history = model.fit(X_train, y_train, \\\n",
    "                    batch_size=1, \\\n",
    "                    epochs=1000, \\\n",
    "                    validation_data=(X_valid, y_valid), \\\n",
    "                    callbacks=[early_stopping])"
   ]
  },
  {
   "cell_type": "code",
   "execution_count": 8,
   "metadata": {},
   "outputs": [
    {
     "data": {
      "text/plain": [
       "558.374267578125"
      ]
     },
     "execution_count": 8,
     "metadata": {},
     "output_type": "execute_result"
    }
   ],
   "source": [
    "model.evaluate(X_test, y_test, verbose=0)"
   ]
  },
  {
   "cell_type": "code",
   "execution_count": 9,
   "metadata": {},
   "outputs": [
    {
     "data": {
      "image/png": "[encoded data removed]",
      "text/plain": [
       "<matplotlib.figure.Figure at 0x7f7572eca518>"
      ]
     },
     "metadata": {},
     "output_type": "display_data"
    },
    {
     "data": {
      "image/png": "[encoded data removed]",
      "text/plain": [
       "<matplotlib.figure.Figure at 0x7f7550755f28>"
      ]
     },
     "metadata": {},
     "output_type": "display_data"
    }
   ],
   "source": [
    "y_pred = model.predict(X_test)\n",
    "plt.title('Coût et coût de validation')\n",
    "line1,=plt.plot(history.history['loss'], label=\"Loss\", linestyle='-', color='r')\n",
    "line2,=plt.plot(history.history['val_loss'], label=\"Val loss\", linestyle='-', color='b')\n",
    "first_legend = plt.legend(handles=[line1, line2], loc=1)\n",
    "\n",
    "plt.show()\n",
    "\n",
    "plt.title('y_pred en fonction de y_test')\n",
    "\n",
    "plt.plot(y_pred[:], y_test[:], '+')\n",
    "plt.ylabel('Test')\n",
    "plt.xlabel('Prédiction')\n",
    "plt.show()"
   ]
  },
  {
   "cell_type": "code",
   "execution_count": 10,
   "metadata": {},
   "outputs": [],
   "source": [
    "def gru_plus_dense(nb_units, input_shape, loss='mse', optimizer='adam'):\n",
    "    model = Sequential()\n",
    "    model.add(GRU(nb_units, input_shape=input_shape, activation='relu')) \n",
    "    model.add(Dense(nb_units, activation='relu'))\n",
    "    model.add(Dense(1, kernel_initializer='normal', activation='relu'))\n",
    "    opti = Adam(lr=0.0003)\n",
    "    model.compile(loss=loss, optimizer=opti)\n",
    "    \n",
    "    return model"
   ]
  },
  {
   "cell_type": "code",
   "execution_count": 11,
   "metadata": {},
   "outputs": [
    {
     "name": "stdout",
     "output_type": "stream",
     "text": [
      "Train on 12 samples, validate on 6 samples\n",
      "Epoch 1/1000\n",
      "12/12 [==============================] - 1s 114ms/step - loss: 4429.0160 - val_loss: 2127.6834\n",
      "Epoch 2/1000\n",
      "12/12 [==============================] - 1s 47ms/step - loss: 4425.9296 - val_loss: 2126.6758\n",
      "Epoch 3/1000\n",
      "12/12 [==============================] - 1s 48ms/step - loss: 4422.4156 - val_loss: 2125.5903\n",
      "Epoch 4/1000\n",
      "12/12 [==============================] - 1s 48ms/step - loss: 4418.7780 - val_loss: 2124.4676\n",
      "Epoch 5/1000\n",
      "12/12 [==============================] - 1s 47ms/step - loss: 4414.4257 - val_loss: 2123.3008\n",
      "Epoch 6/1000\n",
      "12/12 [==============================] - 1s 48ms/step - loss: 4410.3713 - val_loss: 2121.9496\n",
      "Epoch 7/1000\n",
      "12/12 [==============================] - 1s 47ms/step - loss: 4404.3399 - val_loss: 2120.5974\n",
      "Epoch 8/1000\n",
      "12/12 [==============================] - 1s 48ms/step - loss: 4397.2915 - val_loss: 2119.1505\n",
      "Epoch 9/1000\n",
      "12/12 [==============================] - 1s 49ms/step - loss: 4388.4993 - val_loss: 2117.5692\n",
      "Epoch 10/1000\n",
      "12/12 [==============================] - 1s 49ms/step - loss: 4379.8153 - val_loss: 2115.5468\n",
      "Epoch 11/1000\n",
      "12/12 [==============================] - 1s 49ms/step - loss: 4365.0208 - val_loss: 2113.2043\n",
      "Epoch 12/1000\n",
      "12/12 [==============================] - 1s 48ms/step - loss: 4342.4697 - val_loss: 2110.4109\n",
      "Epoch 13/1000\n",
      "12/12 [==============================] - 1s 48ms/step - loss: 4306.8689 - val_loss: 2106.7926\n",
      "Epoch 14/1000\n",
      "12/12 [==============================] - 1s 48ms/step - loss: 4219.5921 - val_loss: 2101.6698\n",
      "Epoch 15/1000\n",
      "12/12 [==============================] - 1s 48ms/step - loss: 3812.0508 - val_loss: 899.7142\n",
      "Epoch 16/1000\n",
      "12/12 [==============================] - 1s 51ms/step - loss: 2698.5213 - val_loss: 246.3513\n",
      "Epoch 17/1000\n",
      "12/12 [==============================] - 1s 48ms/step - loss: 1865.4114 - val_loss: 312.3783\n",
      "Epoch 18/1000\n",
      "12/12 [==============================] - 1s 50ms/step - loss: 1836.5611 - val_loss: 281.2825\n",
      "Epoch 19/1000\n",
      "12/12 [==============================] - 1s 48ms/step - loss: 1904.7932 - val_loss: 582.8405\n",
      "Epoch 20/1000\n",
      "12/12 [==============================] - 1s 46ms/step - loss: 1673.5762 - val_loss: 442.6842\n",
      "Epoch 21/1000\n",
      "12/12 [==============================] - 1s 47ms/step - loss: 1557.7711 - val_loss: 253.9753\n",
      "Epoch 22/1000\n",
      "12/12 [==============================] - 1s 48ms/step - loss: 1437.6334 - val_loss: 263.7291\n",
      "Epoch 23/1000\n",
      "12/12 [==============================] - 1s 48ms/step - loss: 960.0975 - val_loss: 256.1079\n",
      "Epoch 24/1000\n",
      "12/12 [==============================] - 1s 47ms/step - loss: 959.8545 - val_loss: 254.6813\n",
      "Epoch 25/1000\n",
      "12/12 [==============================] - 1s 49ms/step - loss: 914.6208 - val_loss: 279.0608\n",
      "Epoch 26/1000\n",
      "12/12 [==============================] - 1s 49ms/step - loss: 885.1749 - val_loss: 344.8210\n"
     ]
    }
   ],
   "source": [
    "model = gru_plus_dense(32, X_train.shape[1:])\n",
    "history = model.fit(X_train, y_train, \\\n",
    "                    batch_size=1, \\\n",
    "                    epochs=1000, \\\n",
    "                    validation_data=(X_valid, y_valid), \\\n",
    "                    callbacks=[early_stopping])"
   ]
  },
  {
   "cell_type": "code",
   "execution_count": 12,
   "metadata": {},
   "outputs": [
    {
     "data": {
      "text/plain": [
       "312.84817504882812"
      ]
     },
     "execution_count": 12,
     "metadata": {},
     "output_type": "execute_result"
    }
   ],
   "source": [
    "model.evaluate(X_test, y_test, verbose=0)"
   ]
  },
  {
   "cell_type": "code",
   "execution_count": 13,
   "metadata": {},
   "outputs": [
    {
     "data": {
      "image/png": "[encoded data removed]",
      "text/plain": [
       "<matplotlib.figure.Figure at 0x7f75507360b8>"
      ]
     },
     "metadata": {},
     "output_type": "display_data"
    },
    {
     "data": {
      "image/png": "[encoded data removed]",
      "text/plain": [
       "<matplotlib.figure.Figure at 0x7f7532d4c198>"
      ]
     },
     "metadata": {},
     "output_type": "display_data"
    }
   ],
   "source": [
    "y_pred = model.predict(X_test)\n",
    "plt.title('Coût et coût de validation')\n",
    "line1,=plt.plot(history.history['loss'], label=\"Loss\", linestyle='-', color='r')\n",
    "line2,=plt.plot(history.history['val_loss'], label=\"Val loss\", linestyle='-', color='b')\n",
    "first_legend = plt.legend(handles=[line1, line2], loc=1)\n",
    "\n",
    "plt.show()\n",
    "\n",
    "plt.title('y_pred en fonction de y_test')\n",
    "\n",
    "plt.plot(y_pred[:], y_test[:], '+')\n",
    "plt.ylabel('Test')\n",
    "plt.xlabel('Prédiction')\n",
    "plt.show()"
   ]
  },
  {
   "cell_type": "code",
   "execution_count": 21,
   "metadata": {},
   "outputs": [
    {
     "data": {
      "text/plain": [
       "604"
      ]
     },
     "execution_count": 21,
     "metadata": {},
     "output_type": "execute_result"
    }
   ],
   "source": [
    "len(df_test)"
   ]
  },
  {
   "cell_type": "code",
   "execution_count": null,
   "metadata": {},
   "outputs": [],
   "source": []
  }
 ],
 "metadata": {
  "kernelspec": {
   "display_name": "Python 3",
   "language": "python",
   "name": "python3"
  },
  "language_info": {
   "codemirror_mode": {
    "name": "ipython",
    "version": 3
   },
   "file_extension": ".py",
   "mimetype": "text/x-python",
   "name": "python",
   "nbconvert_exporter": "python",
   "pygments_lexer": "ipython3",
   "version": "3.5.2"
  }
 },
 "nbformat": 4,
 "nbformat_minor": 2
}
