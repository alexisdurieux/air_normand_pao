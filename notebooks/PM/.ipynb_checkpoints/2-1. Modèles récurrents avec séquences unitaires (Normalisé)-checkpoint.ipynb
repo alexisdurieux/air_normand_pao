{
 "cells": [
  {
   "cell_type": "markdown",
   "metadata": {},
   "source": [
    "# Introduction\n",
    "\n",
    "Dans ce notebook, nous utilisons des réseaux de neurones récurrents. Néanmoins, étant donné que nous choisissons des séquences de taille unitaiure lors de l'apprentissage l'intérêt de la récurrence dans notre cas est limité."
   ]
  },
  {
   "cell_type": "code",
   "execution_count": 1,
   "metadata": {},
   "outputs": [],
   "source": [
    "import numpy as np\n",
    "import pandas as pd\n",
    "import matplotlib.pyplot as plt\n",
    "\n",
    "%matplotlib inline"
   ]
  },
  {
   "cell_type": "code",
   "execution_count": 2,
   "metadata": {},
   "outputs": [],
   "source": [
    "DATA_PATH = \"../../data/clean/sud3_pm_normalized.pkl\""
   ]
  },
  {
   "cell_type": "code",
   "execution_count": 3,
   "metadata": {},
   "outputs": [
    {
     "data": {
      "text/html": [
       "<div>\n",
       "<style scoped>\n",
       "    .dataframe tbody tr th:only-of-type {\n",
       "        vertical-align: middle;\n",
       "    }\n",
       "\n",
       "    .dataframe tbody tr th {\n",
       "        vertical-align: top;\n",
       "    }\n",
       "\n",
       "    .dataframe thead th {\n",
       "        text-align: right;\n",
       "    }\n",
       "</style>\n",
       "<table border=\"1\" class=\"dataframe\">\n",
       "  <thead>\n",
       "    <tr style=\"text-align: right;\">\n",
       "      <th></th>\n",
       "      <th>index</th>\n",
       "      <th>date</th>\n",
       "      <th>ref</th>\n",
       "      <th>PM_6182</th>\n",
       "      <th>PM_6179</th>\n",
       "      <th>PM_617B</th>\n",
       "      <th>PM25_6182</th>\n",
       "      <th>PM25_6179</th>\n",
       "      <th>PM25_617B</th>\n",
       "      <th>rh</th>\n",
       "      <th>t_grad</th>\n",
       "      <th>pressure</th>\n",
       "      <th>temp</th>\n",
       "      <th>pluvio</th>\n",
       "    </tr>\n",
       "  </thead>\n",
       "  <tbody>\n",
       "    <tr>\n",
       "      <th>15</th>\n",
       "      <td>15</td>\n",
       "      <td>2017-09-28 14:00:00</td>\n",
       "      <td>16.2</td>\n",
       "      <td>5.3</td>\n",
       "      <td>8.4</td>\n",
       "      <td>9.9</td>\n",
       "      <td>4.9</td>\n",
       "      <td>8.0</td>\n",
       "      <td>8.2</td>\n",
       "      <td>61.3</td>\n",
       "      <td>-2.1</td>\n",
       "      <td>1019.4</td>\n",
       "      <td>25.1</td>\n",
       "      <td>0.0</td>\n",
       "    </tr>\n",
       "    <tr>\n",
       "      <th>16</th>\n",
       "      <td>16</td>\n",
       "      <td>2017-09-28 14:15:00</td>\n",
       "      <td>9.6</td>\n",
       "      <td>6.5</td>\n",
       "      <td>9.4</td>\n",
       "      <td>10.2</td>\n",
       "      <td>6.2</td>\n",
       "      <td>9.0</td>\n",
       "      <td>8.6</td>\n",
       "      <td>61.2</td>\n",
       "      <td>-2.2</td>\n",
       "      <td>1019.5</td>\n",
       "      <td>25.4</td>\n",
       "      <td>0.0</td>\n",
       "    </tr>\n",
       "    <tr>\n",
       "      <th>17</th>\n",
       "      <td>17</td>\n",
       "      <td>2017-09-28 14:30:00</td>\n",
       "      <td>10.3</td>\n",
       "      <td>5.3</td>\n",
       "      <td>7.8</td>\n",
       "      <td>7.0</td>\n",
       "      <td>5.0</td>\n",
       "      <td>7.3</td>\n",
       "      <td>6.1</td>\n",
       "      <td>60.0</td>\n",
       "      <td>-2.4</td>\n",
       "      <td>1019.4</td>\n",
       "      <td>25.5</td>\n",
       "      <td>0.0</td>\n",
       "    </tr>\n",
       "    <tr>\n",
       "      <th>18</th>\n",
       "      <td>18</td>\n",
       "      <td>2017-09-28 14:45:00</td>\n",
       "      <td>9.4</td>\n",
       "      <td>6.0</td>\n",
       "      <td>11.0</td>\n",
       "      <td>8.2</td>\n",
       "      <td>5.6</td>\n",
       "      <td>10.1</td>\n",
       "      <td>6.7</td>\n",
       "      <td>59.7</td>\n",
       "      <td>-1.9</td>\n",
       "      <td>1019.4</td>\n",
       "      <td>25.2</td>\n",
       "      <td>0.0</td>\n",
       "    </tr>\n",
       "    <tr>\n",
       "      <th>19</th>\n",
       "      <td>19</td>\n",
       "      <td>2017-09-28 15:00:00</td>\n",
       "      <td>10.7</td>\n",
       "      <td>5.5</td>\n",
       "      <td>7.9</td>\n",
       "      <td>9.8</td>\n",
       "      <td>5.2</td>\n",
       "      <td>7.3</td>\n",
       "      <td>8.2</td>\n",
       "      <td>61.0</td>\n",
       "      <td>-2.1</td>\n",
       "      <td>1019.4</td>\n",
       "      <td>24.6</td>\n",
       "      <td>0.0</td>\n",
       "    </tr>\n",
       "    <tr>\n",
       "      <th>20</th>\n",
       "      <td>20</td>\n",
       "      <td>2017-09-28 15:15:00</td>\n",
       "      <td>10.7</td>\n",
       "      <td>5.5</td>\n",
       "      <td>7.2</td>\n",
       "      <td>12.2</td>\n",
       "      <td>5.3</td>\n",
       "      <td>6.8</td>\n",
       "      <td>10.4</td>\n",
       "      <td>62.0</td>\n",
       "      <td>-2.0</td>\n",
       "      <td>1019.4</td>\n",
       "      <td>24.1</td>\n",
       "      <td>0.0</td>\n",
       "    </tr>\n",
       "    <tr>\n",
       "      <th>21</th>\n",
       "      <td>21</td>\n",
       "      <td>2017-09-28 15:30:00</td>\n",
       "      <td>9.6</td>\n",
       "      <td>7.0</td>\n",
       "      <td>7.8</td>\n",
       "      <td>12.9</td>\n",
       "      <td>6.7</td>\n",
       "      <td>7.4</td>\n",
       "      <td>11.2</td>\n",
       "      <td>63.0</td>\n",
       "      <td>-1.9</td>\n",
       "      <td>1019.4</td>\n",
       "      <td>23.7</td>\n",
       "      <td>0.0</td>\n",
       "    </tr>\n",
       "    <tr>\n",
       "      <th>22</th>\n",
       "      <td>22</td>\n",
       "      <td>2017-09-28 15:45:00</td>\n",
       "      <td>10.2</td>\n",
       "      <td>7.8</td>\n",
       "      <td>8.5</td>\n",
       "      <td>13.2</td>\n",
       "      <td>7.3</td>\n",
       "      <td>8.1</td>\n",
       "      <td>11.4</td>\n",
       "      <td>63.8</td>\n",
       "      <td>-1.8</td>\n",
       "      <td>1019.4</td>\n",
       "      <td>23.4</td>\n",
       "      <td>0.0</td>\n",
       "    </tr>\n",
       "    <tr>\n",
       "      <th>23</th>\n",
       "      <td>23</td>\n",
       "      <td>2017-09-28 16:00:00</td>\n",
       "      <td>9.8</td>\n",
       "      <td>7.6</td>\n",
       "      <td>9.2</td>\n",
       "      <td>15.2</td>\n",
       "      <td>7.2</td>\n",
       "      <td>8.6</td>\n",
       "      <td>12.8</td>\n",
       "      <td>64.2</td>\n",
       "      <td>-1.8</td>\n",
       "      <td>1019.4</td>\n",
       "      <td>23.2</td>\n",
       "      <td>0.0</td>\n",
       "    </tr>\n",
       "    <tr>\n",
       "      <th>24</th>\n",
       "      <td>24</td>\n",
       "      <td>2017-09-28 16:15:00</td>\n",
       "      <td>8.9</td>\n",
       "      <td>7.6</td>\n",
       "      <td>10.2</td>\n",
       "      <td>8.8</td>\n",
       "      <td>7.2</td>\n",
       "      <td>9.6</td>\n",
       "      <td>7.7</td>\n",
       "      <td>64.2</td>\n",
       "      <td>-1.7</td>\n",
       "      <td>1019.5</td>\n",
       "      <td>23.0</td>\n",
       "      <td>0.0</td>\n",
       "    </tr>\n",
       "  </tbody>\n",
       "</table>\n",
       "</div>"
      ],
      "text/plain": [
       "    index                 date   ref  PM_6182  PM_6179  PM_617B  PM25_6182  \\\n",
       "15     15  2017-09-28 14:00:00  16.2      5.3      8.4      9.9        4.9   \n",
       "16     16  2017-09-28 14:15:00   9.6      6.5      9.4     10.2        6.2   \n",
       "17     17  2017-09-28 14:30:00  10.3      5.3      7.8      7.0        5.0   \n",
       "18     18  2017-09-28 14:45:00   9.4      6.0     11.0      8.2        5.6   \n",
       "19     19  2017-09-28 15:00:00  10.7      5.5      7.9      9.8        5.2   \n",
       "20     20  2017-09-28 15:15:00  10.7      5.5      7.2     12.2        5.3   \n",
       "21     21  2017-09-28 15:30:00   9.6      7.0      7.8     12.9        6.7   \n",
       "22     22  2017-09-28 15:45:00  10.2      7.8      8.5     13.2        7.3   \n",
       "23     23  2017-09-28 16:00:00   9.8      7.6      9.2     15.2        7.2   \n",
       "24     24  2017-09-28 16:15:00   8.9      7.6     10.2      8.8        7.2   \n",
       "\n",
       "    PM25_6179  PM25_617B    rh  t_grad  pressure  temp  pluvio  \n",
       "15        8.0        8.2  61.3    -2.1    1019.4  25.1     0.0  \n",
       "16        9.0        8.6  61.2    -2.2    1019.5  25.4     0.0  \n",
       "17        7.3        6.1  60.0    -2.4    1019.4  25.5     0.0  \n",
       "18       10.1        6.7  59.7    -1.9    1019.4  25.2     0.0  \n",
       "19        7.3        8.2  61.0    -2.1    1019.4  24.6     0.0  \n",
       "20        6.8       10.4  62.0    -2.0    1019.4  24.1     0.0  \n",
       "21        7.4       11.2  63.0    -1.9    1019.4  23.7     0.0  \n",
       "22        8.1       11.4  63.8    -1.8    1019.4  23.4     0.0  \n",
       "23        8.6       12.8  64.2    -1.8    1019.4  23.2     0.0  \n",
       "24        9.6        7.7  64.2    -1.7    1019.5  23.0     0.0  "
      ]
     },
     "execution_count": 3,
     "metadata": {},
     "output_type": "execute_result"
    }
   ],
   "source": [
    "df = pd.read_pickle(DATA_PATH)\n",
    "df = df.reset_index()\n",
    "df = df.dropna()\n",
    "df.head(10)"
   ]
  },
  {
   "cell_type": "code",
   "execution_count": 4,
   "metadata": {},
   "outputs": [],
   "source": [
    "def split_dataframe(dataframe, percent):\n",
    "    nb_rows = int(np.floor(percent * len(dataframe)))\n",
    "    return dataframe[:nb_rows], dataframe[nb_rows:]\n",
    "\n",
    "def dataframe_to_xy(df):\n",
    "    return (np.array(df[['PM_6182', 'PM_6179', 'PM_617B', 'PM25_6182', 'PM25_6179', 'PM25_617B', 'temp', 'rh',\\\n",
    "                         't_grad', 'pressure', 'pluvio']]),\\\n",
    "            np.array(df['ref']))\n",
    "       \n",
    "df_train, df_test = split_dataframe(df, 0.5) \n",
    "df_valid, df_test = split_dataframe(df_test, 0.5)\n",
    "\n",
    "X_train, y_train = dataframe_to_xy(df_train)\n",
    "X_valid, y_valid = dataframe_to_xy(df_valid)\n",
    "X_test, y_test = dataframe_to_xy(df_test)\n",
    "\n",
    "# On reshape les données pour matcher avec les modèles récurrents de keras\n",
    "\n",
    "X_train = X_train.reshape((X_train.shape[0], 1, X_train.shape[1]))\n",
    "X_valid= X_valid.reshape((X_valid.shape[0], 1,  X_valid.shape[1]))\n",
    "X_test = X_test.reshape((X_test.shape[0], 1, X_test.shape[1]))"
   ]
  },
  {
   "cell_type": "code",
   "execution_count": 5,
   "metadata": {},
   "outputs": [],
   "source": [
    "### Distribution des données sur les 3 jeux de validation croisée"
   ]
  },
  {
   "cell_type": "code",
   "execution_count": 6,
   "metadata": {},
   "outputs": [
    {
     "data": {
      "image/png": "[encoded data removed]",
      "text/plain": [
       "<matplotlib.figure.Figure at 0x7fe9b274fb00>"
      ]
     },
     "metadata": {},
     "output_type": "display_data"
    },
    {
     "data": {
      "image/png": "[encoded data removed]",
      "text/plain": [
       "<matplotlib.figure.Figure at 0x7fe9b06e9b70>"
      ]
     },
     "metadata": {},
     "output_type": "display_data"
    },
    {
     "data": {
      "image/png": "[encoded data removed]",
      "text/plain": [
       "<matplotlib.figure.Figure at 0x7fe9b06a6630>"
      ]
     },
     "metadata": {},
     "output_type": "display_data"
    }
   ],
   "source": [
    "plt.plot(y_train, '+r')\n",
    "plt.show()\n",
    "plt.plot(y_valid, '+r')\n",
    "plt.show()\n",
    "plt.plot(y_test, '+r')\n",
    "plt.show()"
   ]
  },
  {
   "cell_type": "markdown",
   "metadata": {},
   "source": [
    "# Définition des modèles (RNN, LSTM, GRU)"
   ]
  },
  {
   "cell_type": "code",
   "execution_count": 7,
   "metadata": {},
   "outputs": [
    {
     "name": "stderr",
     "output_type": "stream",
     "text": [
      "Using TensorFlow backend.\n"
     ]
    }
   ],
   "source": [
    "from keras.layers import SimpleRNN, Dense, LSTM, GRU\n",
    "from keras.models import Sequential\n",
    "from keras.callbacks import EarlyStopping\n",
    "\n",
    "def simple_rnn_model(nb_units, input_dim, loss='mean_squared_error', optimizer='adam'):\n",
    "    model = Sequential()\n",
    "    model.add(SimpleRNN(nb_units, input_shape=input_dim, recurrent_dropout=1, activation='relu'))#, recurrent_dropout=1))\n",
    "    model.add(Dense(nb_units, activation='relu'))\n",
    "    model.add(Dense(1, kernel_initializer='normal', activation='relu'))\n",
    "    model.compile(loss=loss, optimizer=optimizer)\n",
    "    model.summary()\n",
    "    return model\n",
    "\n",
    "def lstm_model(nb_units, input_dim, loss='mean_squared_error', optimizer='adam', activation='relu'):\n",
    "    model = Sequential()\n",
    "    model.add(LSTM(nb_units, input_shape=input_dim, activation='relu'))\n",
    "    model.add(Dense(nb_units, activation='relu'))\n",
    "    model.add(Dense(1, kernel_initializer='normal'))\n",
    "    model.compile(loss=loss, optimizer=optimizer)\n",
    "    model.summary()\n",
    "    return model\n",
    "\n",
    "def gru_model(nb_units, input_dim, loss='mean_squared_error', optimizer='adam', activation='relu'):\n",
    "    model = Sequential()\n",
    "    model.add(GRU(nb_units, input_shape=input_dim, activation='relu'))\n",
    "    model.add(Dense(nb_units, activation='relu'))\n",
    "    model.add(Dense(1, kernel_initializer='normal'))\n",
    "    model.compile(loss=loss, optimizer=optimizer)\n",
    "    model.summary()\n",
    "    return model"
   ]
  },
  {
   "cell_type": "markdown",
   "metadata": {},
   "source": [
    "## Simple RNN\n",
    "\n",
    "### Apprentissage"
   ]
  },
  {
   "cell_type": "code",
   "execution_count": 8,
   "metadata": {},
   "outputs": [
    {
     "name": "stdout",
     "output_type": "stream",
     "text": [
      "_________________________________________________________________\n",
      "Layer (type)                 Output Shape              Param #   \n",
      "=================================================================\n",
      "simple_rnn_1 (SimpleRNN)     (None, 32)                1408      \n",
      "_________________________________________________________________\n",
      "dense_1 (Dense)              (None, 32)                1056      \n",
      "_________________________________________________________________\n",
      "dense_2 (Dense)              (None, 1)                 33        \n",
      "=================================================================\n",
      "Total params: 2,497\n",
      "Trainable params: 2,497\n",
      "Non-trainable params: 0\n",
      "_________________________________________________________________\n",
      "Train on 1133 samples, validate on 567 samples\n",
      "Epoch 1/10000\n",
      "1133/1133 [==============================] - 0s 173us/step - loss: 534.8246 - val_loss: 776.7067\n",
      "Epoch 2/10000\n",
      "1133/1133 [==============================] - 0s 48us/step - loss: 534.8246 - val_loss: 776.7067\n",
      "Epoch 3/10000\n",
      "1133/1133 [==============================] - 0s 48us/step - loss: 534.8246 - val_loss: 776.7067\n",
      "Epoch 4/10000\n",
      "1133/1133 [==============================] - 0s 48us/step - loss: 534.8246 - val_loss: 776.7067\n",
      "Epoch 5/10000\n",
      "1133/1133 [==============================] - 0s 47us/step - loss: 534.8246 - val_loss: 776.7067\n",
      "Epoch 6/10000\n",
      "1133/1133 [==============================] - 0s 47us/step - loss: 534.8246 - val_loss: 776.7067\n",
      "Epoch 7/10000\n",
      "1133/1133 [==============================] - 0s 47us/step - loss: 534.8246 - val_loss: 776.7067\n",
      "Epoch 8/10000\n",
      "1133/1133 [==============================] - 0s 47us/step - loss: 534.8246 - val_loss: 776.7067\n",
      "Epoch 9/10000\n",
      "1133/1133 [==============================] - 0s 45us/step - loss: 534.8246 - val_loss: 776.7067\n",
      "Epoch 10/10000\n",
      "1133/1133 [==============================] - 0s 48us/step - loss: 534.8246 - val_loss: 776.7067\n",
      "Epoch 11/10000\n",
      "1133/1133 [==============================] - 0s 46us/step - loss: 534.8246 - val_loss: 776.7067\n",
      "Epoch 12/10000\n",
      "1133/1133 [==============================] - 0s 43us/step - loss: 534.8246 - val_loss: 776.7067\n",
      "Epoch 13/10000\n",
      "1133/1133 [==============================] - 0s 45us/step - loss: 534.8246 - val_loss: 776.7067\n",
      "Epoch 14/10000\n",
      "1133/1133 [==============================] - 0s 46us/step - loss: 534.8246 - val_loss: 776.7067\n",
      "Epoch 15/10000\n",
      "1133/1133 [==============================] - 0s 44us/step - loss: 534.8246 - val_loss: 776.7067\n",
      "Epoch 16/10000\n",
      "1133/1133 [==============================] - 0s 46us/step - loss: 534.8246 - val_loss: 776.7067\n",
      "Epoch 17/10000\n",
      "1133/1133 [==============================] - 0s 45us/step - loss: 534.8246 - val_loss: 776.7067\n",
      "Epoch 18/10000\n",
      "1133/1133 [==============================] - 0s 45us/step - loss: 534.8246 - val_loss: 776.7067\n",
      "Epoch 19/10000\n",
      "1133/1133 [==============================] - 0s 48us/step - loss: 534.8246 - val_loss: 776.7067\n",
      "Epoch 20/10000\n",
      "1133/1133 [==============================] - 0s 47us/step - loss: 534.8246 - val_loss: 776.7067\n",
      "Epoch 21/10000\n",
      "1133/1133 [==============================] - 0s 46us/step - loss: 534.8246 - val_loss: 776.7067\n",
      "Epoch 22/10000\n",
      "1133/1133 [==============================] - 0s 49us/step - loss: 534.8246 - val_loss: 776.7067\n",
      "Epoch 23/10000\n",
      "1133/1133 [==============================] - 0s 47us/step - loss: 534.8246 - val_loss: 776.7067\n",
      "Epoch 24/10000\n",
      "1133/1133 [==============================] - 0s 46us/step - loss: 534.8246 - val_loss: 776.7067\n",
      "Epoch 25/10000\n",
      "1133/1133 [==============================] - 0s 46us/step - loss: 534.8246 - val_loss: 776.7067\n",
      "Epoch 26/10000\n",
      "1133/1133 [==============================] - 0s 43us/step - loss: 534.8246 - val_loss: 776.7067\n",
      "Epoch 00026: early stopping\n"
     ]
    }
   ],
   "source": [
    "model = simple_rnn_model(32, X_train.shape[1:])\n",
    "early_stopping = EarlyStopping(monitor='val_loss', verbose=1, mode='auto', patience=25)\n",
    "history = model.fit(X_train, y_train, batch_size=32, epochs=10000, validation_data=(X_valid, y_valid), callbacks=[early_stopping], verbose=1, shuffle=False)"
   ]
  },
  {
   "cell_type": "markdown",
   "metadata": {},
   "source": [
    "### Courbes de résultats pour modèle RNN"
   ]
  },
  {
   "cell_type": "code",
   "execution_count": 9,
   "metadata": {},
   "outputs": [
    {
     "data": {
      "image/png": "[encoded data removed]",
      "text/plain": [
       "<matplotlib.figure.Figure at 0x7fe9a2dee6a0>"
      ]
     },
     "metadata": {},
     "output_type": "display_data"
    },
    {
     "data": {
      "image/png": "[encoded data removed]",
      "text/plain": [
       "<matplotlib.figure.Figure at 0x7fe9a038f438>"
      ]
     },
     "metadata": {},
     "output_type": "display_data"
    }
   ],
   "source": [
    "y_pred = model.predict(X_test)\n",
    "plt.plot(history.history['loss'], 'r-', label=\"Coût\")\n",
    "plt.plot(history.history['val_loss'], 'b-', label=\"Coût en validation\")\n",
    "plt.title(\"Courbes de coût\")\n",
    "plt.legend()\n",
    "plt.show()\n",
    "\n",
    "plt.title('y_pred, y_test')\n",
    "\n",
    "plt.plot(y_pred[:], y_test[:], '+')\n",
    "plt.title(\"Prédiction en fonction de test\")\n",
    "plt.show()"
   ]
  },
  {
   "cell_type": "markdown",
   "metadata": {},
   "source": [
    "## LSTM\n",
    "\n",
    "### Apprentissage"
   ]
  },
  {
   "cell_type": "code",
   "execution_count": 10,
   "metadata": {},
   "outputs": [
    {
     "name": "stdout",
     "output_type": "stream",
     "text": [
      "_________________________________________________________________\n",
      "Layer (type)                 Output Shape              Param #   \n",
      "=================================================================\n",
      "lstm_1 (LSTM)                (None, 32)                5632      \n",
      "_________________________________________________________________\n",
      "dense_3 (Dense)              (None, 32)                1056      \n",
      "_________________________________________________________________\n",
      "dense_4 (Dense)              (None, 1)                 33        \n",
      "=================================================================\n",
      "Total params: 6,721\n",
      "Trainable params: 6,721\n",
      "Non-trainable params: 0\n",
      "_________________________________________________________________\n",
      "Train on 1133 samples, validate on 567 samples\n",
      "Epoch 1/10000\n",
      "1133/1133 [==============================] - 0s 328us/step - loss: 105.2810 - val_loss: 123.1271\n",
      "Epoch 2/10000\n",
      "1133/1133 [==============================] - 0s 69us/step - loss: 102.1479 - val_loss: 125.7608\n",
      "Epoch 3/10000\n",
      "1133/1133 [==============================] - 0s 68us/step - loss: 99.4644 - val_loss: 126.3968\n",
      "Epoch 4/10000\n",
      "1133/1133 [==============================] - 0s 68us/step - loss: 98.5453 - val_loss: 126.3942\n",
      "Epoch 5/10000\n",
      "1133/1133 [==============================] - 0s 71us/step - loss: 97.6987 - val_loss: 126.4827\n",
      "Epoch 6/10000\n",
      "1133/1133 [==============================] - 0s 68us/step - loss: 96.8813 - val_loss: 126.4654\n",
      "Epoch 7/10000\n",
      "1133/1133 [==============================] - 0s 66us/step - loss: 96.1013 - val_loss: 127.0580\n",
      "Epoch 8/10000\n",
      "1133/1133 [==============================] - 0s 64us/step - loss: 95.3655 - val_loss: 126.2752\n",
      "Epoch 9/10000\n",
      "1133/1133 [==============================] - 0s 65us/step - loss: 94.8008 - val_loss: 126.5327\n",
      "Epoch 10/10000\n",
      "1133/1133 [==============================] - 0s 66us/step - loss: 94.0797 - val_loss: 126.8183\n",
      "Epoch 11/10000\n",
      "1133/1133 [==============================] - 0s 65us/step - loss: 94.5551 - val_loss: 123.4236\n",
      "Epoch 12/10000\n",
      "1133/1133 [==============================] - 0s 65us/step - loss: 93.4923 - val_loss: 125.7372\n",
      "Epoch 13/10000\n",
      "1133/1133 [==============================] - 0s 68us/step - loss: 92.4140 - val_loss: 125.8157\n",
      "Epoch 14/10000\n",
      "1133/1133 [==============================] - 0s 66us/step - loss: 91.7224 - val_loss: 125.9564\n",
      "Epoch 15/10000\n",
      "1133/1133 [==============================] - 0s 66us/step - loss: 91.1762 - val_loss: 126.3715\n",
      "Epoch 16/10000\n",
      "1133/1133 [==============================] - 0s 67us/step - loss: 90.6458 - val_loss: 125.8257\n",
      "Epoch 17/10000\n",
      "1133/1133 [==============================] - 0s 68us/step - loss: 90.1402 - val_loss: 126.2903\n",
      "Epoch 18/10000\n",
      "1133/1133 [==============================] - 0s 65us/step - loss: 89.6831 - val_loss: 126.0552\n",
      "Epoch 19/10000\n",
      "1133/1133 [==============================] - 0s 68us/step - loss: 89.2092 - val_loss: 125.9652\n",
      "Epoch 20/10000\n",
      "1133/1133 [==============================] - 0s 65us/step - loss: 88.7832 - val_loss: 125.6370\n",
      "Epoch 21/10000\n",
      "1133/1133 [==============================] - 0s 68us/step - loss: 88.3596 - val_loss: 125.8250\n",
      "Epoch 22/10000\n",
      "1133/1133 [==============================] - 0s 69us/step - loss: 87.8935 - val_loss: 125.4171\n",
      "Epoch 23/10000\n",
      "1133/1133 [==============================] - 0s 68us/step - loss: 87.4963 - val_loss: 125.1540\n",
      "Epoch 24/10000\n",
      "1133/1133 [==============================] - 0s 68us/step - loss: 87.4868 - val_loss: 123.9678\n",
      "Epoch 25/10000\n",
      "1133/1133 [==============================] - 0s 66us/step - loss: 86.8505 - val_loss: 124.7575\n",
      "Epoch 26/10000\n",
      "1133/1133 [==============================] - 0s 66us/step - loss: 86.2083 - val_loss: 124.6538\n",
      "Epoch 00026: early stopping\n"
     ]
    }
   ],
   "source": [
    "model = lstm_model(32, X_train.shape[1:])\n",
    "early_stopping = EarlyStopping(monitor='val_loss', verbose=1, mode='auto', patience=25)\n",
    "history = model.fit(X_train, y_train, batch_size=32, epochs=10000, validation_data=(X_valid, y_valid), callbacks=[early_stopping], verbose=1, shuffle=False)"
   ]
  },
  {
   "cell_type": "markdown",
   "metadata": {},
   "source": [
    "### Courbes de résultats pour modèle LSTM"
   ]
  },
  {
   "cell_type": "code",
   "execution_count": 11,
   "metadata": {},
   "outputs": [
    {
     "data": {
      "image/png": "[encoded data removed]",
      "text/plain": [
       "<matplotlib.figure.Figure at 0x7fe9a03cb6a0>"
      ]
     },
     "metadata": {},
     "output_type": "display_data"
    },
    {
     "data": {
      "image/png": "[encoded data removed]",
      "text/plain": [
       "<matplotlib.figure.Figure at 0x7fe98c08ee80>"
      ]
     },
     "metadata": {},
     "output_type": "display_data"
    }
   ],
   "source": [
    "y_pred = model.predict(X_test)\n",
    "plt.plot(history.history['loss'], 'r-', label=\"Coût\")\n",
    "plt.plot(history.history['val_loss'], 'b-', label=\"Coût en validation\")\n",
    "plt.title(\"Courbes de coût\")\n",
    "plt.legend()\n",
    "plt.show()\n",
    "\n",
    "plt.title('y_pred, y_test')\n",
    "\n",
    "plt.plot(y_pred[:], y_test[:], '+')\n",
    "plt.title(\"Prédiction en fonction de test\")\n",
    "plt.show()"
   ]
  },
  {
   "cell_type": "markdown",
   "metadata": {},
   "source": [
    "## GRU\n",
    "\n",
    "### Apprentissage"
   ]
  },
  {
   "cell_type": "code",
   "execution_count": 12,
   "metadata": {},
   "outputs": [
    {
     "name": "stdout",
     "output_type": "stream",
     "text": [
      "_________________________________________________________________\n",
      "Layer (type)                 Output Shape              Param #   \n",
      "=================================================================\n",
      "gru_1 (GRU)                  (None, 32)                4224      \n",
      "_________________________________________________________________\n",
      "dense_5 (Dense)              (None, 32)                1056      \n",
      "_________________________________________________________________\n",
      "dense_6 (Dense)              (None, 1)                 33        \n",
      "=================================================================\n",
      "Total params: 5,313\n",
      "Trainable params: 5,313\n",
      "Non-trainable params: 0\n",
      "_________________________________________________________________\n",
      "Train on 1133 samples, validate on 567 samples\n",
      "Epoch 1/10000\n",
      "1133/1133 [==============================] - 0s 325us/step - loss: 140.4365 - val_loss: 133.8822\n",
      "Epoch 2/10000\n",
      "1133/1133 [==============================] - 0s 64us/step - loss: 112.3011 - val_loss: 117.5347\n",
      "Epoch 3/10000\n",
      "1133/1133 [==============================] - 0s 63us/step - loss: 102.6650 - val_loss: 118.3334\n",
      "Epoch 4/10000\n",
      "1133/1133 [==============================] - 0s 67us/step - loss: 98.0708 - val_loss: 117.9831\n",
      "Epoch 5/10000\n",
      "1133/1133 [==============================] - 0s 63us/step - loss: 96.2126 - val_loss: 116.2974\n",
      "Epoch 6/10000\n",
      "1133/1133 [==============================] - 0s 65us/step - loss: 95.2055 - val_loss: 114.2315\n",
      "Epoch 7/10000\n",
      "1133/1133 [==============================] - 0s 64us/step - loss: 93.4281 - val_loss: 112.9250\n",
      "Epoch 8/10000\n",
      "1133/1133 [==============================] - 0s 64us/step - loss: 91.7103 - val_loss: 111.6589\n",
      "Epoch 9/10000\n",
      "1133/1133 [==============================] - 0s 62us/step - loss: 90.5832 - val_loss: 110.3123\n",
      "Epoch 10/10000\n",
      "1133/1133 [==============================] - 0s 60us/step - loss: 89.3585 - val_loss: 109.4051\n",
      "Epoch 11/10000\n",
      "1133/1133 [==============================] - 0s 60us/step - loss: 88.6870 - val_loss: 107.8784\n",
      "Epoch 12/10000\n",
      "1133/1133 [==============================] - 0s 60us/step - loss: 87.7960 - val_loss: 108.0195\n",
      "Epoch 13/10000\n",
      "1133/1133 [==============================] - 0s 59us/step - loss: 87.3318 - val_loss: 106.0417\n",
      "Epoch 14/10000\n",
      "1133/1133 [==============================] - 0s 59us/step - loss: 86.4938 - val_loss: 106.7255\n",
      "Epoch 15/10000\n",
      "1133/1133 [==============================] - 0s 61us/step - loss: 85.8751 - val_loss: 105.5493\n",
      "Epoch 16/10000\n",
      "1133/1133 [==============================] - 0s 64us/step - loss: 85.6037 - val_loss: 104.9552\n",
      "Epoch 17/10000\n",
      "1133/1133 [==============================] - 0s 64us/step - loss: 85.0305 - val_loss: 104.6845\n",
      "Epoch 18/10000\n",
      "1133/1133 [==============================] - 0s 64us/step - loss: 84.4940 - val_loss: 104.2896\n",
      "Epoch 19/10000\n",
      "1133/1133 [==============================] - 0s 62us/step - loss: 84.2154 - val_loss: 103.3102\n",
      "Epoch 20/10000\n",
      "1133/1133 [==============================] - 0s 60us/step - loss: 83.9230 - val_loss: 103.3338\n",
      "Epoch 21/10000\n",
      "1133/1133 [==============================] - 0s 61us/step - loss: 83.3036 - val_loss: 103.2005\n",
      "Epoch 22/10000\n",
      "1133/1133 [==============================] - 0s 60us/step - loss: 82.9871 - val_loss: 102.5506\n",
      "Epoch 23/10000\n",
      "1133/1133 [==============================] - 0s 63us/step - loss: 82.7058 - val_loss: 102.0194\n",
      "Epoch 24/10000\n",
      "1133/1133 [==============================] - 0s 63us/step - loss: 82.3652 - val_loss: 101.3106\n",
      "Epoch 25/10000\n",
      "1133/1133 [==============================] - 0s 62us/step - loss: 82.2888 - val_loss: 100.6986\n",
      "Epoch 26/10000\n",
      "1133/1133 [==============================] - 0s 63us/step - loss: 81.7698 - val_loss: 101.4143\n",
      "Epoch 27/10000\n",
      "1133/1133 [==============================] - 0s 60us/step - loss: 81.4592 - val_loss: 100.6871\n",
      "Epoch 28/10000\n",
      "1133/1133 [==============================] - 0s 59us/step - loss: 81.2994 - val_loss: 101.0266\n",
      "Epoch 29/10000\n",
      "1133/1133 [==============================] - 0s 59us/step - loss: 80.4301 - val_loss: 101.6150\n",
      "Epoch 30/10000\n",
      "1133/1133 [==============================] - 0s 61us/step - loss: 80.1083 - val_loss: 101.1124\n",
      "Epoch 31/10000\n",
      "1133/1133 [==============================] - 0s 61us/step - loss: 79.9307 - val_loss: 100.8058\n",
      "Epoch 32/10000\n",
      "1133/1133 [==============================] - 0s 60us/step - loss: 79.6524 - val_loss: 100.7578\n",
      "Epoch 33/10000\n",
      "1133/1133 [==============================] - 0s 63us/step - loss: 79.6731 - val_loss: 100.2364\n",
      "Epoch 34/10000\n",
      "1133/1133 [==============================] - 0s 62us/step - loss: 79.4159 - val_loss: 100.2800\n",
      "Epoch 35/10000\n",
      "1133/1133 [==============================] - 0s 65us/step - loss: 79.3068 - val_loss: 100.0666\n",
      "Epoch 36/10000\n",
      "1133/1133 [==============================] - 0s 63us/step - loss: 79.1507 - val_loss: 100.1576\n",
      "Epoch 37/10000\n",
      "1133/1133 [==============================] - 0s 59us/step - loss: 78.9647 - val_loss: 99.9979\n",
      "Epoch 38/10000\n",
      "1133/1133 [==============================] - 0s 59us/step - loss: 78.8191 - val_loss: 99.9924\n",
      "Epoch 39/10000\n",
      "1133/1133 [==============================] - 0s 60us/step - loss: 78.5813 - val_loss: 99.9319\n",
      "Epoch 40/10000\n",
      "1133/1133 [==============================] - 0s 61us/step - loss: 78.4952 - val_loss: 99.7472\n",
      "Epoch 41/10000\n",
      "1133/1133 [==============================] - 0s 59us/step - loss: 78.3730 - val_loss: 99.7584\n",
      "Epoch 42/10000\n",
      "1133/1133 [==============================] - 0s 59us/step - loss: 78.2788 - val_loss: 99.3947\n",
      "Epoch 43/10000\n",
      "1133/1133 [==============================] - 0s 61us/step - loss: 77.9413 - val_loss: 99.3554\n",
      "Epoch 44/10000\n",
      "1133/1133 [==============================] - 0s 62us/step - loss: 77.8402 - val_loss: 99.2506\n",
      "Epoch 45/10000\n",
      "1133/1133 [==============================] - 0s 62us/step - loss: 77.6475 - val_loss: 99.3673\n",
      "Epoch 46/10000\n",
      "1133/1133 [==============================] - 0s 63us/step - loss: 77.4404 - val_loss: 99.3014\n",
      "Epoch 47/10000\n",
      "1133/1133 [==============================] - 0s 62us/step - loss: 77.3807 - val_loss: 99.2451\n",
      "Epoch 48/10000\n",
      "1133/1133 [==============================] - 0s 60us/step - loss: 77.2766 - val_loss: 99.1365\n",
      "Epoch 49/10000\n",
      "1133/1133 [==============================] - 0s 60us/step - loss: 77.3336 - val_loss: 98.8912\n",
      "Epoch 50/10000\n",
      "1133/1133 [==============================] - 0s 60us/step - loss: 77.2720 - val_loss: 99.0683\n",
      "Epoch 51/10000\n",
      "1133/1133 [==============================] - 0s 59us/step - loss: 77.0624 - val_loss: 98.9800\n",
      "Epoch 52/10000\n",
      "1133/1133 [==============================] - 0s 59us/step - loss: 76.8121 - val_loss: 98.7726\n",
      "Epoch 53/10000\n",
      "1133/1133 [==============================] - 0s 60us/step - loss: 76.6863 - val_loss: 98.7637\n",
      "Epoch 54/10000\n",
      "1133/1133 [==============================] - 0s 61us/step - loss: 76.4429 - val_loss: 98.9836\n",
      "Epoch 55/10000\n",
      "1133/1133 [==============================] - 0s 59us/step - loss: 76.3193 - val_loss: 98.7556\n",
      "Epoch 56/10000\n",
      "1133/1133 [==============================] - 0s 60us/step - loss: 76.2399 - val_loss: 98.7210\n",
      "Epoch 57/10000\n",
      "1133/1133 [==============================] - 0s 59us/step - loss: 76.0976 - val_loss: 99.3714\n",
      "Epoch 58/10000\n",
      "1133/1133 [==============================] - 0s 62us/step - loss: 75.6477 - val_loss: 99.1710\n",
      "Epoch 59/10000\n",
      "1133/1133 [==============================] - 0s 64us/step - loss: 75.5814 - val_loss: 99.5188\n",
      "Epoch 60/10000\n",
      "1133/1133 [==============================] - 0s 62us/step - loss: 75.4260 - val_loss: 99.8510\n",
      "Epoch 61/10000\n",
      "1133/1133 [==============================] - 0s 60us/step - loss: 75.2232 - val_loss: 99.6627\n",
      "Epoch 62/10000\n",
      "1133/1133 [==============================] - 0s 63us/step - loss: 75.0925 - val_loss: 99.5135\n",
      "Epoch 63/10000\n",
      "1133/1133 [==============================] - 0s 60us/step - loss: 75.1894 - val_loss: 101.7850\n",
      "Epoch 64/10000\n",
      "1133/1133 [==============================] - 0s 60us/step - loss: 74.6899 - val_loss: 99.3901\n",
      "Epoch 65/10000\n",
      "1133/1133 [==============================] - 0s 59us/step - loss: 74.7741 - val_loss: 100.9105\n",
      "Epoch 66/10000\n",
      "1133/1133 [==============================] - 0s 60us/step - loss: 74.7197 - val_loss: 98.8810\n",
      "Epoch 00066: early stopping\n"
     ]
    }
   ],
   "source": [
    "model = gru_model(32, X_train.shape[1:])\n",
    "early_stopping = EarlyStopping(monitor='val_loss', verbose=1, mode='auto', patience=10)\n",
    "history = model.fit(X_train, y_train, batch_size=32, epochs=10000, validation_data=(X_valid, y_valid), callbacks=[early_stopping], verbose=1, shuffle=False)"
   ]
  },
  {
   "cell_type": "markdown",
   "metadata": {},
   "source": [
    "### Courbes de résultats pour modèle GRU"
   ]
  },
  {
   "cell_type": "code",
   "execution_count": 13,
   "metadata": {},
   "outputs": [
    {
     "data": {
      "image/png": "[encoded data removed]",
      "text/plain": [
       "<matplotlib.figure.Figure at 0x7fe98c070dd8>"
      ]
     },
     "metadata": {},
     "output_type": "display_data"
    },
    {
     "data": {
      "image/png": "[encoded data removed]",
      "text/plain": [
       "<matplotlib.figure.Figure at 0x7fe98c013470>"
      ]
     },
     "metadata": {},
     "output_type": "display_data"
    }
   ],
   "source": [
    "y_pred = model.predict(X_test)\n",
    "plt.plot(history.history['loss'], 'r-', label=\"Coût\")\n",
    "plt.plot(history.history['val_loss'], 'b-', label=\"Coût en validation\")\n",
    "plt.title(\"Courbes de coût\")\n",
    "plt.legend()\n",
    "plt.show()\n",
    "\n",
    "plt.title('y_pred, y_test')\n",
    "\n",
    "plt.plot(y_pred[:], y_test[:], '+')\n",
    "plt.title(\"Prédiction en fonction de test\")\n",
    "plt.show()"
   ]
  },
  {
   "cell_type": "markdown",
   "metadata": {},
   "source": [
    "# Conclusion\n",
    "\n",
    "Dans ce notebook, nous n'avons pas pu exploité la force des réseaux récurrents qui sont performants sur des données séquentiels, par la prise en compte de séquence unitaire. Dans le notebook suivant, nous essaierons des modèles avec mémoire en prenant en compte de véritables séquences lors de l'apprentissage"
   ]
  }
 ],
 "metadata": {
  "kernelspec": {
   "display_name": "Python 3",
   "language": "python",
   "name": "python3"
  },
  "language_info": {
   "codemirror_mode": {
    "name": "ipython",
    "version": 3
   },
   "file_extension": ".py",
   "mimetype": "text/x-python",
   "name": "python",
   "nbconvert_exporter": "python",
   "pygments_lexer": "ipython3",
   "version": "3.5.2"
  }
 },
 "nbformat": 4,
 "nbformat_minor": 2
}
