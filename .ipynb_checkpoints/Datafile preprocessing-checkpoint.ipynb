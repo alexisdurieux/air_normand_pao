{
 "cells": [
  {
   "cell_type": "code",
   "execution_count": 39,
   "metadata": {},
   "outputs": [
    {
     "name": "stdout",
     "output_type": "stream",
     "text": [
      "/Users/alexis/Documents/air_normand_pao\n"
     ]
    }
   ],
   "source": [
    "import os\n",
    "import numpy as np\n",
    "import pandas as pd\n",
    "import csv\n",
    "\n",
    "print(os.getcwd())\n",
    "CARPOL_1303_DATAFOLDER = 'data/carpol_1303'\n",
    "CARPOL_1304_DATAFOLDER = 'data/carpol_1304'\n",
    "GLOBAL_DATAFOLDER = 'data'\n",
    "\n",
    "labels = {\n",
    "    'date': 'date',\n",
    "    'H2S(ppb)': 'h2s',\n",
    "    'Temperature(°C)': 'temperature',\n",
    "    'RelativeHumidity(%)': 'humidity',\n",
    "    'Patm(hPa)': 'pressure',\n",
    "    'SO2(ppb)': 'so2'\n",
    "}"
   ]
  },
  {
   "cell_type": "code",
   "execution_count": 3,
   "metadata": {},
   "outputs": [
    {
     "data": {
      "text/html": [
       "<div>\n",
       "<style>\n",
       "    .dataframe thead tr:only-child th {\n",
       "        text-align: right;\n",
       "    }\n",
       "\n",
       "    .dataframe thead th {\n",
       "        text-align: left;\n",
       "    }\n",
       "\n",
       "    .dataframe tbody tr th {\n",
       "        vertical-align: top;\n",
       "    }\n",
       "</style>\n",
       "<table border=\"1\" class=\"dataframe\">\n",
       "  <thead>\n",
       "    <tr style=\"text-align: right;\">\n",
       "      <th></th>\n",
       "      <th># CairPol-1303 données 15min</th>\n",
       "    </tr>\n",
       "  </thead>\n",
       "  <tbody>\n",
       "    <tr>\n",
       "      <th>0</th>\n",
       "      <td># Time GMT</td>\n",
       "    </tr>\n",
       "    <tr>\n",
       "      <th>1</th>\n",
       "      <td># date;H2S(ppb);Temperature(°C);RelativeHumidi...</td>\n",
       "    </tr>\n",
       "    <tr>\n",
       "      <th>2</th>\n",
       "      <td>2016-05-23 08:15:00;7.6;24;42;8</td>\n",
       "    </tr>\n",
       "    <tr>\n",
       "      <th>3</th>\n",
       "      <td>2016-05-23 08:30:00;14.1;24;42;15</td>\n",
       "    </tr>\n",
       "    <tr>\n",
       "      <th>4</th>\n",
       "      <td>2016-05-23 08:45:00;14.9;24;42;15</td>\n",
       "    </tr>\n",
       "  </tbody>\n",
       "</table>\n",
       "</div>"
      ],
      "text/plain": [
       "                        # CairPol-1303 données 15min\n",
       "0                                         # Time GMT\n",
       "1  # date;H2S(ppb);Temperature(°C);RelativeHumidi...\n",
       "2                    2016-05-23 08:15:00;7.6;24;42;8\n",
       "3                  2016-05-23 08:30:00;14.1;24;42;15\n",
       "4                  2016-05-23 08:45:00;14.9;24;42;15"
      ]
     },
     "execution_count": 3,
     "metadata": {},
     "output_type": "execute_result"
    }
   ],
   "source": [
    "# Aperçu des csv\n",
    "test_df = pd.read_csv(os.path.join(CARPOL_1303_DATAFOLDER, '1303_15minDataSet.txt'), encoding = \"ISO-8859-1\")\n",
    "test_df.head()"
   ]
  },
  {
   "cell_type": "code",
   "execution_count": 4,
   "metadata": {},
   "outputs": [],
   "source": [
    "# On transforme les txt en .csv pour une quesstion pratique\n",
    "\n",
    "def txt_data_to_csv(filename):\n",
    "    csvfile = open(\".\".join([filename.split('.')[0], 'csv']), 'w', newline='')\n",
    "    writer = csv.writer(csvfile, delimiter=',' , quotechar='|', quoting=csv.QUOTE_MINIMAL)\n",
    "    with open(filename, 'r', encoding = \"ISO-8859-1\") as f:\n",
    "        lines = f.readlines()\n",
    "    i = 0\n",
    "    while lines[i][0] == \"#\":\n",
    "        i += 1\n",
    "    header_row = [param.strip() for param in lines[i-1].split(\"#\")[1].split(\";\")]\n",
    "    writer.writerow(header_row)\n",
    "    for line in lines[i:]:\n",
    "        writer.writerow([val.strip() for val in line.split(\";\")])\n",
    "        \n",
    "txt_data_to_csv(os.path.join(CARPOL_1303_DATAFOLDER, '1303_15minDataSet.txt'))\n",
    "txt_data_to_csv(os.path.join(CARPOL_1303_DATAFOLDER, '1303_1minDataSet.txt'))\n",
    "txt_data_to_csv(os.path.join(CARPOL_1304_DATAFOLDER, '1304_15minDataSet.txt'))\n",
    "txt_data_to_csv(os.path.join(CARPOL_1304_DATAFOLDER, '1304_1minDataSet.txt'))\n",
    "txt_data_to_csv(os.path.join(GLOBAL_DATAFOLDER, 'Patm_15minDataSet.txt'))\n",
    "txt_data_to_csv(os.path.join(GLOBAL_DATAFOLDER, 'RefInstrument_15minDataSet.txt'))"
   ]
  },
  {
   "cell_type": "code",
   "execution_count": 63,
   "metadata": {},
   "outputs": [
    {
     "name": "stdout",
     "output_type": "stream",
     "text": [
      "H2S(ppb)    0.0\n",
      "SO2(ppb)    0.0\n",
      "Name: 2016-05-23 00:15:00, dtype: float64 Patm(hPa)    1012\n",
      "Name: 2016-05-23 00:15:00, dtype: int64\n",
      "data/carpol_1303/1303_15minDataSet.csv\n",
      "                  date  H2S(ppb)  Temperature(°C)  RelativeHumidity(%)  \\\n",
      "0  2016-05-23 08:15:00       7.6             24.0                 42.0   \n",
      "1  2016-05-23 08:30:00      14.1             24.0                 42.0   \n",
      "2  2016-05-23 08:45:00      14.9             24.0                 42.0   \n",
      "3  2016-05-23 09:00:00      15.0             24.0                 42.0   \n",
      "4  2016-05-23 09:15:00      14.9             24.0                 42.0   \n",
      "\n",
      "   Npoints  \n",
      "0        8  \n",
      "1       15  \n",
      "2       15  \n",
      "3       15  \n",
      "4       15  \n",
      "data/carpol_1304/1304_15minDataSet.csv\n",
      "                  date  H2S(ppb)  Temperature(°C)  RelativeHumidity(%)  \\\n",
      "0  2016-05-23 08:15:00       6.5             24.0                 43.0   \n",
      "1  2016-05-23 08:30:00       9.8             24.0                 42.0   \n",
      "2  2016-05-23 08:45:00      10.5             24.0                 42.0   \n",
      "3  2016-05-23 09:00:00      10.8             24.0                 42.0   \n",
      "4  2016-05-23 09:15:00      10.9             24.0                 42.0   \n",
      "\n",
      "   Npoints  \n",
      "0       10  \n",
      "1       15  \n",
      "2       15  \n",
      "3       15  \n",
      "4       15  \n",
      "Empty DataFrame\n",
      "Columns: [date, h2s, pressure, temperature, humidity, n_points, so2, h2s_ref]\n",
      "Index: []\n"
     ]
    }
   ],
   "source": [
    "# Création du pickle\n",
    "\n",
    "# Inversion des dataframes de données pour accéder aux infos avec la date comme clé\n",
    "df = pd.read_csv(os.path.join(GLOBAL_DATAFOLDER, 'Patm_15minDataSet.csv'))\n",
    "pressures = df.set_index('date').T  # idx 0 -> Patm\n",
    "\n",
    "df = pd.read_csv(os.path.join(GLOBAL_DATAFOLDER, 'RefInstrument_15minDataSet.csv'))\n",
    "references = df.set_index('date').T # idx 0 -> H2S, idx 1 -> SO2\n",
    "#print(references['2016-05-23 00:15:00'], pressures['2016-05-23 00:15:00'])\n",
    "\n",
    "# Création du pickle\n",
    "captors_list_filename = [os.path.join(CARPOL_1303_DATAFOLDER, '1303_15minDataSet.csv'), os.path.join(CARPOL_1304_DATAFOLDER, '1304_15minDataSet.csv')]\n",
    "\n",
    "out_df = pd.DataFrame(columns=['date','h2s','pressure', 'temperature','humidity','n_points','so2','h2s_ref'])\n",
    "\n",
    "#row[1]date, row[2] h2s, row[3] temp, row[4] humidity, row[5] npoints\n",
    "i = 0\n",
    "for filename in captors_list_filename:\n",
    "    print(filename)\n",
    "    df = pd.read_csv(filename)\n",
    "    print(df.head())\n",
    "    for row in df.iterrows():\n",
    "        pass\n",
    "        #print(row[1])\n",
    "        #date = row.date\n",
    "        #print('hey', row)\n",
    "        #print(date)\n",
    "        #ref = references[date]\n",
    "        #out_df.loc[i] = [date, row[2], pressures[date], row[3], row[4], row[5], ref[1], ref[0]]\n",
    "        #i += 1\n",
    "        \n",
    "print(out_df.head())"
   ]
  },
  {
   "cell_type": "code",
   "execution_count": 79,
   "metadata": {
    "collapsed": true
   },
   "outputs": [],
   "source": [
    "\"\"\"\n",
    "# On centre et réduit et on save dans chaque csv\n",
    "def normalize_carpol_csv(filename):\n",
    "    df = pd.read_csv(filename)\n",
    "    df.iloc[:, 1:] = test.iloc[:, 1:-1].apply(lambda x: (x - np.mean(x)) / (np.std(x)))\n",
    "    filename_split = filename.split('.')\n",
    "    df.to_csv(\"{}{}.{}\".format(filename_split[0], '_norm', filename_split[1]), index=False)\n",
    "    \n",
    "normalize_carpol_csv(os.path.join(CARPOL_1303_DATAFOLDER, '1303_15minDataSet.csv'))\n",
    "normalize_carpol_csv(os.path.join(CARPOL_1303_DATAFOLDER, '1303_1minDataSet.csv'))\n",
    "normalize_carpol_csv(os.path.join(CARPOL_1304_DATAFOLDER, '1304_15minDataSet.csv'))\n",
    "normalize_carpol_csv(os.path.join(CARPOL_1304_DATAFOLDER, '1304_1minDataSet.csv'))\n",
    "\"\"\""
   ]
  },
  {
   "cell_type": "code",
   "execution_count": null,
   "metadata": {
    "collapsed": true
   },
   "outputs": [],
   "source": [
    "# Préparation du pkl"
   ]
  },
  {
   "cell_type": "code",
   "execution_count": null,
   "metadata": {
    "collapsed": true
   },
   "outputs": [],
   "source": []
  }
 ],
 "metadata": {
  "kernelspec": {
   "display_name": "Python 3",
   "language": "python",
   "name": "python3"
  },
  "language_info": {
   "codemirror_mode": {
    "name": "ipython",
    "version": 3
   },
   "file_extension": ".py",
   "mimetype": "text/x-python",
   "name": "python",
   "nbconvert_exporter": "python",
   "pygments_lexer": "ipython3",
   "version": "3.6.1"
  }
 },
 "nbformat": 4,
 "nbformat_minor": 2
}
