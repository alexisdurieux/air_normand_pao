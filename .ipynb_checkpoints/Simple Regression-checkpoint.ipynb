{
 "cells": [
  {
   "cell_type": "code",
   "execution_count": 5,
   "metadata": {
    "collapsed": true
   },
   "outputs": [],
   "source": [
    "import pandas as pd\n",
    "import numpy as np\n",
    "import os\n",
    "from sklearn import svm"
   ]
  },
  {
   "cell_type": "code",
   "execution_count": 4,
   "metadata": {},
   "outputs": [
    {
     "name": "stdout",
     "output_type": "stream",
     "text": [
      "19445\n"
     ]
    },
    {
     "data": {
      "text/html": [
       "<div>\n",
       "<style>\n",
       "    .dataframe thead tr:only-child th {\n",
       "        text-align: right;\n",
       "    }\n",
       "\n",
       "    .dataframe thead th {\n",
       "        text-align: left;\n",
       "    }\n",
       "\n",
       "    .dataframe tbody tr th {\n",
       "        vertical-align: top;\n",
       "    }\n",
       "</style>\n",
       "<table border=\"1\" class=\"dataframe\">\n",
       "  <thead>\n",
       "    <tr style=\"text-align: right;\">\n",
       "      <th></th>\n",
       "      <th>date</th>\n",
       "      <th>h2s</th>\n",
       "      <th>pressure</th>\n",
       "      <th>temperature</th>\n",
       "      <th>humidity</th>\n",
       "      <th>n_points</th>\n",
       "      <th>so2</th>\n",
       "      <th>h2s_ref</th>\n",
       "      <th>captor</th>\n",
       "    </tr>\n",
       "  </thead>\n",
       "  <tbody>\n",
       "    <tr>\n",
       "      <th>4</th>\n",
       "      <td>2016-05-23 09:15:00</td>\n",
       "      <td>1.673433</td>\n",
       "      <td>0.047316</td>\n",
       "      <td>0.996046</td>\n",
       "      <td>-1.610853</td>\n",
       "      <td>15</td>\n",
       "      <td>-0.259294</td>\n",
       "      <td>0</td>\n",
       "      <td>1303</td>\n",
       "    </tr>\n",
       "    <tr>\n",
       "      <th>9</th>\n",
       "      <td>2016-05-23 10:30:00</td>\n",
       "      <td>1.530588</td>\n",
       "      <td>0.202130</td>\n",
       "      <td>0.996046</td>\n",
       "      <td>-1.677224</td>\n",
       "      <td>15</td>\n",
       "      <td>-0.259294</td>\n",
       "      <td>0</td>\n",
       "      <td>1303</td>\n",
       "    </tr>\n",
       "    <tr>\n",
       "      <th>20</th>\n",
       "      <td>2016-05-23 13:15:00</td>\n",
       "      <td>1.637722</td>\n",
       "      <td>0.356944</td>\n",
       "      <td>0.996046</td>\n",
       "      <td>-1.809965</td>\n",
       "      <td>15</td>\n",
       "      <td>-0.259294</td>\n",
       "      <td>0</td>\n",
       "      <td>1303</td>\n",
       "    </tr>\n",
       "    <tr>\n",
       "      <th>25</th>\n",
       "      <td>2016-05-23 14:30:00</td>\n",
       "      <td>1.655577</td>\n",
       "      <td>0.356944</td>\n",
       "      <td>0.996046</td>\n",
       "      <td>-1.809965</td>\n",
       "      <td>15</td>\n",
       "      <td>-0.259294</td>\n",
       "      <td>0.1</td>\n",
       "      <td>1303</td>\n",
       "    </tr>\n",
       "    <tr>\n",
       "      <th>31</th>\n",
       "      <td>2016-05-23 16:00:00</td>\n",
       "      <td>1.566299</td>\n",
       "      <td>0.356944</td>\n",
       "      <td>0.996046</td>\n",
       "      <td>-1.876336</td>\n",
       "      <td>15</td>\n",
       "      <td>-0.259294</td>\n",
       "      <td>0</td>\n",
       "      <td>1303</td>\n",
       "    </tr>\n",
       "  </tbody>\n",
       "</table>\n",
       "</div>"
      ],
      "text/plain": [
       "                   date       h2s  pressure  temperature  humidity n_points  \\\n",
       "4   2016-05-23 09:15:00  1.673433  0.047316     0.996046 -1.610853       15   \n",
       "9   2016-05-23 10:30:00  1.530588  0.202130     0.996046 -1.677224       15   \n",
       "20  2016-05-23 13:15:00  1.637722  0.356944     0.996046 -1.809965       15   \n",
       "25  2016-05-23 14:30:00  1.655577  0.356944     0.996046 -1.809965       15   \n",
       "31  2016-05-23 16:00:00  1.566299  0.356944     0.996046 -1.876336       15   \n",
       "\n",
       "         so2 h2s_ref captor  \n",
       "4  -0.259294       0   1303  \n",
       "9  -0.259294       0   1303  \n",
       "20 -0.259294       0   1303  \n",
       "25 -0.259294     0.1   1303  \n",
       "31 -0.259294       0   1303  "
      ]
     },
     "execution_count": 4,
     "metadata": {},
     "output_type": "execute_result"
    }
   ],
   "source": [
    "# Chargement et normalisation des données\n",
    "df = pd.read_pickle('data/data.pkl')\n",
    "data = df[['h2s', 'pressure', 'temperature', 'humidity', 'so2']]\n",
    "df[['h2s', 'pressure', 'temperature', 'humidity', 'so2']] =  data.apply(pd.to_numeric, errors=\"coerce\").apply(lambda x: (x - np.mean(x)) / (np.std(x)))\n",
    "print(len(df))\n",
    "df = df[pd.notnull(df).all(axis=1)] # On ne garde que les données sans NaN etc..\n",
    "df.head()"
   ]
  },
  {
   "cell_type": "code",
   "execution_count": 35,
   "metadata": {},
   "outputs": [
    {
     "name": "stdout",
     "output_type": "stream",
     "text": [
      "4338 8676\n",
      "2169 4338\n"
     ]
    },
    {
     "data": {
      "text/plain": [
       "{'C': 1.0,\n",
       " 'cache_size': 200,\n",
       " 'coef0': 0.0,\n",
       " 'degree': 3,\n",
       " 'epsilon': 0.1,\n",
       " 'gamma': 'auto',\n",
       " 'kernel': 'rbf',\n",
       " 'max_iter': -1,\n",
       " 'shrinking': True,\n",
       " 'tol': 0.001,\n",
       " 'verbose': False}"
      ]
     },
     "execution_count": 35,
     "metadata": {},
     "output_type": "execute_result"
    }
   ],
   "source": [
    "# Permutation et séparation en jeux de données d'apprentissage\n",
    "df = df.reindex(np.random.permutation(df.index))\n",
    "df.head()\n",
    "\n",
    "def split_dataframe(dataframe, percent):\n",
    "    nb_rows = int(np.floor(percent * len(dataframe)))\n",
    "    print(nb_rows, len(dataframe))\n",
    "    return dataframe[:nb_rows], dataframe[nb_rows:]\n",
    "\n",
    "df_train, df_test = split_dataframe(df, 0.5) \n",
    "df_valid, df_test = split_dataframe(df_test, 0.5)\n",
    "\n",
    "def dataframe_to_xy(df):\n",
    "    return np.array(df[['h2s', 'pressure', 'temperature', 'humidity', 'so2']]), np.array(df['h2s'])\n",
    "\n",
    "X_train, y_train = dataframe_to_xy(df_train)\n",
    "X_valid, y_valid = dataframe_to_xy(df_valid)\n",
    "X_test, y_test = dataframe_to_xy(df_test)\n",
    "\n",
    "\n",
    "clf = svm.SVR()\n",
    "clf.fit(X_train, y_train) \n",
    "clf.score(X_train, y_train)\n",
    "clf.get_params()"
   ]
  },
  {
   "cell_type": "code",
   "execution_count": null,
   "metadata": {},
   "outputs": [],
   "source": [
    "C_grid = np.logspace(-2, 3, 10)\n",
    "eps_grid = np.logspace(-5, 2, 10)\n",
    "\n",
    "\n",
    "scores = np.empty((len(C_grid), len(eps_grid)))\n",
    "print(scores.shape)\n",
    "for i in range(len(C_grid)):\n",
    "    for j in range(len(eps_grid)):\n",
    "        clf = svm.SVR(C=C_grid[i], gamma=eps_grid[j])\n",
    "        clf.fit(X_train, y_train) \n",
    "        score = clf.score(X_valid, y_valid)\n",
    "        print(score)\n",
    "        scores[i, j] = score \n",
    "        "
   ]
  },
  {
   "cell_type": "code",
   "execution_count": 45,
   "metadata": {},
   "outputs": [
    {
     "data": {
      "text/plain": [
       "3.9847212135837532e+252"
      ]
     },
     "execution_count": 45,
     "metadata": {},
     "output_type": "execute_result"
    }
   ],
   "source": [
    "np.max(scores)"
   ]
  },
  {
   "cell_type": "code",
   "execution_count": null,
   "metadata": {
    "collapsed": true
   },
   "outputs": [],
   "source": []
  }
 ],
 "metadata": {
  "kernelspec": {
   "display_name": "Python 3",
   "language": "python",
   "name": "python3"
  },
  "language_info": {
   "codemirror_mode": {
    "name": "ipython",
    "version": 3
   },
   "file_extension": ".py",
   "mimetype": "text/x-python",
   "name": "python",
   "nbconvert_exporter": "python",
   "pygments_lexer": "ipython3",
   "version": "3.6.1"
  }
 },
 "nbformat": 4,
 "nbformat_minor": 2
}
