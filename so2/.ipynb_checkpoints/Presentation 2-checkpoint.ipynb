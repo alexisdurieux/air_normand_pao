{
 "cells": [
  {
   "cell_type": "code",
   "execution_count": 1,
   "metadata": {
    "collapsed": true
   },
   "outputs": [],
   "source": [
    "import numpy as np\n",
    "import pandas as pd"
   ]
  },
  {
   "cell_type": "code",
   "execution_count": 2,
   "metadata": {
    "scrolled": true
   },
   "outputs": [
    {
     "data": {
      "text/html": [
       "<div>\n",
       "<style>\n",
       "    .dataframe thead tr:only-child th {\n",
       "        text-align: right;\n",
       "    }\n",
       "\n",
       "    .dataframe thead th {\n",
       "        text-align: left;\n",
       "    }\n",
       "\n",
       "    .dataframe tbody tr th {\n",
       "        vertical-align: top;\n",
       "    }\n",
       "</style>\n",
       "<table border=\"1\" class=\"dataframe\">\n",
       "  <thead>\n",
       "    <tr style=\"text-align: right;\">\n",
       "      <th></th>\n",
       "      <th>date</th>\n",
       "      <th>pressure</th>\n",
       "      <th>temperature</th>\n",
       "      <th>humidity</th>\n",
       "      <th>so2</th>\n",
       "      <th>h2s</th>\n",
       "      <th>h2s_ref</th>\n",
       "      <th>captor</th>\n",
       "    </tr>\n",
       "  </thead>\n",
       "  <tbody>\n",
       "    <tr>\n",
       "      <th>0</th>\n",
       "      <td>2016-05-23 08:30:00</td>\n",
       "      <td>1017</td>\n",
       "      <td>24.0</td>\n",
       "      <td>42.0</td>\n",
       "      <td>0.0</td>\n",
       "      <td>[14, 13, 14, 13, 14, 13, 14, 13, 14, 14, 16, 1...</td>\n",
       "      <td>0.0</td>\n",
       "      <td>1303</td>\n",
       "    </tr>\n",
       "    <tr>\n",
       "      <th>1</th>\n",
       "      <td>2016-05-23 08:45:00</td>\n",
       "      <td>1017</td>\n",
       "      <td>24.0</td>\n",
       "      <td>42.0</td>\n",
       "      <td>0.0</td>\n",
       "      <td>[13, 14, 16, 16, 17, 16, 14, 16, 15, 16, 14, 1...</td>\n",
       "      <td>0.0</td>\n",
       "      <td>1303</td>\n",
       "    </tr>\n",
       "    <tr>\n",
       "      <th>2</th>\n",
       "      <td>2016-05-23 09:00:00</td>\n",
       "      <td>1017</td>\n",
       "      <td>24.0</td>\n",
       "      <td>42.0</td>\n",
       "      <td>0.0</td>\n",
       "      <td>[17, 13, 14, 13, 15, 15, 15, 16, 15, 14, 16, 1...</td>\n",
       "      <td>0.0</td>\n",
       "      <td>1303</td>\n",
       "    </tr>\n",
       "    <tr>\n",
       "      <th>3</th>\n",
       "      <td>2016-05-23 09:15:00</td>\n",
       "      <td>1017</td>\n",
       "      <td>24.0</td>\n",
       "      <td>42.0</td>\n",
       "      <td>0.0</td>\n",
       "      <td>[13, 13, 15, 15, 15, 15, 15, 16, 16, 15, 16, 1...</td>\n",
       "      <td>0.0</td>\n",
       "      <td>1303</td>\n",
       "    </tr>\n",
       "    <tr>\n",
       "      <th>4</th>\n",
       "      <td>2016-05-23 09:30:00</td>\n",
       "      <td>1017</td>\n",
       "      <td>24.0</td>\n",
       "      <td>42.0</td>\n",
       "      <td>0.0</td>\n",
       "      <td>[15, 16, 15, 14, 16, 15, 14, 13, 14, 16, 13, 1...</td>\n",
       "      <td>0.0</td>\n",
       "      <td>1303</td>\n",
       "    </tr>\n",
       "  </tbody>\n",
       "</table>\n",
       "</div>"
      ],
      "text/plain": [
       "                  date pressure  temperature  humidity  so2  \\\n",
       "0  2016-05-23 08:30:00     1017         24.0      42.0  0.0   \n",
       "1  2016-05-23 08:45:00     1017         24.0      42.0  0.0   \n",
       "2  2016-05-23 09:00:00     1017         24.0      42.0  0.0   \n",
       "3  2016-05-23 09:15:00     1017         24.0      42.0  0.0   \n",
       "4  2016-05-23 09:30:00     1017         24.0      42.0  0.0   \n",
       "\n",
       "                                                 h2s  h2s_ref captor  \n",
       "0  [14, 13, 14, 13, 14, 13, 14, 13, 14, 14, 16, 1...      0.0   1303  \n",
       "1  [13, 14, 16, 16, 17, 16, 14, 16, 15, 16, 14, 1...      0.0   1303  \n",
       "2  [17, 13, 14, 13, 15, 15, 15, 16, 15, 14, 16, 1...      0.0   1303  \n",
       "3  [13, 13, 15, 15, 15, 15, 15, 16, 16, 15, 16, 1...      0.0   1303  \n",
       "4  [15, 16, 15, 14, 16, 15, 14, 13, 14, 16, 13, 1...      0.0   1303  "
      ]
     },
     "execution_count": 2,
     "metadata": {},
     "output_type": "execute_result"
    }
   ],
   "source": [
    "df = pd.read_pickle('data/1min.pkl')\n",
    "df.head()"
   ]
  },
  {
   "cell_type": "code",
   "execution_count": 3,
   "metadata": {
    "collapsed": true
   },
   "outputs": [],
   "source": [
    "def split_dataframe(dataframe, percent):\n",
    "    nb_rows = int(np.floor(percent * len(dataframe)))\n",
    "    return dataframe[:nb_rows], dataframe[nb_rows:]\n",
    "\n",
    "def dataframe_to_xy_with_ref(df):\n",
    "    return (np.array(df[[0, 1, 2, 3, 4, 5, 6, 7, 8, 9, 10, 11, 12, 13, 14, \\\n",
    "                         'h2s_ref', 'pressure', 'temperature', 'humidity']]),\\\n",
    "            np.array(df['so2']))\n",
    "\n",
    "def dataframe_to_xy_without_ref(df):\n",
    "    return (np.array(df[[0, 1, 2, 3, 4, 5, 6, 7, 8, 9, 10, 11, 12, 13, 14, \\\n",
    "                         'pressure', 'temperature', 'humidity']]),\\\n",
    "            np.array(df['so2']))\n",
    "\n",
    "df = df.reset_index()\n",
    "df = df[pd.notnull(df).all(axis=1)]\n",
    "df = df.reindex(np.random.permutation(df.index))"
   ]
  },
  {
   "cell_type": "code",
   "execution_count": 4,
   "metadata": {
    "collapsed": true
   },
   "outputs": [],
   "source": [
    "df_test, df_train = split_dataframe(df, 0.5) \n",
    "df_valid, df_test = split_dataframe(df_test, 0.5)"
   ]
  },
  {
   "cell_type": "code",
   "execution_count": 5,
   "metadata": {},
   "outputs": [
    {
     "name": "stderr",
     "output_type": "stream",
     "text": [
      "/usr/local/lib/python3.6/site-packages/ipykernel_launcher.py:10: SettingWithCopyWarning: \n",
      "A value is trying to be set on a copy of a slice from a DataFrame.\n",
      "Try using .loc[row_indexer,col_indexer] = value instead\n",
      "\n",
      "See the caveats in the documentation: http://pandas.pydata.org/pandas-docs/stable/indexing.html#indexing-view-versus-copy\n",
      "  # Remove the CWD from sys.path while we load stuff.\n",
      "/usr/local/lib/python3.6/site-packages/pandas/core/indexing.py:517: SettingWithCopyWarning: \n",
      "A value is trying to be set on a copy of a slice from a DataFrame.\n",
      "Try using .loc[row_indexer,col_indexer] = value instead\n",
      "\n",
      "See the caveats in the documentation: http://pandas.pydata.org/pandas-docs/stable/indexing.html#indexing-view-versus-copy\n",
      "  self.obj[item] = s\n"
     ]
    }
   ],
   "source": [
    "data = df_train['h2s']\n",
    "\n",
    "store = []\n",
    "for i in range(len(data)):\n",
    "    store += [n for n in data.iloc[i]]\n",
    "\n",
    "mean_h2s = np.mean(store)\n",
    "std_h2s = np.std(store)\n",
    "\n",
    "df_train[['h2s']] = data.apply(lambda x: [(n - mean_h2s)/std_h2s for n in x])\n",
    "data = df_valid['h2s']\n",
    "df_valid[['h2s']] = data.apply(lambda x: [(n - mean_h2s)/std_h2s for n in x])\n",
    "data = df_test['h2s']\n",
    "df_test[['h2s']] = data.apply(lambda x: [(n - mean_h2s)/std_h2s for n in x])"
   ]
  },
  {
   "cell_type": "code",
   "execution_count": 6,
   "metadata": {},
   "outputs": [
    {
     "name": "stderr",
     "output_type": "stream",
     "text": [
      "/usr/local/lib/python3.6/site-packages/pandas/core/frame.py:2352: SettingWithCopyWarning: \n",
      "A value is trying to be set on a copy of a slice from a DataFrame.\n",
      "Try using .loc[row_indexer,col_indexer] = value instead\n",
      "\n",
      "See the caveats in the documentation: http://pandas.pydata.org/pandas-docs/stable/indexing.html#indexing-view-versus-copy\n",
      "  self[k1] = value[k2]\n"
     ]
    }
   ],
   "source": [
    "tmp_df = df_train[['pressure', 'temperature', 'humidity', 'h2s_ref']]\n",
    "normalized_df = (tmp_df - tmp_df.mean()) / tmp_df.std()\n",
    "df_train[['pressure', 'temperature', 'humidity', 'h2s_ref']] = normalized_df\n",
    "df_train = pd.concat([df_train, df_train['h2s'].apply(pd.Series)], axis=1)\n",
    "\n",
    "tmp_df = df_valid[['pressure', 'temperature', 'humidity', 'h2s_ref']]\n",
    "normalized_df = (tmp_df - tmp_df.mean()) / tmp_df.std()\n",
    "df_valid[['pressure', 'temperature', 'humidity', 'h2s_ref']] = normalized_df\n",
    "df_valid = pd.concat([df_valid, df_valid['h2s'].apply(pd.Series)], axis=1)\n",
    "\n",
    "tmp_df = df_test[['pressure', 'temperature', 'humidity', 'h2s_ref']]\n",
    "normalized_df = (tmp_df - tmp_df.mean()) / tmp_df.std()\n",
    "df_test[['pressure', 'temperature', 'humidity', 'h2s_ref']] = normalized_df\n",
    "df_test = pd.concat([df_test, df_test['h2s'].apply(pd.Series)], axis=1)"
   ]
  },
  {
   "cell_type": "markdown",
   "metadata": {},
   "source": [
    "# Apprentissage avec H2S_ref"
   ]
  },
  {
   "cell_type": "code",
   "execution_count": 7,
   "metadata": {},
   "outputs": [
    {
     "name": "stderr",
     "output_type": "stream",
     "text": [
      "Using TensorFlow backend.\n"
     ]
    }
   ],
   "source": [
    "from keras.models import Sequential\n",
    "from keras.layers import Dense\n",
    "from keras.callbacks import EarlyStopping\n",
    "\n",
    "def baseline_model(dense_size, input_dim, loss_function, optimizer):\n",
    "    # create model\n",
    "    model = Sequential()\n",
    "    model.add(Dense(dense_size, input_dim=input_dim, kernel_initializer='normal', activation='relu'))\n",
    "    model.add(Dense(1, kernel_initializer='normal'))\n",
    "    # Compile model\n",
    "    model.compile(loss=loss_function, optimizer=optimizer)\n",
    "    model.summary()\n",
    "    return model"
   ]
  },
  {
   "cell_type": "code",
   "execution_count": 27,
   "metadata": {
    "collapsed": true
   },
   "outputs": [],
   "source": [
    "X_train, y_train = dataframe_to_xy_with_ref(df_train)\n",
    "X_valid, y_valid = dataframe_to_xy_with_ref(df_valid)\n",
    "X_test, y_test = dataframe_to_xy_with_ref(df_test)"
   ]
  },
  {
   "cell_type": "code",
   "execution_count": 28,
   "metadata": {},
   "outputs": [
    {
     "name": "stdout",
     "output_type": "stream",
     "text": [
      "_________________________________________________________________\n",
      "Layer (type)                 Output Shape              Param #   \n",
      "=================================================================\n",
      "dense_21 (Dense)             (None, 32)                640       \n",
      "_________________________________________________________________\n",
      "dense_22 (Dense)             (None, 1)                 33        \n",
      "=================================================================\n",
      "Total params: 673\n",
      "Trainable params: 673\n",
      "Non-trainable params: 0\n",
      "_________________________________________________________________\n",
      "Epoch 00034: early stopping\n"
     ]
    }
   ],
   "source": [
    "model = baseline_model(32, X_train.shape[1], 'mse', 'adamax')\n",
    "early_stopping = EarlyStopping(monitor='val_loss', verbose=1, mode='auto', patience=10)\n",
    "history = model.fit(X_train, y_train, batch_size=32, epochs=1000, validation_data=(X_valid, y_valid), callbacks=[early_stopping], verbose=0)"
   ]
  },
  {
   "cell_type": "code",
   "execution_count": 29,
   "metadata": {},
   "outputs": [
    {
     "data": {
      "image/png": "[encoded data removed]",
      "text/plain": [
       "<matplotlib.figure.Figure at 0x117aa2550>"
      ]
     },
     "metadata": {},
     "output_type": "display_data"
    },
    {
     "data": {
      "image/png": "[encoded data removed]",
      "text/plain": [
       "<matplotlib.figure.Figure at 0x11b96ee48>"
      ]
     },
     "metadata": {},
     "output_type": "display_data"
    },
    {
     "name": "stdout",
     "output_type": "stream",
     "text": [
      "0.388235294118\n"
     ]
    }
   ],
   "source": [
    "import matplotlib.pyplot as plt\n",
    "\n",
    "y_pred = model.predict(X_test)\n",
    "plt.plot(history.history['loss'], 'r-')\n",
    "plt.plot(history.history['val_loss'], 'b-')\n",
    "plt.show()\n",
    "\n",
    "plt.title('y_pred, y_test')\n",
    "\n",
    "plt.plot(y_pred[:], '--r')\n",
    "plt.plot(y_test[:], '--b')\n",
    "plt.show()\n",
    "percent_high_detected = np.sum(y_pred.reshape((len(y_pred), )) > 20) / np.sum(y_test.reshape((len(y_test), )) > 20)\n",
    "print(percent_high_detected)\n",
    "np.savetxt('out/nn_preds_h2s_ref.out', (y_test, y_pred[:, 0]))   # x,y,z equal sized 1D arrays"
   ]
  },
  {
   "cell_type": "code",
   "execution_count": 30,
   "metadata": {
    "collapsed": true
   },
   "outputs": [],
   "source": [
    "X_train, y_train = dataframe_to_xy_without_ref(df_train)\n",
    "X_valid, y_valid = dataframe_to_xy_without_ref(df_valid)\n",
    "X_test, y_test = dataframe_to_xy_without_ref(df_test)"
   ]
  },
  {
   "cell_type": "code",
   "execution_count": 31,
   "metadata": {},
   "outputs": [
    {
     "name": "stdout",
     "output_type": "stream",
     "text": [
      "_________________________________________________________________\n",
      "Layer (type)                 Output Shape              Param #   \n",
      "=================================================================\n",
      "dense_23 (Dense)             (None, 32)                608       \n",
      "_________________________________________________________________\n",
      "dense_24 (Dense)             (None, 1)                 33        \n",
      "=================================================================\n",
      "Total params: 641\n",
      "Trainable params: 641\n",
      "Non-trainable params: 0\n",
      "_________________________________________________________________\n",
      "Epoch 00051: early stopping\n"
     ]
    }
   ],
   "source": [
    "model = baseline_model(32, X_train.shape[1], 'mse', 'adamax')\n",
    "early_stopping = EarlyStopping(monitor='val_loss', verbose=1, mode='auto', patience=10)\n",
    "history = model.fit(X_train, y_train, batch_size=32, epochs=1000, validation_data=(X_valid, y_valid), callbacks=[early_stopping], verbose=0)"
   ]
  },
  {
   "cell_type": "code",
   "execution_count": 32,
   "metadata": {},
   "outputs": [
    {
     "data": {
      "image/png": "[encoded data removed]",
      "text/plain": [
       "<matplotlib.figure.Figure at 0x11ac7d0b8>"
      ]
     },
     "metadata": {},
     "output_type": "display_data"
    },
    {
     "data": {
      "image/png": "[encoded data removed]",
      "text/plain": [
       "<matplotlib.figure.Figure at 0x1194977b8>"
      ]
     },
     "metadata": {},
     "output_type": "display_data"
    },
    {
     "name": "stdout",
     "output_type": "stream",
     "text": [
      "0.364705882353\n"
     ]
    }
   ],
   "source": [
    "y_pred = model.predict(X_test)\n",
    "plt.plot(history.history['loss'], 'r-')\n",
    "plt.plot(history.history['val_loss'], 'b-')\n",
    "plt.show()\n",
    "\n",
    "plt.title('y_pred, y_test')\n",
    "\n",
    "plt.plot(y_pred[:], '--r')\n",
    "plt.plot(y_test[:], '--b')\n",
    "plt.show()\n",
    "percent_high_detected = np.sum(y_pred.reshape((len(y_pred), )) > 20) / np.sum(y_test.reshape((len(y_test), )) > 20)\n",
    "print(percent_high_detected)\n",
    "np.savetxt('out/nn_preds_without_h2s.out', (y_test, y_pred[:, 0]))   # x,y,z equal sized 1D arrays"
   ]
  },
  {
   "cell_type": "code",
   "execution_count": 50,
   "metadata": {},
   "outputs": [
    {
     "data": {
      "text/plain": [
       "(3720, 3720)"
      ]
     },
     "execution_count": 50,
     "metadata": {},
     "output_type": "execute_result"
    }
   ],
   "source": []
  },
  {
   "cell_type": "code",
   "execution_count": 59,
   "metadata": {},
   "outputs": [
    {
     "data": {
      "text/plain": [
       "19"
      ]
     },
     "execution_count": 59,
     "metadata": {},
     "output_type": "execute_result"
    }
   ],
   "source": []
  },
  {
   "cell_type": "code",
   "execution_count": 65,
   "metadata": {},
   "outputs": [
    {
     "data": {
      "text/plain": [
       "0.24210526315789474"
      ]
     },
     "execution_count": 65,
     "metadata": {},
     "output_type": "execute_result"
    }
   ],
   "source": []
  },
  {
   "cell_type": "code",
   "execution_count": null,
   "metadata": {
    "collapsed": true
   },
   "outputs": [],
   "source": []
  }
 ],
 "metadata": {
  "kernelspec": {
   "display_name": "Python 3",
   "language": "python",
   "name": "python3"
  },
  "language_info": {
   "codemirror_mode": {
    "name": "ipython",
    "version": 3
   },
   "file_extension": ".py",
   "mimetype": "text/x-python",
   "name": "python",
   "nbconvert_exporter": "python",
   "pygments_lexer": "ipython3",
   "version": "3.6.1"
  }
 },
 "nbformat": 4,
 "nbformat_minor": 2
}
