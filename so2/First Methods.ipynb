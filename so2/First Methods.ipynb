{
 "cells": [
  {
   "cell_type": "code",
   "execution_count": 1,
   "metadata": {},
   "outputs": [],
   "source": [
    "import numpy as np\n",
    "import pandas as pd\n",
    "import matplotlib.pyplot as plt\n",
    "from sklearn import svm\n"
   ]
  },
  {
   "cell_type": "code",
   "execution_count": 2,
   "metadata": {},
   "outputs": [
    {
     "data": {
      "text/html": [
       "<div>\n",
       "<style>\n",
       "    .dataframe thead tr:only-child th {\n",
       "        text-align: right;\n",
       "    }\n",
       "\n",
       "    .dataframe thead th {\n",
       "        text-align: left;\n",
       "    }\n",
       "\n",
       "    .dataframe tbody tr th {\n",
       "        vertical-align: top;\n",
       "    }\n",
       "</style>\n",
       "<table border=\"1\" class=\"dataframe\">\n",
       "  <thead>\n",
       "    <tr style=\"text-align: right;\">\n",
       "      <th></th>\n",
       "      <th>index</th>\n",
       "      <th>date</th>\n",
       "      <th>pressure</th>\n",
       "      <th>temperature</th>\n",
       "      <th>humidity</th>\n",
       "      <th>so2</th>\n",
       "      <th>h2s</th>\n",
       "      <th>h2s_ref</th>\n",
       "      <th>captor</th>\n",
       "      <th>0</th>\n",
       "      <th>...</th>\n",
       "      <th>5</th>\n",
       "      <th>6</th>\n",
       "      <th>7</th>\n",
       "      <th>8</th>\n",
       "      <th>9</th>\n",
       "      <th>10</th>\n",
       "      <th>11</th>\n",
       "      <th>12</th>\n",
       "      <th>13</th>\n",
       "      <th>14</th>\n",
       "    </tr>\n",
       "  </thead>\n",
       "  <tbody>\n",
       "    <tr>\n",
       "      <th>11789</th>\n",
       "      <td>8521</td>\n",
       "      <td>2016-09-13 18:15:00</td>\n",
       "      <td>-1.68368</td>\n",
       "      <td>2.047884</td>\n",
       "      <td>-1.653551</td>\n",
       "      <td>0.538226</td>\n",
       "      <td>[-0.93734382013, -0.93734382013, -0.9373438201...</td>\n",
       "      <td>-0.140406</td>\n",
       "      <td>1304</td>\n",
       "      <td>-0.937344</td>\n",
       "      <td>...</td>\n",
       "      <td>-0.937344</td>\n",
       "      <td>-0.937344</td>\n",
       "      <td>-0.937344</td>\n",
       "      <td>-0.937344</td>\n",
       "      <td>-0.937344</td>\n",
       "      <td>-0.937344</td>\n",
       "      <td>-0.937344</td>\n",
       "      <td>-0.937344</td>\n",
       "      <td>-0.937344</td>\n",
       "      <td>-0.937344</td>\n",
       "    </tr>\n",
       "    <tr>\n",
       "      <th>5168</th>\n",
       "      <td>1900</td>\n",
       "      <td>2016-06-13 05:00:00</td>\n",
       "      <td>-1.68368</td>\n",
       "      <td>-0.734962</td>\n",
       "      <td>0.851473</td>\n",
       "      <td>-0.432328</td>\n",
       "      <td>[0.074282779895, 0.242887213233, 0.07428277989...</td>\n",
       "      <td>-0.213229</td>\n",
       "      <td>1304</td>\n",
       "      <td>0.074283</td>\n",
       "      <td>...</td>\n",
       "      <td>0.242887</td>\n",
       "      <td>-0.094322</td>\n",
       "      <td>0.242887</td>\n",
       "      <td>0.242887</td>\n",
       "      <td>0.074283</td>\n",
       "      <td>0.074283</td>\n",
       "      <td>0.074283</td>\n",
       "      <td>0.074283</td>\n",
       "      <td>0.411492</td>\n",
       "      <td>0.074283</td>\n",
       "    </tr>\n",
       "    <tr>\n",
       "      <th>413</th>\n",
       "      <td>413</td>\n",
       "      <td>2016-05-28 15:00:00</td>\n",
       "      <td>-0.942316</td>\n",
       "      <td>1.850766</td>\n",
       "      <td>-1.649117</td>\n",
       "      <td>-0.432328</td>\n",
       "      <td>[-0.600134953455, -0.431530520118, -0.09432165...</td>\n",
       "      <td>-0.254843</td>\n",
       "      <td>1303</td>\n",
       "      <td>-0.600135</td>\n",
       "      <td>...</td>\n",
       "      <td>-0.768739</td>\n",
       "      <td>-0.600135</td>\n",
       "      <td>-0.768739</td>\n",
       "      <td>-0.431531</td>\n",
       "      <td>-0.431531</td>\n",
       "      <td>-0.768739</td>\n",
       "      <td>-0.768739</td>\n",
       "      <td>0.074283</td>\n",
       "      <td>-0.262926</td>\n",
       "      <td>0.074283</td>\n",
       "    </tr>\n",
       "    <tr>\n",
       "      <th>5057</th>\n",
       "      <td>1789</td>\n",
       "      <td>2016-06-12 01:15:00</td>\n",
       "      <td>-0.794043</td>\n",
       "      <td>-0.387106</td>\n",
       "      <td>0.709595</td>\n",
       "      <td>-0.432328</td>\n",
       "      <td>[-0.0943216534426, 0.074282779895, -0.26292608...</td>\n",
       "      <td>-0.254843</td>\n",
       "      <td>1304</td>\n",
       "      <td>-0.094322</td>\n",
       "      <td>...</td>\n",
       "      <td>-0.094322</td>\n",
       "      <td>-0.262926</td>\n",
       "      <td>0.411492</td>\n",
       "      <td>-0.262926</td>\n",
       "      <td>0.074283</td>\n",
       "      <td>0.074283</td>\n",
       "      <td>-0.431531</td>\n",
       "      <td>-0.262926</td>\n",
       "      <td>-0.262926</td>\n",
       "      <td>-0.431531</td>\n",
       "    </tr>\n",
       "    <tr>\n",
       "      <th>1371</th>\n",
       "      <td>1371</td>\n",
       "      <td>2016-06-07 15:30:00</td>\n",
       "      <td>0.836963</td>\n",
       "      <td>1.873956</td>\n",
       "      <td>-1.857500</td>\n",
       "      <td>-0.432328</td>\n",
       "      <td>[-0.600134953455, -0.26292608678, -0.431530520...</td>\n",
       "      <td>-0.254843</td>\n",
       "      <td>1303</td>\n",
       "      <td>-0.600135</td>\n",
       "      <td>...</td>\n",
       "      <td>-0.600135</td>\n",
       "      <td>-0.600135</td>\n",
       "      <td>-0.768739</td>\n",
       "      <td>-0.600135</td>\n",
       "      <td>-0.431531</td>\n",
       "      <td>-0.768739</td>\n",
       "      <td>-0.431531</td>\n",
       "      <td>-0.768739</td>\n",
       "      <td>-0.768739</td>\n",
       "      <td>-0.768739</td>\n",
       "    </tr>\n",
       "  </tbody>\n",
       "</table>\n",
       "<p>5 rows × 24 columns</p>\n",
       "</div>"
      ],
      "text/plain": [
       "       index                 date  pressure  temperature  humidity       so2  \\\n",
       "11789   8521  2016-09-13 18:15:00  -1.68368     2.047884 -1.653551  0.538226   \n",
       "5168    1900  2016-06-13 05:00:00  -1.68368    -0.734962  0.851473 -0.432328   \n",
       "413      413  2016-05-28 15:00:00 -0.942316     1.850766 -1.649117 -0.432328   \n",
       "5057    1789  2016-06-12 01:15:00 -0.794043    -0.387106  0.709595 -0.432328   \n",
       "1371    1371  2016-06-07 15:30:00  0.836963     1.873956 -1.857500 -0.432328   \n",
       "\n",
       "                                                     h2s   h2s_ref captor  \\\n",
       "11789  [-0.93734382013, -0.93734382013, -0.9373438201... -0.140406   1304   \n",
       "5168   [0.074282779895, 0.242887213233, 0.07428277989... -0.213229   1304   \n",
       "413    [-0.600134953455, -0.431530520118, -0.09432165... -0.254843   1303   \n",
       "5057   [-0.0943216534426, 0.074282779895, -0.26292608... -0.254843   1304   \n",
       "1371   [-0.600134953455, -0.26292608678, -0.431530520... -0.254843   1303   \n",
       "\n",
       "              0    ...            5         6         7         8         9  \\\n",
       "11789 -0.937344    ...    -0.937344 -0.937344 -0.937344 -0.937344 -0.937344   \n",
       "5168   0.074283    ...     0.242887 -0.094322  0.242887  0.242887  0.074283   \n",
       "413   -0.600135    ...    -0.768739 -0.600135 -0.768739 -0.431531 -0.431531   \n",
       "5057  -0.094322    ...    -0.094322 -0.262926  0.411492 -0.262926  0.074283   \n",
       "1371  -0.600135    ...    -0.600135 -0.600135 -0.768739 -0.600135 -0.431531   \n",
       "\n",
       "             10        11        12        13        14  \n",
       "11789 -0.937344 -0.937344 -0.937344 -0.937344 -0.937344  \n",
       "5168   0.074283  0.074283  0.074283  0.411492  0.074283  \n",
       "413   -0.768739 -0.768739  0.074283 -0.262926  0.074283  \n",
       "5057   0.074283 -0.431531 -0.262926 -0.262926 -0.431531  \n",
       "1371  -0.768739 -0.431531 -0.768739 -0.768739 -0.768739  \n",
       "\n",
       "[5 rows x 24 columns]"
      ]
     },
     "execution_count": 2,
     "metadata": {},
     "output_type": "execute_result"
    }
   ],
   "source": [
    "df = pd.read_pickle('data/1min_normalized.pkl')\n",
    "df = df.reset_index()\n",
    "df = df[pd.notnull(df).all(axis=1)]\n",
    "df = df.reindex(np.random.permutation(df.index))\n",
    "df.head()"
   ]
  },
  {
   "cell_type": "code",
   "execution_count": 3,
   "metadata": {
    "collapsed": true
   },
   "outputs": [],
   "source": [
    "def split_dataframe(dataframe, percent):\n",
    "    nb_rows = int(np.floor(percent * len(dataframe)))\n",
    "    return dataframe[:nb_rows], dataframe[nb_rows:]\n",
    "\n",
    "def dataframe_to_xy(df):\n",
    "    return (np.array(df[[0, 1, 2, 3, 4, 5, 6, 7, 8, 9, 10, 11, 12, 13, 14, \\\n",
    "                         'h2s_ref', 'pressure', 'temperature', 'humidity', ]]),\\\n",
    "            np.array(df['so2']))"
   ]
  },
  {
   "cell_type": "code",
   "execution_count": null,
   "metadata": {},
   "outputs": [
    {
     "data": {
      "image/png": "[encoded data removed]",
      "text/plain": [
       "<matplotlib.figure.Figure at 0x107cc9ac8>"
      ]
     },
     "metadata": {},
     "output_type": "display_data"
    },
    {
     "data": {
      "image/png": "[encoded data removed]",
      "text/plain": [
       "<matplotlib.figure.Figure at 0x107dc5080>"
      ]
     },
     "metadata": {},
     "output_type": "display_data"
    },
    {
     "data": {
      "image/png": "[encoded data removed]",
      "text/plain": [
       "<matplotlib.figure.Figure at 0x107a559b0>"
      ]
     },
     "metadata": {},
     "output_type": "display_data"
    }
   ],
   "source": [
    "df_test, df_train = split_dataframe(df, 0.5) \n",
    "df_valid, df_test = split_dataframe(df_test, 0.5)\n",
    "\n",
    "plt.plot(df_train['so2'], 'ro')\n",
    "plt.show()\n",
    "\n",
    "plt.plot(df_valid['so2'], 'ro')\n",
    "plt.show()\n",
    "\n",
    "plt.plot(df_test['so2'], 'ro')\n",
    "plt.show()\n",
    "\n",
    "X_train, y_train = dataframe_to_xy(df_train)\n",
    "X_valid, y_valid = dataframe_to_xy(df_valid)\n",
    "X_test, y_test = dataframe_to_xy(df_test)"
   ]
  },
  {
   "cell_type": "code",
   "execution_count": null,
   "metadata": {},
   "outputs": [
    {
     "name": "stdout",
     "output_type": "stream",
     "text": [
      "[LibSVM][LibSVM][LibSVM][LibSVM][LibSVM][LibSVM][LibSVM][LibSVM][LibSVM][LibSVM][LibSVM][LibSVM][LibSVM][LibSVM][LibSVM][LibSVM][LibSVM][LibSVM][LibSVM][LibSVM][LibSVM][LibSVM][LibSVM][LibSVM][LibSVM][LibSVM][LibSVM][LibSVM][LibSVM][LibSVM][LibSVM][LibSVM][LibSVM][LibSVM][LibSVM][LibSVM][LibSVM][LibSVM][LibSVM][LibSVM][LibSVM][LibSVM][LibSVM][LibSVM][LibSVM][LibSVM][LibSVM][LibSVM][LibSVM][LibSVM][LibSVM][LibSVM][LibSVM][LibSVM][LibSVM][LibSVM][LibSVM][LibSVM][LibSVM][LibSVM][LibSVM][LibSVM][LibSVM][LibSVM][LibSVM][LibSVM][LibSVM][LibSVM][LibSVM][LibSVM][LibSVM][LibSVM][LibSVM][LibSVM][LibSVM][LibSVM][LibSVM][LibSVM][LibSVM][LibSVM][LibSVM][LibSVM][LibSVM][LibSVM][LibSVM][LibSVM][LibSVM][LibSVM][LibSVM][LibSVM][LibSVM][LibSVM][LibSVM][LibSVM][LibSVM][LibSVM][LibSVM][LibSVM][LibSVM]"
     ]
    }
   ],
   "source": [
    "C_grid = np.logspace(1, 3, 10)\n",
    "gamma_grid = np.logspace(-4, -1, 10)\n",
    "\n",
    "scores = np.empty((len(C_grid), len(gamma_grid)))\n",
    "for i in range(len(C_grid)):\n",
    "    for j in range(len(gamma_grid)):\n",
    "        clf = svm.SVR(C=C_grid[i], gamma=gamma_grid[j], verbose=1)\n",
    "        clf.fit(X_train, y_train)\n",
    "        score = clf.score(X_valid, y_valid)\n",
    "        scores[i, j] = score"
   ]
  },
  {
   "cell_type": "code",
   "execution_count": null,
   "metadata": {},
   "outputs": [],
   "source": [
    "ax = sns.heatmap(-scores, cmap=\"YlGnBu\")\n",
    "plt.show()"
   ]
  },
  {
   "cell_type": "code",
   "execution_count": null,
   "metadata": {
    "collapsed": true
   },
   "outputs": [],
   "source": [
    "C_idx, gamma_idx = np.unravel_index(scores.argmax(), scores.shape) # Meilleur résultat en validation\n",
    "clf = svm.SVR(C=C_grid[C_idx], gamma=gamma_grid[gamma_idx])\n",
    "clf.fit(X_train, y_train) \n",
    "err_test = clf.score(X_test, y_test)"
   ]
  },
  {
   "cell_type": "code",
   "execution_count": null,
   "metadata": {},
   "outputs": [],
   "source": [
    "y_pred = clf.predict(X_test)\n",
    "tolerances = np.linspace(0, 1, 10)\n",
    "acc = []\n",
    "for tol in tolerances:\n",
    "    acc.append(np.sum(np.abs(y_pred.flatten() - y_test.flatten()) <= tol) / len(y_test))\n",
    "    \n",
    "plt.figure()\n",
    "plt.title('Précision en fonction de la tolérance')\n",
    "plt.plot(tolerances, acc)\n",
    "plt.show()\n",
    "\n",
    "plt.figure()\n",
    "plt.title('y_pred, y_test')\n",
    "plt.plot(y_pred[:500], '-r')\n",
    "plt.plot(y_test[:500], '--b')\n",
    "plt.savefig(\"svr_so2.svg\")\n",
    "plt.show()"
   ]
  },
  {
   "cell_type": "code",
   "execution_count": null,
   "metadata": {},
   "outputs": [],
   "source": [
    "from keras.models import Sequential\n",
    "from keras.layers import Dense\n",
    "from keras.callbacks import EarlyStopping"
   ]
  },
  {
   "cell_type": "code",
   "execution_count": null,
   "metadata": {
    "collapsed": true
   },
   "outputs": [],
   "source": [
    "def baseline_model(dense_size, input_dim, loss_function, optimizer):\n",
    "    # create model\n",
    "    model = Sequential()\n",
    "    model.add(Dense(dense_size, input_dim=input_dim, kernel_initializer='normal', activation='relu'))\n",
    "    model.add(Dense(1, kernel_initializer='normal'))\n",
    "    # Compile model\n",
    "    model.compile(loss=loss_function, optimizer=optimizer)\n",
    "    model.summary()\n",
    "    return model"
   ]
  },
  {
   "cell_type": "code",
   "execution_count": null,
   "metadata": {},
   "outputs": [],
   "source": [
    "p = 5\n",
    "input_dim = 19\n",
    "models_info = {\n",
    "    'models': {},\n",
    "    'loss_function': 'mse',\n",
    "    'optimizer': 'adagrad',\n",
    "    'name': '1 Layer: {} neurons'\n",
    "}\n",
    "early_stopping = EarlyStopping(monitor='val_loss', verbose=1, mode='auto', patience=3)\n",
    "tolerances = np.linspace(0, 1, 10)\n",
    "\n",
    "for i in range(p):\n",
    "    info_dict = {}\n",
    "\n",
    "    model = baseline_model(2**(i+1), input_dim, 'mse', 'adagrad')\n",
    "    history = model.fit(X_train, y_train, batch_size=5, epochs=100, validation_data=(X_valid, y_valid), callbacks=[early_stopping], verbose=0)\n",
    "    info_dict['loss'] = history.history['loss']\n",
    "    info_dict['val_loss'] = history.history['val_loss']\n",
    "    \n",
    "    info_dict['score'] = model.evaluate(X_test, y_test, batch_size=5)\n",
    "    y_pred = model.predict(X_test)\n",
    "    acc = []\n",
    "    for tol in tolerances:\n",
    "        y_tol = tol*y_train.flatten()\n",
    "        accur = np.sum(np.abs(y_pred.flatten() - y_test.flatten()) <= tol) / len(y_test)\n",
    "        acc.append(accur)\n",
    "    info_dict['accuracies'] = acc\n",
    "    models_info['models'][2**(i+1)] = info_dict"
   ]
  },
  {
   "cell_type": "code",
   "execution_count": null,
   "metadata": {
    "collapsed": true
   },
   "outputs": [],
   "source": [
    "nb_models = len(models_info)\n",
    "for nb_neurons, info_dict in models_info['models'].items():\n",
    "    plt.plot(info_dict['loss'], 'r-')\n",
    "    plt.plot(info_dict['val_loss'], 'b-')\n",
    "    plt.title('Number of neurons: {}'.format(str(nb_neurons)))\n",
    "    plt.show()"
   ]
  },
  {
   "cell_type": "code",
   "execution_count": null,
   "metadata": {
    "collapsed": true
   },
   "outputs": [],
   "source": [
    "input_dim = 19\n",
    "early_stopping = EarlyStopping(monitor='val_loss', verbose=1, mode='auto', patience=10)\n",
    "tolerances = np.linspace(0, 1, 10)\n",
    "model = baseline_model(32, input_dim, 'mse', 'adagrad')\n",
    "hist = model.fit(X_train, y_train, batch_size=5, epochs=1000, validation_data=(X_valid, y_valid), callbacks=[early_stopping], verbose=0)\n",
    "\n",
    "\n",
    "y_pred = model.predict(X_test)\n",
    "acc = []\n",
    "for tol in tolerances:\n",
    "    y_tol = tol*y_train.flatten()\n",
    "    accur = np.sum(np.abs(y_pred.flatten() - y_test.flatten()) <= tol) / len(y_test)\n",
    "    acc.append(accur)\n",
    "\n",
    "\n",
    "\n",
    "\n"
   ]
  },
  {
   "cell_type": "code",
   "execution_count": null,
   "metadata": {
    "collapsed": true
   },
   "outputs": [],
   "source": [
    "plt.plot(hist.history['loss'], 'r-')\n",
    "plt.plot(hist.history['val_loss'], 'b-')\n",
    "plt.show()\n",
    "\n",
    "plt.plot(y_pred, 'r--')\n",
    "plt.plot(y_test, 'b-')\n",
    "plt.savefig(\"nn_so2.svg\")\n",
    "plt.show()"
   ]
  },
  {
   "cell_type": "code",
   "execution_count": null,
   "metadata": {
    "collapsed": true
   },
   "outputs": [],
   "source": []
  }
 ],
 "metadata": {
  "kernelspec": {
   "display_name": "Python 3",
   "language": "python",
   "name": "python3"
  },
  "language_info": {
   "codemirror_mode": {
    "name": "ipython",
    "version": 3
   },
   "file_extension": ".py",
   "mimetype": "text/x-python",
   "name": "python",
   "nbconvert_exporter": "python",
   "pygments_lexer": "ipython3",
   "version": "3.6.1"
  }
 },
 "nbformat": 4,
 "nbformat_minor": 2
}
