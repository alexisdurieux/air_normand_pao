{
 "cells": [
  {
   "cell_type": "code",
   "execution_count": 1,
   "metadata": {},
   "outputs": [
    {
     "name": "stdout",
     "output_type": "stream",
     "text": [
      "/Users/alexis/Documents/air_normand_pao\n"
     ]
    }
   ],
   "source": [
    "import os\n",
    "import numpy as np\n",
    "import pandas as pd\n",
    "import csv\n",
    "\n",
    "print(os.getcwd())\n",
    "CARPOL_1303_DATAFOLDER = 'data/carpol_1303'\n",
    "CARPOL_1304_DATAFOLDER = 'data/carpol_1304'\n",
    "GLOBAL_DATAFOLDER = 'data'\n",
    "\n",
    "labels = {\n",
    "    'date': 'date',\n",
    "    'H2S(ppb)': 'h2s',\n",
    "    'Temperature(°C)': 'temperature',\n",
    "    'RelativeHumidity(%)': 'humidity',\n",
    "    'Patm(hPa)': 'pressure',\n",
    "    'SO2(ppb)': 'so2'\n",
    "}"
   ]
  },
  {
   "cell_type": "code",
   "execution_count": 3,
   "metadata": {},
   "outputs": [
    {
     "data": {
      "text/html": [
       "<div>\n",
       "<style>\n",
       "    .dataframe thead tr:only-child th {\n",
       "        text-align: right;\n",
       "    }\n",
       "\n",
       "    .dataframe thead th {\n",
       "        text-align: left;\n",
       "    }\n",
       "\n",
       "    .dataframe tbody tr th {\n",
       "        vertical-align: top;\n",
       "    }\n",
       "</style>\n",
       "<table border=\"1\" class=\"dataframe\">\n",
       "  <thead>\n",
       "    <tr style=\"text-align: right;\">\n",
       "      <th></th>\n",
       "      <th># CairPol-1303 données 15min</th>\n",
       "    </tr>\n",
       "  </thead>\n",
       "  <tbody>\n",
       "    <tr>\n",
       "      <th>0</th>\n",
       "      <td># Time GMT</td>\n",
       "    </tr>\n",
       "    <tr>\n",
       "      <th>1</th>\n",
       "      <td># date;H2S(ppb);Temperature(°C);RelativeHumidi...</td>\n",
       "    </tr>\n",
       "    <tr>\n",
       "      <th>2</th>\n",
       "      <td>2016-05-23 08:15:00;7.6;24;42;8</td>\n",
       "    </tr>\n",
       "    <tr>\n",
       "      <th>3</th>\n",
       "      <td>2016-05-23 08:30:00;14.1;24;42;15</td>\n",
       "    </tr>\n",
       "    <tr>\n",
       "      <th>4</th>\n",
       "      <td>2016-05-23 08:45:00;14.9;24;42;15</td>\n",
       "    </tr>\n",
       "  </tbody>\n",
       "</table>\n",
       "</div>"
      ],
      "text/plain": [
       "                        # CairPol-1303 données 15min\n",
       "0                                         # Time GMT\n",
       "1  # date;H2S(ppb);Temperature(°C);RelativeHumidi...\n",
       "2                    2016-05-23 08:15:00;7.6;24;42;8\n",
       "3                  2016-05-23 08:30:00;14.1;24;42;15\n",
       "4                  2016-05-23 08:45:00;14.9;24;42;15"
      ]
     },
     "execution_count": 3,
     "metadata": {},
     "output_type": "execute_result"
    }
   ],
   "source": [
    "# Aperçu des csv\n",
    "test_df = pd.read_csv(os.path.join(CARPOL_1303_DATAFOLDER, '1303_15minDataSet.txt'), encoding = \"ISO-8859-1\")\n",
    "test_df.head()"
   ]
  },
  {
   "cell_type": "code",
   "execution_count": 4,
   "metadata": {
    "collapsed": true
   },
   "outputs": [],
   "source": [
    "# On transforme les txt en .csv pour une quesstion pratique\n",
    "\n",
    "def txt_data_to_csv(filename):\n",
    "    csvfile = open(\".\".join([filename.split('.')[0], 'csv']), 'w', newline='')\n",
    "    writer = csv.writer(csvfile, delimiter=',' , quotechar='|', quoting=csv.QUOTE_MINIMAL)\n",
    "    with open(filename, 'r', encoding = \"ISO-8859-1\") as f:\n",
    "        lines = f.readlines()\n",
    "    i = 0\n",
    "    while lines[i][0] == \"#\":\n",
    "        i += 1\n",
    "    header_row = [param.strip() for param in lines[i-1].split(\"#\")[1].split(\";\")]\n",
    "    writer.writerow(header_row)\n",
    "    for line in lines[i:]:\n",
    "        writer.writerow([val.strip() for val in line.split(\";\")])\n",
    "        \n",
    "txt_data_to_csv(os.path.join(CARPOL_1303_DATAFOLDER, '1303_15minDataSet.txt'))\n",
    "txt_data_to_csv(os.path.join(CARPOL_1303_DATAFOLDER, '1303_1minDataSet.txt'))\n",
    "txt_data_to_csv(os.path.join(CARPOL_1304_DATAFOLDER, '1304_15minDataSet.txt'))\n",
    "txt_data_to_csv(os.path.join(CARPOL_1304_DATAFOLDER, '1304_1minDataSet.txt'))\n",
    "txt_data_to_csv(os.path.join(GLOBAL_DATAFOLDER, 'Patm_15minDataSet.txt'))\n",
    "txt_data_to_csv(os.path.join(GLOBAL_DATAFOLDER, 'RefInstrument_15minDataSet.txt'))"
   ]
  },
  {
   "cell_type": "code",
   "execution_count": 99,
   "metadata": {},
   "outputs": [
    {
     "name": "stdout",
     "output_type": "stream",
     "text": [
      "H2S(ppb)    0.7\n",
      "SO2(ppb)    0.4\n",
      "Name: 2016-11-06 15:30:00, dtype: float64\n",
      "0.4\n",
      "                  date   h2s pressure  temperature  humidity n_points so2  \\\n",
      "0  2016-05-23 08:15:00   7.6     1017         24.0      42.0        8   0   \n",
      "1  2016-05-23 08:30:00  14.1     1017         24.0      42.0       15   0   \n",
      "2  2016-05-23 08:45:00  14.9     1017         24.0      42.0       15   0   \n",
      "3  2016-05-23 09:00:00  15.0     1017         24.0      42.0       15   0   \n",
      "4  2016-05-23 09:15:00  14.9     1017         24.0      42.0       15   0   \n",
      "\n",
      "  h2s_ref captor  \n",
      "0     NaN   1303  \n",
      "1     NaN   1303  \n",
      "2     NaN   1303  \n",
      "3     NaN   1303  \n",
      "4       0   1303  \n"
     ]
    }
   ],
   "source": [
    "# Création du pickle (Un peu long donc ne pas lancer à chaque fois) -> Pandas très lent mais utile pour générer le pickle\n",
    "\n",
    "# Inversion des dataframes de données pour accéder aux infos avec la date comme clé\n",
    "df = pd.read_csv(os.path.join(GLOBAL_DATAFOLDER, 'Patm_15minDataSet.csv'))\n",
    "pressures = df.set_index('date').T  # idx 0 -> Patm\n",
    "\n",
    "df = pd.read_csv(os.path.join(GLOBAL_DATAFOLDER, 'RefInstrument_15minDataSet.csv'))\n",
    "references = df.set_index('date').T # idx 0 -> H2S, idx 1 -> SO2\n",
    "print(references['2016-11-06 15:30:00'])\n",
    "print(references['2016-11-06 15:30:00'][1])\n",
    "#print(references['2016-05-23 00:15:00'], pressures['2016-05-23 00:15:00'])\n",
    "#print(references.head())\n",
    "# Création du pickle\n",
    "captors_list_filename = ((os.path.join(CARPOL_1303_DATAFOLDER, '1303_15minDataSet.csv'), 1303), (os.path.join(CARPOL_1304_DATAFOLDER, '1304_15minDataSet.csv'), 1304))\n",
    "\n",
    "out_df = pd.DataFrame(columns=['date','h2s','pressure', 'temperature','humidity','n_points','so2','h2s_ref', 'captor'])\n",
    "\n",
    "#entry[0]date, entry[1] h2s, entry[2] temp, entry[3] humidity, entry[4] npoints\n",
    "i = 0\n",
    "\n",
    "for filename in captors_list_filename:\n",
    "    df = pd.read_csv(filename[0])\n",
    "    #print(df.head())\n",
    "    for row in df.iterrows():\n",
    "        entry = row[1]\n",
    "        try:\n",
    "            date = entry['date']\n",
    "        except:\n",
    "            continue\n",
    "        #print(i)\n",
    "        #print(filename)\n",
    "        try:\n",
    "            ref = references[date]\n",
    "            out_df.loc[i] = [date, entry[1], pressures[date][0], entry[2], entry[3], entry[4], ref[1], ref[0], filename[1]]\n",
    "        except KeyError:\n",
    "            out_df.loc[i] = [date, entry[1], pressures[date][0], entry[2], entry[3], entry[4], \"N\\A\", \"N\\A\", filename[1]]\n",
    "        i += 1\n",
    "        \n",
    "print(out_df.head())\n",
    "out_df.to_pickle('data/data.pkl')"
   ]
  },
  {
   "cell_type": "code",
   "execution_count": 79,
   "metadata": {
    "collapsed": true
   },
   "outputs": [],
   "source": [
    "\"\"\"\n",
    "# On centre et réduit et on save dans chaque csv\n",
    "def normalize_carpol_csv(filename):\n",
    "    df = pd.read_csv(filename)\n",
    "    df.iloc[:, 1:] = test.iloc[:, 1:-1].apply(lambda x: (x - np.mean(x)) / (np.std(x)))\n",
    "    filename_split = filename.split('.')\n",
    "    df.to_csv(\"{}{}.{}\".format(filename_split[0], '_norm', filename_split[1]), index=False)\n",
    "    \n",
    "normalize_carpol_csv(os.path.join(CARPOL_1303_DATAFOLDER, '1303_15minDataSet.csv'))\n",
    "normalize_carpol_csv(os.path.join(CARPOL_1303_DATAFOLDER, '1303_1minDataSet.csv'))\n",
    "normalize_carpol_csv(os.path.join(CARPOL_1304_DATAFOLDER, '1304_15minDataSet.csv'))\n",
    "normalize_carpol_csv(os.path.join(CARPOL_1304_DATAFOLDER, '1304_1minDataSet.csv'))\n",
    "\"\"\""
   ]
  },
  {
   "cell_type": "code",
   "execution_count": 158,
   "metadata": {},
   "outputs": [
    {
     "name": "stdout",
     "output_type": "stream",
     "text": [
      "19445\n",
      "8676\n"
     ]
    },
    {
     "data": {
      "text/html": [
       "<div>\n",
       "<style>\n",
       "    .dataframe thead tr:only-child th {\n",
       "        text-align: right;\n",
       "    }\n",
       "\n",
       "    .dataframe thead th {\n",
       "        text-align: left;\n",
       "    }\n",
       "\n",
       "    .dataframe tbody tr th {\n",
       "        vertical-align: top;\n",
       "    }\n",
       "</style>\n",
       "<table border=\"1\" class=\"dataframe\">\n",
       "  <thead>\n",
       "    <tr style=\"text-align: right;\">\n",
       "      <th></th>\n",
       "      <th>date</th>\n",
       "      <th>h2s</th>\n",
       "      <th>pressure</th>\n",
       "      <th>temperature</th>\n",
       "      <th>humidity</th>\n",
       "      <th>n_points</th>\n",
       "      <th>so2</th>\n",
       "      <th>h2s_ref</th>\n",
       "      <th>captor</th>\n",
       "    </tr>\n",
       "  </thead>\n",
       "  <tbody>\n",
       "    <tr>\n",
       "      <th>4</th>\n",
       "      <td>2016-05-23 09:15:00</td>\n",
       "      <td>1.673433</td>\n",
       "      <td>0.047316</td>\n",
       "      <td>0.996046</td>\n",
       "      <td>-1.610853</td>\n",
       "      <td>15</td>\n",
       "      <td>-0.259294</td>\n",
       "      <td>0</td>\n",
       "      <td>1303</td>\n",
       "    </tr>\n",
       "    <tr>\n",
       "      <th>9</th>\n",
       "      <td>2016-05-23 10:30:00</td>\n",
       "      <td>1.530588</td>\n",
       "      <td>0.202130</td>\n",
       "      <td>0.996046</td>\n",
       "      <td>-1.677224</td>\n",
       "      <td>15</td>\n",
       "      <td>-0.259294</td>\n",
       "      <td>0</td>\n",
       "      <td>1303</td>\n",
       "    </tr>\n",
       "    <tr>\n",
       "      <th>20</th>\n",
       "      <td>2016-05-23 13:15:00</td>\n",
       "      <td>1.637722</td>\n",
       "      <td>0.356944</td>\n",
       "      <td>0.996046</td>\n",
       "      <td>-1.809965</td>\n",
       "      <td>15</td>\n",
       "      <td>-0.259294</td>\n",
       "      <td>0</td>\n",
       "      <td>1303</td>\n",
       "    </tr>\n",
       "    <tr>\n",
       "      <th>25</th>\n",
       "      <td>2016-05-23 14:30:00</td>\n",
       "      <td>1.655577</td>\n",
       "      <td>0.356944</td>\n",
       "      <td>0.996046</td>\n",
       "      <td>-1.809965</td>\n",
       "      <td>15</td>\n",
       "      <td>-0.259294</td>\n",
       "      <td>0.1</td>\n",
       "      <td>1303</td>\n",
       "    </tr>\n",
       "    <tr>\n",
       "      <th>31</th>\n",
       "      <td>2016-05-23 16:00:00</td>\n",
       "      <td>1.566299</td>\n",
       "      <td>0.356944</td>\n",
       "      <td>0.996046</td>\n",
       "      <td>-1.876336</td>\n",
       "      <td>15</td>\n",
       "      <td>-0.259294</td>\n",
       "      <td>0</td>\n",
       "      <td>1303</td>\n",
       "    </tr>\n",
       "  </tbody>\n",
       "</table>\n",
       "</div>"
      ],
      "text/plain": [
       "                   date       h2s  pressure  temperature  humidity n_points  \\\n",
       "4   2016-05-23 09:15:00  1.673433  0.047316     0.996046 -1.610853       15   \n",
       "9   2016-05-23 10:30:00  1.530588  0.202130     0.996046 -1.677224       15   \n",
       "20  2016-05-23 13:15:00  1.637722  0.356944     0.996046 -1.809965       15   \n",
       "25  2016-05-23 14:30:00  1.655577  0.356944     0.996046 -1.809965       15   \n",
       "31  2016-05-23 16:00:00  1.566299  0.356944     0.996046 -1.876336       15   \n",
       "\n",
       "         so2 h2s_ref captor  \n",
       "4  -0.259294       0   1303  \n",
       "9  -0.259294       0   1303  \n",
       "20 -0.259294       0   1303  \n",
       "25 -0.259294     0.1   1303  \n",
       "31 -0.259294       0   1303  "
      ]
     },
     "execution_count": 158,
     "metadata": {},
     "output_type": "execute_result"
    }
   ],
   "source": [
    "# Essai read pickle\n",
    "df = pd.read_pickle('data/data.pkl')\n",
    "data = df[['h2s', 'pressure', 'temperature', 'humidity', 'so2']]\n",
    "df[['h2s', 'pressure', 'temperature', 'humidity', 'so2']] =  data.apply(pd.to_numeric, errors=\"coerce\").apply(lambda x: (x - np.mean(x)) / (np.std(x)))\n",
    "print(len(df))\n",
    "df = df[pd.notnull(df).all(axis=1)] # On ne garde que les données sans NaN etc..\n",
    "print(len(df))\n",
    "df.head()"
   ]
  },
  {
   "cell_type": "code",
   "execution_count": 2,
   "metadata": {},
   "outputs": [],
   "source": [
    "df = pd.read_pickle('data/data.pkl')\n",
    "data = df[['h2s', 'pressure', 'temperature', 'humidity', 'so2', 'h2s_ref']]\n",
    "df[['h2s', 'pressure', 'temperature', 'humidity', 'so2', 'h2s_ref']] =  data.apply(pd.to_numeric, errors=\"coerce\").apply(lambda x: (x - np.mean(x)) / (np.std(x)))\n"
   ]
  },
  {
   "cell_type": "code",
   "execution_count": 7,
   "metadata": {},
   "outputs": [],
   "source": [
    "df.to_pickle('data/data_15min.pkl')"
   ]
  },
  {
   "cell_type": "code",
   "execution_count": null,
   "metadata": {
    "collapsed": true
   },
   "outputs": [],
   "source": []
  }
 ],
 "metadata": {
  "kernelspec": {
   "display_name": "Python 3",
   "language": "python",
   "name": "python3"
  },
  "language_info": {
   "codemirror_mode": {
    "name": "ipython",
    "version": 3
   },
   "file_extension": ".py",
   "mimetype": "text/x-python",
   "name": "python",
   "nbconvert_exporter": "python",
   "pygments_lexer": "ipython3",
   "version": "3.6.1"
  }
 },
 "nbformat": 4,
 "nbformat_minor": 2
}
